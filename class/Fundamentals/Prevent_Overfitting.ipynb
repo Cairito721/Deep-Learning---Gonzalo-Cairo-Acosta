{
 "cells": [
  {
   "cell_type": "markdown",
   "metadata": {},
   "source": [
    "It is highly recommended to use a powerful **GPU**, you can use it for free uploading this notebook to [Google Colab](https://colab.research.google.com/notebooks/intro.ipynb).\n",
    "<table align=\"center\">\n",
    " <td align=\"center\"><a target=\"_blank\" href=\"https://colab.research.google.com/github/ezponda/intro_deep_learning/blob/main/class/Fundamentals/Prevent_Overfitting.ipynb\">\n",
    "        <img src=\"https://i.ibb.co/2P3SLwK/colab.png\"  style=\"padding-bottom:5px;\" />Run in Google Colab</a></td>\n",
    "  <td align=\"center\"><a target=\"_blank\" href=\"https://github.com/ezponda/intro_deep_learning/blob/main/class/Fundamentals/Prevent_Overfitting.ipynb\">\n",
    "        <img src=\"https://i.ibb.co/xfJbPmL/github.png\"  height=\"70px\" style=\"padding-bottom:5px;\"  />View Source on GitHub</a></td>\n",
    "</table>"
   ]
  },
  {
   "cell_type": "markdown",
   "metadata": {},
   "source": [
    "# Prevent Overfitting: Regularization\n"
   ]
  },
  {
   "cell_type": "code",
   "execution_count": 1,
   "metadata": {},
   "outputs": [],
   "source": [
    "import tensorflow as tf\n",
    "import matplotlib.pyplot as plt\n",
    "import pandas as pd\n",
    "from tensorflow import keras\n",
    "from tensorflow.keras import layers"
   ]
  },
  {
   "cell_type": "markdown",
   "metadata": {},
   "source": [
    "We will use the [MNIST dataset](https://en.wikipedia.org/wiki/MNIST_database), consisting of a collection of 28x28 pixel images corresponding in digits from 0 to 9 manuscripts. The purpose of this data set is to train models that recognize handwritten numbers.\n",
    "\n",
    "We will train, therefore, an [OCR (Optical Character Recognition)](https://en.wikipedia.org/wiki/Optical_character_recognition) model for multiclass classification (numbers from 0 to 9)."
   ]
  },
  {
   "cell_type": "code",
   "execution_count": 2,
   "metadata": {},
   "outputs": [],
   "source": [
    "mnist = tf.keras.datasets.mnist\n",
    "(x_train, y_train),(x_test, y_test) = mnist.load_data()"
   ]
  },
  {
   "cell_type": "code",
   "execution_count": 3,
   "metadata": {},
   "outputs": [
    {
     "data": {
      "text/plain": [
       "(28, 28)"
      ]
     },
     "execution_count": 3,
     "metadata": {},
     "output_type": "execute_result"
    }
   ],
   "source": [
    "x_train[0].shape"
   ]
  },
  {
   "cell_type": "markdown",
   "metadata": {},
   "source": [
    "As they are 8-bit images, the colors (in this case only one channel, the gray channel) of each pixel are encoded with a value between 0 and 255, with 0 being black and 255 being white. It is usual to normalize the values to work with a range between 0.0 and 1.0."
   ]
  },
  {
   "cell_type": "code",
   "execution_count": 4,
   "metadata": {},
   "outputs": [],
   "source": [
    "x_train, x_test = x_train / 255.0, x_test / 255.0"
   ]
  },
  {
   "cell_type": "markdown",
   "metadata": {},
   "source": [
    "We visualize a random image of the training set."
   ]
  },
  {
   "cell_type": "code",
   "execution_count": 5,
   "metadata": {},
   "outputs": [
    {
     "data": {
      "image/png": "[encoded data removed]",
      "text/plain": [
       "<Figure size 432x288 with 1 Axes>"
      ]
     },
     "metadata": {
      "needs_background": "light"
     },
     "output_type": "display_data"
    }
   ],
   "source": [
    "import numpy as np\n",
    "\n",
    "i = np.random.randint(0, len(x_train))\n",
    "plt.imshow(x_train[i], cmap='gray')\n",
    "plt.show()"
   ]
  },
  {
   "cell_type": "markdown",
   "metadata": {},
   "source": [
    "We reduce the dataset for  inducing more overfitting"
   ]
  },
  {
   "cell_type": "code",
   "execution_count": 6,
   "metadata": {
    "scrolled": true
   },
   "outputs": [
    {
     "data": {
      "text/plain": [
       "((1200, 28, 28),\n",
       " (1200,),\n",
       " Counter({2: 119,\n",
       "          8: 117,\n",
       "          6: 118,\n",
       "          9: 119,\n",
       "          3: 123,\n",
       "          4: 117,\n",
       "          0: 119,\n",
       "          7: 125,\n",
       "          5: 108,\n",
       "          1: 135}))"
      ]
     },
     "execution_count": 6,
     "metadata": {},
     "output_type": "execute_result"
    }
   ],
   "source": [
    "from sklearn.model_selection import train_test_split\n",
    "# split into train test sets\n",
    "_, x, _, y = train_test_split(\n",
    "    x_train, y_train, test_size=0.02, random_state=1, stratify=y_train)\n",
    "\n",
    "num_classes = 10\n",
    "from collections import Counter \n",
    "x.shape, y.shape, Counter(y)"
   ]
  },
  {
   "cell_type": "markdown",
   "metadata": {},
   "source": [
    "#### Why do we need to use regularization?\n",
    "\n",
    "We are going to assign the classes randomly to each image with random shuffle."
   ]
  },
  {
   "cell_type": "code",
   "execution_count": 7,
   "metadata": {},
   "outputs": [
    {
     "data": {
      "text/plain": [
       "(array([2, 8, 6, 9, 3], dtype=uint8), array([8, 0, 5, 3, 5], dtype=uint8))"
      ]
     },
     "execution_count": 7,
     "metadata": {},
     "output_type": "execute_result"
    }
   ],
   "source": [
    "y_shuffle = np.copy(y)\n",
    "np.random.shuffle(y_shuffle)\n",
    "y[:5], y_shuffle[:5]"
   ]
  },
  {
   "cell_type": "code",
   "execution_count": 8,
   "metadata": {},
   "outputs": [
    {
     "data": {
      "image/png": "[encoded data removed]",
      "text/plain": [
       "<Figure size 648x648 with 9 Axes>"
      ]
     },
     "metadata": {
      "needs_background": "light"
     },
     "output_type": "display_data"
    }
   ],
   "source": [
    "fig, axes = plt.subplots(3, 3, figsize=(9, 9))\n",
    "axes = axes.ravel()\n",
    "\n",
    "for i in np.arange(0, 9):\n",
    "    ind = np.random.randint(len(y_shuffle))\n",
    "    axes[i].imshow(x[ind].reshape(28, 28))\n",
    "    axes[i].set_title(\n",
    "        f\"Digit = {y_shuffle[ind]}\")\n",
    "    axes[i].axis('off')\n",
    "\n",
    "plt.subplots_adjust(wspace=0.3) "
   ]
  },
  {
   "cell_type": "markdown",
   "metadata": {},
   "source": [
    "Lets build a model for learning the new random classes"
   ]
  },
  {
   "cell_type": "code",
   "execution_count": 9,
   "metadata": {},
   "outputs": [],
   "source": [
    "# Input\n",
    "inputs = tf.keras.Input(shape=(28, 28))\n",
    "# Convert the 2D image to a vector\n",
    "flat = layers.Flatten()(inputs)\n",
    "\n",
    "# hidden layer 1\n",
    "l_1 = layers.Dense(64, activation='relu')(flat)\n",
    "# hidden layer 2\n",
    "l_2 = layers.Dense(64, activation='relu')(l_1)\n",
    "# hidden layer 3\n",
    "l_3 = layers.Dense(64, activation='relu')(l_2)\n",
    "\n",
    "# Outputs\n",
    "outputs = layers.Dense(10, activation='softmax')(l_3)\n",
    "\n",
    "# Model definition\n",
    "model = keras.Model(inputs=inputs, outputs=outputs)"
   ]
  },
  {
   "cell_type": "code",
   "execution_count": 10,
   "metadata": {},
   "outputs": [
    {
     "name": "stdout",
     "output_type": "stream",
     "text": [
      "Epoch 1/100\n",
      "19/19 [==============================] - 1s 5ms/step - loss: 2.3129 - accuracy: 0.1080\n",
      "Epoch 2/100\n",
      "19/19 [==============================] - 0s 6ms/step - loss: 2.2895 - accuracy: 0.1301\n",
      "Epoch 3/100\n",
      "19/19 [==============================] - 0s 2ms/step - loss: 2.2556 - accuracy: 0.2196\n",
      "Epoch 4/100\n",
      "19/19 [==============================] - 0s 3ms/step - loss: 2.2293 - accuracy: 0.2093\n",
      "Epoch 5/100\n",
      "19/19 [==============================] - 0s 2ms/step - loss: 2.1672 - accuracy: 0.2485\n",
      "Epoch 6/100\n",
      "19/19 [==============================] - 0s 3ms/step - loss: 2.1065 - accuracy: 0.2769\n",
      "Epoch 7/100\n",
      "19/19 [==============================] - 0s 3ms/step - loss: 2.0198 - accuracy: 0.3229\n",
      "Epoch 8/100\n",
      "19/19 [==============================] - 0s 3ms/step - loss: 1.9508 - accuracy: 0.3550\n",
      "Epoch 9/100\n",
      "19/19 [==============================] - 0s 3ms/step - loss: 1.8573 - accuracy: 0.3925\n",
      "Epoch 10/100\n",
      "19/19 [==============================] - 0s 3ms/step - loss: 1.7605 - accuracy: 0.4266\n",
      "Epoch 11/100\n",
      "19/19 [==============================] - 0s 3ms/step - loss: 1.6832 - accuracy: 0.4541\n",
      "Epoch 12/100\n",
      "19/19 [==============================] - 0s 3ms/step - loss: 1.5427 - accuracy: 0.5132\n",
      "Epoch 13/100\n",
      "19/19 [==============================] - 0s 3ms/step - loss: 1.4752 - accuracy: 0.5367\n",
      "Epoch 14/100\n",
      "19/19 [==============================] - 0s 3ms/step - loss: 1.3561 - accuracy: 0.5814\n",
      "Epoch 15/100\n",
      "19/19 [==============================] - 0s 3ms/step - loss: 1.2440 - accuracy: 0.6185\n",
      "Epoch 16/100\n",
      "19/19 [==============================] - 0s 4ms/step - loss: 1.1383 - accuracy: 0.6726\n",
      "Epoch 17/100\n",
      "19/19 [==============================] - 0s 3ms/step - loss: 1.0623 - accuracy: 0.6961\n",
      "Epoch 18/100\n",
      "19/19 [==============================] - ETA: 0s - loss: 1.0453 - accuracy: 0.68 - 0s 3ms/step - loss: 0.9864 - accuracy: 0.7044\n",
      "Epoch 19/100\n",
      "19/19 [==============================] - 0s 4ms/step - loss: 0.8700 - accuracy: 0.7664\n",
      "Epoch 20/100\n",
      "19/19 [==============================] - 0s 3ms/step - loss: 0.8455 - accuracy: 0.7821\n",
      "Epoch 21/100\n",
      "19/19 [==============================] - 0s 2ms/step - loss: 0.7432 - accuracy: 0.7896\n",
      "Epoch 22/100\n",
      "19/19 [==============================] - 0s 3ms/step - loss: 0.6408 - accuracy: 0.8343\n",
      "Epoch 23/100\n",
      "19/19 [==============================] - 0s 3ms/step - loss: 0.5621 - accuracy: 0.8805\n",
      "Epoch 24/100\n",
      "19/19 [==============================] - 0s 4ms/step - loss: 0.5150 - accuracy: 0.8925\n",
      "Epoch 25/100\n",
      "19/19 [==============================] - 0s 4ms/step - loss: 0.4520 - accuracy: 0.9081\n",
      "Epoch 26/100\n",
      "19/19 [==============================] - 0s 3ms/step - loss: 0.4099 - accuracy: 0.9213\n",
      "Epoch 27/100\n",
      "19/19 [==============================] - 0s 3ms/step - loss: 0.3751 - accuracy: 0.9212\n",
      "Epoch 28/100\n",
      "19/19 [==============================] - 0s 5ms/step - loss: 0.3480 - accuracy: 0.9348\n",
      "Epoch 29/100\n",
      "19/19 [==============================] - 0s 5ms/step - loss: 0.3089 - accuracy: 0.9429\n",
      "Epoch 30/100\n",
      "19/19 [==============================] - 0s 2ms/step - loss: 0.2572 - accuracy: 0.9634\n",
      "Epoch 31/100\n",
      "19/19 [==============================] - 0s 2ms/step - loss: 0.2381 - accuracy: 0.9580\n",
      "Epoch 32/100\n",
      "19/19 [==============================] - 0s 2ms/step - loss: 0.2010 - accuracy: 0.9743\n",
      "Epoch 33/100\n",
      "19/19 [==============================] - 0s 2ms/step - loss: 0.1837 - accuracy: 0.9756\n",
      "Epoch 34/100\n",
      "19/19 [==============================] - 0s 2ms/step - loss: 0.1775 - accuracy: 0.9763\n",
      "Epoch 35/100\n",
      "19/19 [==============================] - 0s 4ms/step - loss: 0.1529 - accuracy: 0.9730\n",
      "Epoch 36/100\n",
      "19/19 [==============================] - 0s 3ms/step - loss: 0.1424 - accuracy: 0.9846\n",
      "Epoch 37/100\n",
      "19/19 [==============================] - 0s 4ms/step - loss: 0.1176 - accuracy: 0.9908: 0s - loss: 0.1145 - accuracy: 0.99\n",
      "Epoch 38/100\n",
      "19/19 [==============================] - 0s 2ms/step - loss: 0.1082 - accuracy: 0.9887\n",
      "Epoch 39/100\n",
      "19/19 [==============================] - 0s 2ms/step - loss: 0.0917 - accuracy: 0.9897\n",
      "Epoch 40/100\n",
      "19/19 [==============================] - 0s 2ms/step - loss: 0.0804 - accuracy: 0.9907\n",
      "Epoch 41/100\n",
      "19/19 [==============================] - 0s 2ms/step - loss: 0.0772 - accuracy: 0.9953\n",
      "Epoch 42/100\n",
      "19/19 [==============================] - 0s 2ms/step - loss: 0.0692 - accuracy: 0.9942\n",
      "Epoch 43/100\n",
      "19/19 [==============================] - 0s 2ms/step - loss: 0.0689 - accuracy: 0.9922\n",
      "Epoch 44/100\n",
      "19/19 [==============================] - 0s 3ms/step - loss: 0.0582 - accuracy: 0.9992\n",
      "Epoch 45/100\n",
      "19/19 [==============================] - 0s 2ms/step - loss: 0.0553 - accuracy: 0.9957\n",
      "Epoch 46/100\n",
      "19/19 [==============================] - 0s 2ms/step - loss: 0.0489 - accuracy: 0.9968\n",
      "Epoch 47/100\n",
      "19/19 [==============================] - 0s 2ms/step - loss: 0.0431 - accuracy: 0.9997\n",
      "Epoch 48/100\n",
      "19/19 [==============================] - 0s 2ms/step - loss: 0.0368 - accuracy: 0.9987\n",
      "Epoch 49/100\n",
      "19/19 [==============================] - 0s 2ms/step - loss: 0.0334 - accuracy: 0.9997\n",
      "Epoch 50/100\n",
      "19/19 [==============================] - 0s 2ms/step - loss: 0.0304 - accuracy: 1.0000\n",
      "Epoch 51/100\n",
      "19/19 [==============================] - 0s 9ms/step - loss: 0.0283 - accuracy: 1.0000\n",
      "Epoch 52/100\n",
      "19/19 [==============================] - 0s 2ms/step - loss: 0.0265 - accuracy: 1.0000\n",
      "Epoch 53/100\n",
      "19/19 [==============================] - 0s 2ms/step - loss: 0.0235 - accuracy: 1.0000\n",
      "Epoch 54/100\n",
      "19/19 [==============================] - 0s 2ms/step - loss: 0.0252 - accuracy: 0.9998\n",
      "Epoch 55/100\n",
      "19/19 [==============================] - 0s 2ms/step - loss: 0.0214 - accuracy: 1.0000\n",
      "Epoch 56/100\n",
      "19/19 [==============================] - 0s 4ms/step - loss: 0.0232 - accuracy: 1.0000\n",
      "Epoch 57/100\n",
      "19/19 [==============================] - 0s 3ms/step - loss: 0.0180 - accuracy: 0.9999\n",
      "Epoch 58/100\n",
      "19/19 [==============================] - 0s 2ms/step - loss: 0.0192 - accuracy: 1.0000\n",
      "Epoch 59/100\n",
      "19/19 [==============================] - 0s 1ms/step - loss: 0.0188 - accuracy: 1.0000\n",
      "Epoch 60/100\n",
      "19/19 [==============================] - 0s 2ms/step - loss: 0.0145 - accuracy: 1.0000\n",
      "Epoch 61/100\n",
      "19/19 [==============================] - 0s 2ms/step - loss: 0.0142 - accuracy: 1.0000\n",
      "Epoch 62/100\n",
      "19/19 [==============================] - 0s 2ms/step - loss: 0.0125 - accuracy: 1.0000\n",
      "Epoch 63/100\n",
      "19/19 [==============================] - 0s 2ms/step - loss: 0.0127 - accuracy: 1.0000\n",
      "Epoch 64/100\n",
      "19/19 [==============================] - 0s 2ms/step - loss: 0.0120 - accuracy: 1.0000\n",
      "Epoch 65/100\n",
      "19/19 [==============================] - 0s 2ms/step - loss: 0.0121 - accuracy: 1.0000\n",
      "Epoch 66/100\n",
      "19/19 [==============================] - 0s 2ms/step - loss: 0.0110 - accuracy: 1.0000\n",
      "Epoch 67/100\n",
      "19/19 [==============================] - 0s 2ms/step - loss: 0.0094 - accuracy: 1.0000\n",
      "Epoch 68/100\n",
      "19/19 [==============================] - 0s 2ms/step - loss: 0.0104 - accuracy: 1.0000\n",
      "Epoch 69/100\n",
      "19/19 [==============================] - 0s 3ms/step - loss: 0.0086 - accuracy: 1.0000\n",
      "Epoch 70/100\n",
      "19/19 [==============================] - 0s 2ms/step - loss: 0.0092 - accuracy: 1.0000\n",
      "Epoch 71/100\n",
      "19/19 [==============================] - 0s 2ms/step - loss: 0.0072 - accuracy: 1.0000\n",
      "Epoch 72/100\n",
      "19/19 [==============================] - 0s 2ms/step - loss: 0.0089 - accuracy: 1.0000\n",
      "Epoch 73/100\n",
      "19/19 [==============================] - 0s 2ms/step - loss: 0.0068 - accuracy: 1.0000\n",
      "Epoch 74/100\n",
      "19/19 [==============================] - 0s 2ms/step - loss: 0.0074 - accuracy: 1.0000\n",
      "Epoch 75/100\n",
      "19/19 [==============================] - 0s 2ms/step - loss: 0.0059 - accuracy: 1.0000\n",
      "Epoch 76/100\n",
      "19/19 [==============================] - 0s 2ms/step - loss: 0.0057 - accuracy: 1.0000\n",
      "Epoch 77/100\n",
      "19/19 [==============================] - 0s 2ms/step - loss: 0.0057 - accuracy: 1.0000\n",
      "Epoch 78/100\n",
      "19/19 [==============================] - 0s 2ms/step - loss: 0.0058 - accuracy: 1.0000\n",
      "Epoch 79/100\n",
      "19/19 [==============================] - 0s 2ms/step - loss: 0.0050 - accuracy: 1.0000\n",
      "Epoch 80/100\n",
      "19/19 [==============================] - 0s 3ms/step - loss: 0.0059 - accuracy: 1.0000\n",
      "Epoch 81/100\n",
      "19/19 [==============================] - 0s 2ms/step - loss: 0.0053 - accuracy: 1.0000\n",
      "Epoch 82/100\n"
     ]
    },
    {
     "name": "stdout",
     "output_type": "stream",
     "text": [
      "19/19 [==============================] - 0s 2ms/step - loss: 0.0050 - accuracy: 1.0000\n",
      "Epoch 83/100\n",
      "19/19 [==============================] - 0s 2ms/step - loss: 0.0042 - accuracy: 1.0000\n",
      "Epoch 84/100\n",
      "19/19 [==============================] - 0s 2ms/step - loss: 0.0047 - accuracy: 1.0000\n",
      "Epoch 85/100\n",
      "19/19 [==============================] - 0s 2ms/step - loss: 0.0045 - accuracy: 1.0000\n",
      "Epoch 86/100\n",
      "19/19 [==============================] - 0s 2ms/step - loss: 0.0041 - accuracy: 1.0000\n",
      "Epoch 87/100\n",
      "19/19 [==============================] - 0s 3ms/step - loss: 0.0043 - accuracy: 1.0000\n",
      "Epoch 88/100\n",
      "19/19 [==============================] - 0s 2ms/step - loss: 0.0043 - accuracy: 1.0000\n",
      "Epoch 89/100\n",
      "19/19 [==============================] - 0s 2ms/step - loss: 0.0038 - accuracy: 1.0000\n",
      "Epoch 90/100\n",
      "19/19 [==============================] - 0s 2ms/step - loss: 0.0036 - accuracy: 1.0000\n",
      "Epoch 91/100\n",
      "19/19 [==============================] - 0s 2ms/step - loss: 0.0036 - accuracy: 1.0000\n",
      "Epoch 92/100\n",
      "19/19 [==============================] - 0s 2ms/step - loss: 0.0030 - accuracy: 1.0000\n",
      "Epoch 93/100\n",
      "19/19 [==============================] - 0s 2ms/step - loss: 0.0032 - accuracy: 1.0000\n",
      "Epoch 94/100\n",
      "19/19 [==============================] - 0s 2ms/step - loss: 0.0033 - accuracy: 1.0000\n",
      "Epoch 95/100\n",
      "19/19 [==============================] - 0s 2ms/step - loss: 0.0032 - accuracy: 1.0000\n",
      "Epoch 96/100\n",
      "19/19 [==============================] - 0s 2ms/step - loss: 0.0028 - accuracy: 1.0000\n",
      "Epoch 97/100\n",
      "19/19 [==============================] - 0s 2ms/step - loss: 0.0029 - accuracy: 1.0000\n",
      "Epoch 98/100\n",
      "19/19 [==============================] - 0s 2ms/step - loss: 0.0027 - accuracy: 1.0000\n",
      "Epoch 99/100\n",
      "19/19 [==============================] - 0s 2ms/step - loss: 0.0027 - accuracy: 1.0000\n",
      "Epoch 100/100\n",
      "19/19 [==============================] - 0s 2ms/step - loss: 0.0028 - accuracy: 1.0000\n"
     ]
    }
   ],
   "source": [
    "model.compile(optimizer='adam',\n",
    "              loss='sparse_categorical_crossentropy',\n",
    "              metrics=['accuracy'])\n",
    "history = model.fit(\n",
    "    x,\n",
    "    y_shuffle,\n",
    "    batch_size=64,\n",
    "    epochs=100,\n",
    "    shuffle=True\n",
    ")"
   ]
  },
  {
   "cell_type": "code",
   "execution_count": 11,
   "metadata": {},
   "outputs": [
    {
     "name": "stdout",
     "output_type": "stream",
     "text": [
      "Train Accuracy: 1.0\n"
     ]
    }
   ],
   "source": [
    "results = model.evaluate(x, y_shuffle, verbose=0)\n",
    "print('Train Accuracy: {}'.format(results[1]))"
   ]
  },
  {
   "cell_type": "code",
   "execution_count": 12,
   "metadata": {},
   "outputs": [
    {
     "data": {
      "image/png": "[encoded data removed]",
      "text/plain": [
       "<Figure size 648x648 with 9 Axes>"
      ]
     },
     "metadata": {
      "needs_background": "light"
     },
     "output_type": "display_data"
    }
   ],
   "source": [
    "fig, axes = plt.subplots(3, 3, figsize=(9, 9))\n",
    "axes = axes.ravel()\n",
    "\n",
    "for i in np.arange(0, 9):\n",
    "    ind = np.random.randint(len(y_shuffle))\n",
    "    pred_pobs = model.predict(np.expand_dims(x[ind], 0)).flatten()\n",
    "    pred_class = np.argmax(pred_pobs)\n",
    "    prob = np.max(pred_pobs)\n",
    "    axes[i].imshow(x[ind].reshape(28, 28))\n",
    "    axes[i].set_title(\n",
    "        f\"Digit = {y_shuffle[ind]} \\n Prediction={pred_class} , Prob={prob:.4f}\")\n",
    "    axes[i].axis('off')\n",
    "\n",
    "plt.subplots_adjust(wspace=0.5) "
   ]
  },
  {
   "cell_type": "markdown",
   "metadata": {},
   "source": [
    "We can see that the model has fully fitted the training set. It practically does not matter what data you introduce into the neural network, it will almost always fit. The objective is not to fit the training set, it is to **GENERALIZE**."
   ]
  },
  {
   "cell_type": "markdown",
   "metadata": {},
   "source": [
    "#### Regularization for preventing overfitting\n",
    "\n",
    "To get the model to **generalize**, we can use one of the numerous regularization techniques"
   ]
  },
  {
   "cell_type": "markdown",
   "metadata": {},
   "source": [
    "We build a model consisting of:\n",
    "\n",
    "- Input with dimension (28,28)\n",
    "- Flatten layer\n",
    "- Dense hidden  layer with 256 neurons and ReLU as activation function\n",
    "- Second dense hidden layer with 128 neurons and ReLU as activation function\n",
    "- Third dense  hidden layer with 128 neurons and ReLU as activation function\n",
    "- Output layer with a single neuron that implements the sigmoid function."
   ]
  },
  {
   "cell_type": "code",
   "execution_count": 13,
   "metadata": {},
   "outputs": [],
   "source": [
    "# Input\n",
    "inputs = tf.keras.Input(shape=(28,28), name='input_layer')  \n",
    "# Convert the 2D image to a vector\n",
    "flat = layers.Flatten()(inputs)\n",
    "\n",
    "# hidden layer 1\n",
    "l_1 = layers.Dense(256, activation='relu', name='layer_1')(flat)  \n",
    "# hidden layer 2\n",
    "l_2 = layers.Dense(128, activation='relu', name='layer_2')(l_1)  \n",
    "# hidden layer 3\n",
    "l_3 = layers.Dense(128, activation='relu', name='layer_3')(l_2)  \n",
    "\n",
    "# Outputs\n",
    "outputs = layers.Dense(num_classes, activation='softmax', name='output_layer')(l_3)  \n",
    "\n",
    "# Model definition\n",
    "model = keras.Model(inputs=inputs, outputs=outputs, name='dont_overfit_model')"
   ]
  },
  {
   "cell_type": "code",
   "execution_count": 14,
   "metadata": {},
   "outputs": [
    {
     "name": "stdout",
     "output_type": "stream",
     "text": [
      "Model: \"dont_overfit_model\"\n",
      "_________________________________________________________________\n",
      "Layer (type)                 Output Shape              Param #   \n",
      "=================================================================\n",
      "input_layer (InputLayer)     [(None, 28, 28)]          0         \n",
      "_________________________________________________________________\n",
      "flatten_1 (Flatten)          (None, 784)               0         \n",
      "_________________________________________________________________\n",
      "layer_1 (Dense)              (None, 256)               200960    \n",
      "_________________________________________________________________\n",
      "layer_2 (Dense)              (None, 128)               32896     \n",
      "_________________________________________________________________\n",
      "layer_3 (Dense)              (None, 128)               16512     \n",
      "_________________________________________________________________\n",
      "output_layer (Dense)         (None, 10)                1290      \n",
      "=================================================================\n",
      "Total params: 251,658\n",
      "Trainable params: 251,658\n",
      "Non-trainable params: 0\n",
      "_________________________________________________________________\n"
     ]
    }
   ],
   "source": [
    "model.summary()"
   ]
  },
  {
   "cell_type": "markdown",
   "metadata": {},
   "source": [
    "We define the following configuration for training:\n",
    "- **optimizer**: adam\n",
    "- **loss function**: binary crossentropy\n",
    "- **metrics**: accuracy"
   ]
  },
  {
   "cell_type": "code",
   "execution_count": 15,
   "metadata": {},
   "outputs": [],
   "source": [
    "model.compile(optimizer='adam',\n",
    "              loss='sparse_categorical_crossentropy',\n",
    "              metrics=['accuracy'])"
   ]
  },
  {
   "cell_type": "code",
   "execution_count": 16,
   "metadata": {},
   "outputs": [
    {
     "name": "stdout",
     "output_type": "stream",
     "text": [
      "Epoch 1/100\n",
      "15/15 [==============================] - 1s 59ms/step - loss: 2.0320 - accuracy: 0.3290 - val_loss: 1.0344 - val_accuracy: 0.7958\n",
      "Epoch 2/100\n",
      "15/15 [==============================] - 0s 10ms/step - loss: 0.8205 - accuracy: 0.7984 - val_loss: 0.5036 - val_accuracy: 0.8250\n",
      "Epoch 3/100\n",
      "15/15 [==============================] - 0s 9ms/step - loss: 0.3473 - accuracy: 0.8995 - val_loss: 0.4359 - val_accuracy: 0.8750\n",
      "Epoch 4/100\n",
      "15/15 [==============================] - 0s 6ms/step - loss: 0.2532 - accuracy: 0.9252 - val_loss: 0.3984 - val_accuracy: 0.8875\n",
      "Epoch 5/100\n",
      "15/15 [==============================] - 0s 8ms/step - loss: 0.1691 - accuracy: 0.9555 - val_loss: 0.3552 - val_accuracy: 0.8917\n",
      "Epoch 6/100\n",
      "15/15 [==============================] - 0s 11ms/step - loss: 0.1446 - accuracy: 0.9574 - val_loss: 0.3939 - val_accuracy: 0.9042\n",
      "Epoch 7/100\n",
      "15/15 [==============================] - 0s 12ms/step - loss: 0.0902 - accuracy: 0.9851 - val_loss: 0.4210 - val_accuracy: 0.8792\n",
      "Epoch 8/100\n",
      "15/15 [==============================] - 0s 5ms/step - loss: 0.0690 - accuracy: 0.9931 - val_loss: 0.3895 - val_accuracy: 0.8875\n",
      "Epoch 9/100\n",
      "15/15 [==============================] - 0s 7ms/step - loss: 0.0381 - accuracy: 1.0000 - val_loss: 0.3734 - val_accuracy: 0.8958\n",
      "Epoch 10/100\n",
      "15/15 [==============================] - 0s 7ms/step - loss: 0.0220 - accuracy: 1.0000 - val_loss: 0.3956 - val_accuracy: 0.8875\n",
      "Epoch 11/100\n",
      "15/15 [==============================] - 0s 7ms/step - loss: 0.0194 - accuracy: 1.0000 - val_loss: 0.4193 - val_accuracy: 0.8917\n",
      "Epoch 12/100\n",
      "15/15 [==============================] - 0s 7ms/step - loss: 0.0127 - accuracy: 1.0000 - val_loss: 0.3969 - val_accuracy: 0.8958\n",
      "Epoch 13/100\n",
      "15/15 [==============================] - 0s 8ms/step - loss: 0.0095 - accuracy: 1.0000 - val_loss: 0.4098 - val_accuracy: 0.9000\n",
      "Epoch 14/100\n",
      "15/15 [==============================] - 0s 7ms/step - loss: 0.0072 - accuracy: 1.0000 - val_loss: 0.4252 - val_accuracy: 0.8917\n",
      "Epoch 15/100\n",
      "15/15 [==============================] - 0s 6ms/step - loss: 0.0060 - accuracy: 1.0000 - val_loss: 0.4271 - val_accuracy: 0.8958\n",
      "Epoch 16/100\n",
      "15/15 [==============================] - 0s 8ms/step - loss: 0.0053 - accuracy: 1.0000 - val_loss: 0.4356 - val_accuracy: 0.8958\n",
      "Epoch 17/100\n",
      "15/15 [==============================] - 0s 7ms/step - loss: 0.0048 - accuracy: 1.0000 - val_loss: 0.4356 - val_accuracy: 0.8875\n",
      "Epoch 18/100\n",
      "15/15 [==============================] - 0s 8ms/step - loss: 0.0038 - accuracy: 1.0000 - val_loss: 0.4431 - val_accuracy: 0.8917\n",
      "Epoch 19/100\n",
      "15/15 [==============================] - 0s 7ms/step - loss: 0.0034 - accuracy: 1.0000 - val_loss: 0.4477 - val_accuracy: 0.8917\n",
      "Epoch 20/100\n",
      "15/15 [==============================] - 0s 7ms/step - loss: 0.0028 - accuracy: 1.0000 - val_loss: 0.4558 - val_accuracy: 0.8917\n",
      "Epoch 21/100\n",
      "15/15 [==============================] - 0s 6ms/step - loss: 0.0029 - accuracy: 1.0000 - val_loss: 0.4571 - val_accuracy: 0.8917\n",
      "Epoch 22/100\n",
      "15/15 [==============================] - 0s 9ms/step - loss: 0.0024 - accuracy: 1.0000 - val_loss: 0.4608 - val_accuracy: 0.8875\n",
      "Epoch 23/100\n",
      "15/15 [==============================] - 0s 13ms/step - loss: 0.0020 - accuracy: 1.0000 - val_loss: 0.4621 - val_accuracy: 0.8875\n",
      "Epoch 24/100\n",
      "15/15 [==============================] - 0s 4ms/step - loss: 0.0020 - accuracy: 1.0000 - val_loss: 0.4681 - val_accuracy: 0.8875\n",
      "Epoch 25/100\n",
      "15/15 [==============================] - 0s 5ms/step - loss: 0.0018 - accuracy: 1.0000 - val_loss: 0.4702 - val_accuracy: 0.8875\n",
      "Epoch 26/100\n",
      "15/15 [==============================] - 0s 4ms/step - loss: 0.0016 - accuracy: 1.0000 - val_loss: 0.4752 - val_accuracy: 0.8875\n",
      "Epoch 27/100\n",
      "15/15 [==============================] - 0s 9ms/step - loss: 0.0015 - accuracy: 1.0000 - val_loss: 0.4800 - val_accuracy: 0.8875\n",
      "Epoch 28/100\n",
      "15/15 [==============================] - 0s 7ms/step - loss: 0.0015 - accuracy: 1.0000 - val_loss: 0.4784 - val_accuracy: 0.8875\n",
      "Epoch 29/100\n",
      "15/15 [==============================] - 0s 17ms/step - loss: 0.0013 - accuracy: 1.0000 - val_loss: 0.4871 - val_accuracy: 0.8875\n",
      "Epoch 30/100\n",
      "15/15 [==============================] - 0s 24ms/step - loss: 0.0011 - accuracy: 1.0000 - val_loss: 0.4886 - val_accuracy: 0.8875\n",
      "Epoch 31/100\n",
      "15/15 [==============================] - 0s 6ms/step - loss: 0.0011 - accuracy: 1.0000 - val_loss: 0.4934 - val_accuracy: 0.8875\n",
      "Epoch 32/100\n",
      "15/15 [==============================] - 0s 5ms/step - loss: 9.2833e-04 - accuracy: 1.0000 - val_loss: 0.4955 - val_accuracy: 0.8833\n",
      "Epoch 33/100\n",
      "15/15 [==============================] - 0s 7ms/step - loss: 9.5051e-04 - accuracy: 1.0000 - val_loss: 0.4995 - val_accuracy: 0.8875\n",
      "Epoch 34/100\n",
      "15/15 [==============================] - 0s 11ms/step - loss: 8.7413e-04 - accuracy: 1.0000 - val_loss: 0.4980 - val_accuracy: 0.8875\n",
      "Epoch 35/100\n",
      "15/15 [==============================] - 0s 7ms/step - loss: 7.7011e-04 - accuracy: 1.0000 - val_loss: 0.5051 - val_accuracy: 0.8875\n",
      "Epoch 36/100\n",
      "15/15 [==============================] - 0s 6ms/step - loss: 7.7338e-04 - accuracy: 1.0000 - val_loss: 0.5033 - val_accuracy: 0.8875\n",
      "Epoch 37/100\n",
      "15/15 [==============================] - 0s 6ms/step - loss: 6.6086e-04 - accuracy: 1.0000 - val_loss: 0.5092 - val_accuracy: 0.8875\n",
      "Epoch 38/100\n",
      "15/15 [==============================] - 0s 8ms/step - loss: 6.6871e-04 - accuracy: 1.0000 - val_loss: 0.5124 - val_accuracy: 0.8875\n",
      "Epoch 39/100\n",
      "15/15 [==============================] - 0s 6ms/step - loss: 6.5142e-04 - accuracy: 1.0000 - val_loss: 0.5134 - val_accuracy: 0.8833\n",
      "Epoch 40/100\n",
      "15/15 [==============================] - 0s 5ms/step - loss: 6.3626e-04 - accuracy: 1.0000 - val_loss: 0.5155 - val_accuracy: 0.8833\n",
      "Epoch 41/100\n",
      "15/15 [==============================] - 0s 5ms/step - loss: 6.0080e-04 - accuracy: 1.0000 - val_loss: 0.5192 - val_accuracy: 0.8875\n",
      "Epoch 42/100\n",
      "15/15 [==============================] - 0s 7ms/step - loss: 5.2458e-04 - accuracy: 1.0000 - val_loss: 0.5193 - val_accuracy: 0.8833\n",
      "Epoch 43/100\n",
      "15/15 [==============================] - 0s 7ms/step - loss: 4.8921e-04 - accuracy: 1.0000 - val_loss: 0.5238 - val_accuracy: 0.8833\n",
      "Epoch 44/100\n",
      "15/15 [==============================] - 0s 6ms/step - loss: 4.7347e-04 - accuracy: 1.0000 - val_loss: 0.5234 - val_accuracy: 0.8833\n",
      "Epoch 45/100\n",
      "15/15 [==============================] - 0s 5ms/step - loss: 4.6600e-04 - accuracy: 1.0000 - val_loss: 0.5277 - val_accuracy: 0.8833\n",
      "Epoch 46/100\n",
      "15/15 [==============================] - 0s 10ms/step - loss: 4.1514e-04 - accuracy: 1.0000 - val_loss: 0.5283 - val_accuracy: 0.8833\n",
      "Epoch 47/100\n",
      "15/15 [==============================] - 0s 5ms/step - loss: 4.1616e-04 - accuracy: 1.0000 - val_loss: 0.5343 - val_accuracy: 0.8833\n",
      "Epoch 48/100\n",
      "15/15 [==============================] - 0s 6ms/step - loss: 3.9058e-04 - accuracy: 1.0000 - val_loss: 0.5329 - val_accuracy: 0.8875\n",
      "Epoch 49/100\n",
      "15/15 [==============================] - 0s 6ms/step - loss: 3.8979e-04 - accuracy: 1.0000 - val_loss: 0.5358 - val_accuracy: 0.8833\n",
      "Epoch 50/100\n",
      "15/15 [==============================] - 0s 7ms/step - loss: 3.4106e-04 - accuracy: 1.0000 - val_loss: 0.5405 - val_accuracy: 0.8875\n",
      "Epoch 51/100\n",
      "15/15 [==============================] - 0s 5ms/step - loss: 3.5117e-04 - accuracy: 1.0000 - val_loss: 0.5384 - val_accuracy: 0.8875\n",
      "Epoch 52/100\n",
      "15/15 [==============================] - 0s 5ms/step - loss: 3.1554e-04 - accuracy: 1.0000 - val_loss: 0.5414 - val_accuracy: 0.8875\n",
      "Epoch 53/100\n",
      "15/15 [==============================] - 0s 6ms/step - loss: 2.9872e-04 - accuracy: 1.0000 - val_loss: 0.5446 - val_accuracy: 0.8875\n",
      "Epoch 54/100\n",
      "15/15 [==============================] - 0s 6ms/step - loss: 3.2334e-04 - accuracy: 1.0000 - val_loss: 0.5430 - val_accuracy: 0.8875\n",
      "Epoch 55/100\n",
      "15/15 [==============================] - 0s 5ms/step - loss: 2.9230e-04 - accuracy: 1.0000 - val_loss: 0.5487 - val_accuracy: 0.8875\n",
      "Epoch 56/100\n",
      "15/15 [==============================] - 0s 5ms/step - loss: 2.7385e-04 - accuracy: 1.0000 - val_loss: 0.5475 - val_accuracy: 0.8875\n",
      "Epoch 57/100\n",
      "15/15 [==============================] - 0s 5ms/step - loss: 2.4031e-04 - accuracy: 1.0000 - val_loss: 0.5518 - val_accuracy: 0.8875\n"
     ]
    },
    {
     "name": "stdout",
     "output_type": "stream",
     "text": [
      "Epoch 58/100\n",
      "15/15 [==============================] - 0s 7ms/step - loss: 2.5841e-04 - accuracy: 1.0000 - val_loss: 0.5541 - val_accuracy: 0.8875\n",
      "Epoch 59/100\n",
      "15/15 [==============================] - 0s 5ms/step - loss: 2.4954e-04 - accuracy: 1.0000 - val_loss: 0.5522 - val_accuracy: 0.8875\n",
      "Epoch 60/100\n",
      "15/15 [==============================] - 0s 5ms/step - loss: 2.1687e-04 - accuracy: 1.0000 - val_loss: 0.5562 - val_accuracy: 0.8875\n",
      "Epoch 61/100\n",
      "15/15 [==============================] - 0s 5ms/step - loss: 2.2470e-04 - accuracy: 1.0000 - val_loss: 0.5545 - val_accuracy: 0.8875\n",
      "Epoch 62/100\n",
      "15/15 [==============================] - 0s 5ms/step - loss: 2.1714e-04 - accuracy: 1.0000 - val_loss: 0.5593 - val_accuracy: 0.8875\n",
      "Epoch 63/100\n",
      "15/15 [==============================] - 0s 6ms/step - loss: 2.3414e-04 - accuracy: 1.0000 - val_loss: 0.5598 - val_accuracy: 0.8875\n",
      "Epoch 64/100\n",
      "15/15 [==============================] - 0s 5ms/step - loss: 1.9416e-04 - accuracy: 1.0000 - val_loss: 0.5610 - val_accuracy: 0.8875\n",
      "Epoch 65/100\n",
      "15/15 [==============================] - 0s 5ms/step - loss: 1.7616e-04 - accuracy: 1.0000 - val_loss: 0.5626 - val_accuracy: 0.8875\n",
      "Epoch 66/100\n",
      "15/15 [==============================] - 0s 5ms/step - loss: 1.7346e-04 - accuracy: 1.0000 - val_loss: 0.5651 - val_accuracy: 0.8875\n",
      "Epoch 67/100\n",
      "15/15 [==============================] - 0s 6ms/step - loss: 1.7321e-04 - accuracy: 1.0000 - val_loss: 0.5653 - val_accuracy: 0.8875\n",
      "Epoch 68/100\n",
      "15/15 [==============================] - 0s 5ms/step - loss: 1.6742e-04 - accuracy: 1.0000 - val_loss: 0.5661 - val_accuracy: 0.8875\n",
      "Epoch 69/100\n",
      "15/15 [==============================] - 0s 8ms/step - loss: 1.6170e-04 - accuracy: 1.0000 - val_loss: 0.5699 - val_accuracy: 0.8875\n",
      "Epoch 70/100\n",
      "15/15 [==============================] - 0s 5ms/step - loss: 1.5295e-04 - accuracy: 1.0000 - val_loss: 0.5672 - val_accuracy: 0.8875\n",
      "Epoch 71/100\n",
      "15/15 [==============================] - 0s 7ms/step - loss: 1.4931e-04 - accuracy: 1.0000 - val_loss: 0.5705 - val_accuracy: 0.8875\n",
      "Epoch 72/100\n",
      "15/15 [==============================] - 0s 7ms/step - loss: 1.4658e-04 - accuracy: 1.0000 - val_loss: 0.5737 - val_accuracy: 0.8875\n",
      "Epoch 73/100\n",
      "15/15 [==============================] - 0s 7ms/step - loss: 1.4837e-04 - accuracy: 1.0000 - val_loss: 0.5724 - val_accuracy: 0.8875\n",
      "Epoch 74/100\n",
      "15/15 [==============================] - 0s 6ms/step - loss: 1.4459e-04 - accuracy: 1.0000 - val_loss: 0.5756 - val_accuracy: 0.8875\n",
      "Epoch 75/100\n",
      "15/15 [==============================] - 0s 5ms/step - loss: 1.3436e-04 - accuracy: 1.0000 - val_loss: 0.5765 - val_accuracy: 0.8875\n",
      "Epoch 76/100\n",
      "15/15 [==============================] - 0s 6ms/step - loss: 1.3812e-04 - accuracy: 1.0000 - val_loss: 0.5759 - val_accuracy: 0.8875\n",
      "Epoch 77/100\n",
      "15/15 [==============================] - 0s 6ms/step - loss: 1.2322e-04 - accuracy: 1.0000 - val_loss: 0.5782 - val_accuracy: 0.8875\n",
      "Epoch 78/100\n",
      "15/15 [==============================] - 0s 5ms/step - loss: 1.1267e-04 - accuracy: 1.0000 - val_loss: 0.5789 - val_accuracy: 0.8875\n",
      "Epoch 79/100\n",
      "15/15 [==============================] - 0s 5ms/step - loss: 1.1885e-04 - accuracy: 1.0000 - val_loss: 0.5803 - val_accuracy: 0.8875\n",
      "Epoch 80/100\n",
      "15/15 [==============================] - 0s 5ms/step - loss: 1.1556e-04 - accuracy: 1.0000 - val_loss: 0.5809 - val_accuracy: 0.8875\n",
      "Epoch 81/100\n",
      "15/15 [==============================] - 0s 5ms/step - loss: 1.1516e-04 - accuracy: 1.0000 - val_loss: 0.5846 - val_accuracy: 0.8833\n",
      "Epoch 82/100\n",
      "15/15 [==============================] - 0s 6ms/step - loss: 1.0333e-04 - accuracy: 1.0000 - val_loss: 0.5827 - val_accuracy: 0.8833\n",
      "Epoch 83/100\n",
      "15/15 [==============================] - 0s 6ms/step - loss: 1.0184e-04 - accuracy: 1.0000 - val_loss: 0.5840 - val_accuracy: 0.8875\n",
      "Epoch 84/100\n",
      "15/15 [==============================] - 0s 7ms/step - loss: 9.6565e-05 - accuracy: 1.0000 - val_loss: 0.5875 - val_accuracy: 0.8833\n",
      "Epoch 85/100\n",
      "15/15 [==============================] - 0s 5ms/step - loss: 1.0532e-04 - accuracy: 1.0000 - val_loss: 0.5862 - val_accuracy: 0.8833\n",
      "Epoch 86/100\n",
      "15/15 [==============================] - 0s 5ms/step - loss: 1.0176e-04 - accuracy: 1.0000 - val_loss: 0.5908 - val_accuracy: 0.8833\n",
      "Epoch 87/100\n",
      "15/15 [==============================] - 0s 5ms/step - loss: 9.6343e-05 - accuracy: 1.0000 - val_loss: 0.5905 - val_accuracy: 0.8833\n",
      "Epoch 88/100\n",
      "15/15 [==============================] - 0s 5ms/step - loss: 9.0371e-05 - accuracy: 1.0000 - val_loss: 0.5911 - val_accuracy: 0.8833\n",
      "Epoch 89/100\n",
      "15/15 [==============================] - 0s 6ms/step - loss: 8.7853e-05 - accuracy: 1.0000 - val_loss: 0.5916 - val_accuracy: 0.8833\n",
      "Epoch 90/100\n",
      "15/15 [==============================] - 0s 6ms/step - loss: 9.4507e-05 - accuracy: 1.0000 - val_loss: 0.5920 - val_accuracy: 0.8833\n",
      "Epoch 91/100\n",
      "15/15 [==============================] - 0s 6ms/step - loss: 8.5533e-05 - accuracy: 1.0000 - val_loss: 0.5967 - val_accuracy: 0.8833\n",
      "Epoch 92/100\n",
      "15/15 [==============================] - 0s 5ms/step - loss: 8.0637e-05 - accuracy: 1.0000 - val_loss: 0.5960 - val_accuracy: 0.8833\n",
      "Epoch 93/100\n",
      "15/15 [==============================] - 0s 6ms/step - loss: 7.8847e-05 - accuracy: 1.0000 - val_loss: 0.5961 - val_accuracy: 0.8833\n",
      "Epoch 94/100\n",
      "15/15 [==============================] - 0s 6ms/step - loss: 8.3913e-05 - accuracy: 1.0000 - val_loss: 0.5974 - val_accuracy: 0.8833\n",
      "Epoch 95/100\n",
      "15/15 [==============================] - 0s 8ms/step - loss: 7.9422e-05 - accuracy: 1.0000 - val_loss: 0.5987 - val_accuracy: 0.8833\n",
      "Epoch 96/100\n",
      "15/15 [==============================] - 0s 7ms/step - loss: 7.7146e-05 - accuracy: 1.0000 - val_loss: 0.5998 - val_accuracy: 0.8833\n",
      "Epoch 97/100\n",
      "15/15 [==============================] - 0s 7ms/step - loss: 7.1843e-05 - accuracy: 1.0000 - val_loss: 0.6004 - val_accuracy: 0.8833\n",
      "Epoch 98/100\n",
      "15/15 [==============================] - 0s 5ms/step - loss: 6.8325e-05 - accuracy: 1.0000 - val_loss: 0.6012 - val_accuracy: 0.8833\n",
      "Epoch 99/100\n",
      "15/15 [==============================] - 0s 6ms/step - loss: 6.8346e-05 - accuracy: 1.0000 - val_loss: 0.6043 - val_accuracy: 0.8833\n",
      "Epoch 100/100\n",
      "15/15 [==============================] - 0s 8ms/step - loss: 7.2667e-05 - accuracy: 1.0000 - val_loss: 0.6015 - val_accuracy: 0.8833\n"
     ]
    }
   ],
   "source": [
    "history = model.fit(\n",
    "    x,\n",
    "    y,\n",
    "    batch_size=64,\n",
    "    epochs=100,\n",
    "    validation_split=0.2,\n",
    "    shuffle=True\n",
    ")"
   ]
  },
  {
   "cell_type": "code",
   "execution_count": 17,
   "metadata": {},
   "outputs": [
    {
     "name": "stdout",
     "output_type": "stream",
     "text": [
      "Test Loss: 0.564452052116394\n",
      "Test Accuracy: 0.9035000205039978\n"
     ]
    }
   ],
   "source": [
    "results = model.evaluate(x_test, y_test, verbose=0)\n",
    "print('Test Loss: {}'.format(results[0]))\n",
    "print('Test Accuracy: {}'.format(results[1]))"
   ]
  },
  {
   "cell_type": "markdown",
   "metadata": {},
   "source": [
    "We visualize the evolution of the values in each epoch of the loss function and accuracy."
   ]
  },
  {
   "cell_type": "code",
   "execution_count": 18,
   "metadata": {},
   "outputs": [],
   "source": [
    "hist = pd.DataFrame(history.history)\n",
    "hist['epoch'] = history.epoch"
   ]
  },
  {
   "cell_type": "code",
   "execution_count": 19,
   "metadata": {},
   "outputs": [
    {
     "data": {
      "text/html": [
       "<div>\n",
       "<style scoped>\n",
       "    .dataframe tbody tr th:only-of-type {\n",
       "        vertical-align: middle;\n",
       "    }\n",
       "\n",
       "    .dataframe tbody tr th {\n",
       "        vertical-align: top;\n",
       "    }\n",
       "\n",
       "    .dataframe thead th {\n",
       "        text-align: right;\n",
       "    }\n",
       "</style>\n",
       "<table border=\"1\" class=\"dataframe\">\n",
       "  <thead>\n",
       "    <tr style=\"text-align: right;\">\n",
       "      <th></th>\n",
       "      <th>loss</th>\n",
       "      <th>accuracy</th>\n",
       "      <th>val_loss</th>\n",
       "      <th>val_accuracy</th>\n",
       "      <th>epoch</th>\n",
       "    </tr>\n",
       "  </thead>\n",
       "  <tbody>\n",
       "    <tr>\n",
       "      <th>0</th>\n",
       "      <td>1.779444</td>\n",
       "      <td>0.462500</td>\n",
       "      <td>1.034384</td>\n",
       "      <td>0.795833</td>\n",
       "      <td>0</td>\n",
       "    </tr>\n",
       "    <tr>\n",
       "      <th>1</th>\n",
       "      <td>0.706269</td>\n",
       "      <td>0.803125</td>\n",
       "      <td>0.503634</td>\n",
       "      <td>0.825000</td>\n",
       "      <td>1</td>\n",
       "    </tr>\n",
       "    <tr>\n",
       "      <th>2</th>\n",
       "      <td>0.357208</td>\n",
       "      <td>0.892708</td>\n",
       "      <td>0.435926</td>\n",
       "      <td>0.875000</td>\n",
       "      <td>2</td>\n",
       "    </tr>\n",
       "    <tr>\n",
       "      <th>3</th>\n",
       "      <td>0.246041</td>\n",
       "      <td>0.926042</td>\n",
       "      <td>0.398440</td>\n",
       "      <td>0.887500</td>\n",
       "      <td>3</td>\n",
       "    </tr>\n",
       "    <tr>\n",
       "      <th>4</th>\n",
       "      <td>0.176907</td>\n",
       "      <td>0.953125</td>\n",
       "      <td>0.355187</td>\n",
       "      <td>0.891667</td>\n",
       "      <td>4</td>\n",
       "    </tr>\n",
       "  </tbody>\n",
       "</table>\n",
       "</div>"
      ],
      "text/plain": [
       "       loss  accuracy  val_loss  val_accuracy  epoch\n",
       "0  1.779444  0.462500  1.034384      0.795833      0\n",
       "1  0.706269  0.803125  0.503634      0.825000      1\n",
       "2  0.357208  0.892708  0.435926      0.875000      2\n",
       "3  0.246041  0.926042  0.398440      0.887500      3\n",
       "4  0.176907  0.953125  0.355187      0.891667      4"
      ]
     },
     "execution_count": 19,
     "metadata": {},
     "output_type": "execute_result"
    }
   ],
   "source": [
    "hist.head()"
   ]
  },
  {
   "cell_type": "markdown",
   "metadata": {},
   "source": [
    "<a id='overfitting_results'></a>\n",
    "When interpreting both graphs, it is evident that the model over-fits the training values and is not able to generalize well for the validation values. **It is a clear example of overfitting**.\n",
    "\n",
    "The following function will be useful throughout the different practical examples."
   ]
  },
  {
   "cell_type": "code",
   "execution_count": 20,
   "metadata": {},
   "outputs": [],
   "source": [
    "import matplotlib.pyplot as plt\n",
    "\n",
    "def show_loss_accuracy_evolution(history):\n",
    "    \n",
    "    hist = pd.DataFrame(history.history)\n",
    "    hist['epoch'] = history.epoch\n",
    "    \n",
    "    fig, (ax1, ax2) = plt.subplots(1, 2, figsize=(16, 6))\n",
    "\n",
    "    ax1.set_xlabel('Epoch')\n",
    "    ax1.set_ylabel('Categorical Crossentropy')\n",
    "    ax1.plot(hist['epoch'], hist['loss'], label='Train Error')\n",
    "    ax1.plot(hist['epoch'], hist['val_loss'], label = 'Val Error')\n",
    "    ax1.grid()\n",
    "    ax1.legend()\n",
    "\n",
    "    ax2.set_xlabel('Epoch')\n",
    "    ax2.set_ylabel('Accuracy')\n",
    "    ax2.plot(hist['epoch'], hist['accuracy'], label='Train Accuracy')\n",
    "    ax2.plot(hist['epoch'], hist['val_accuracy'], label = 'Val Accuracy')\n",
    "    ax2.grid()\n",
    "    ax2.legend()\n",
    "\n",
    "    plt.show()\n",
    "    \n",
    "def show_samples(x_test, y_test, model):\n",
    "    predictions = model.predict(x_test)\n",
    "    predicted_classes = np.argmax(predictions, -1)\n",
    "    \n",
    "    L = 5\n",
    "    W = 5\n",
    "    fig, axes = plt.subplots(L, W, figsize=(14, 14))\n",
    "    axes = axes.ravel()\n",
    "\n",
    "    for i in np.arange(0, L * W):\n",
    "        ind = np.random.randint(len(y_test))\n",
    "        axes[i].imshow(x_test[ind].reshape(28, 28))\n",
    "        prob_pred = np.max(predictions[ind, :])\n",
    "        class_pred = int(predicted_classes[ind])\n",
    "        original_class = int(y_test[ind])\n",
    "        if class_pred == original_class:\n",
    "            color = 'green'\n",
    "        else:\n",
    "            color = 'red'\n",
    "        title = \"Pred: {0} \\n Target: {1} \\n Prob: {2:.3f}\".format(\n",
    "        class_pred, original_class, prob_pred)\n",
    "        axes[i].set_title(title, color=color)\n",
    "        axes[i].axis('off')\n",
    "\n",
    "    plt.subplots_adjust(wspace=0.5)"
   ]
  },
  {
   "cell_type": "code",
   "execution_count": 21,
   "metadata": {},
   "outputs": [
    {
     "data": {
      "image/png": "[encoded data removed]",
      "text/plain": [
       "<Figure size 1152x432 with 2 Axes>"
      ]
     },
     "metadata": {
      "needs_background": "light"
     },
     "output_type": "display_data"
    }
   ],
   "source": [
    "show_loss_accuracy_evolution(history)"
   ]
  },
  {
   "cell_type": "code",
   "execution_count": 22,
   "metadata": {},
   "outputs": [
    {
     "name": "stdout",
     "output_type": "stream",
     "text": [
      "Test Loss: 0.564452052116394\n",
      "Test Accuracy: 0.9035000205039978\n"
     ]
    }
   ],
   "source": [
    "results = model.evaluate(x_test, y_test, verbose=0)\n",
    "print('Test Loss: {}'.format(results[0]))\n",
    "print('Test Accuracy: {}'.format(results[1]))"
   ]
  },
  {
   "cell_type": "code",
   "execution_count": 23,
   "metadata": {},
   "outputs": [
    {
     "data": {
      "image/png": "[encoded data removed]",
      "text/plain": [
       "<Figure size 1008x1008 with 25 Axes>"
      ]
     },
     "metadata": {
      "needs_background": "light"
     },
     "output_type": "display_data"
    }
   ],
   "source": [
    "show_samples(x_test, y_test, model)"
   ]
  },
  {
   "cell_type": "markdown",
   "metadata": {},
   "source": [
    "## Create a simpler model\n",
    "\n",
    "The simplest way to prevent overfitting is to create  a simple model: A model with less number of  parameters (which is determined by the number of layers and the number of units per layer). \n",
    "\n",
    "A more complex model with more parameters will have much more capacity and will be able to learn almost any training set. Deep learning models tend to be good at fitting to the training data, but the real challenge is generalization, not fitting."
   ]
  },
  {
   "cell_type": "code",
   "execution_count": 24,
   "metadata": {},
   "outputs": [
    {
     "name": "stdout",
     "output_type": "stream",
     "text": [
      "Model: \"simpler_model\"\n",
      "_________________________________________________________________\n",
      "Layer (type)                 Output Shape              Param #   \n",
      "=================================================================\n",
      "input_layer (InputLayer)     [(None, 28, 28)]          0         \n",
      "_________________________________________________________________\n",
      "flatten_2 (Flatten)          (None, 784)               0         \n",
      "_________________________________________________________________\n",
      "layer_1 (Dense)              (None, 8)                 6280      \n",
      "_________________________________________________________________\n",
      "output_layer (Dense)         (None, 10)                90        \n",
      "=================================================================\n",
      "Total params: 6,370\n",
      "Trainable params: 6,370\n",
      "Non-trainable params: 0\n",
      "_________________________________________________________________\n"
     ]
    }
   ],
   "source": [
    "# Input layer\n",
    "inputs = tf.keras.Input(shape=(28, 28), name='input_layer')\n",
    "flat = layers.Flatten()(inputs)\n",
    "\n",
    "# First hidden layer\n",
    "l_1 = layers.Dense(8, activation='relu', name='layer_1')(flat)\n",
    "\n",
    "# Output layer\n",
    "outputs = layers.Dense(num_classes, activation='softmax',\n",
    "                       name='output_layer')(l_1)\n",
    "model_simpler = keras.Model(\n",
    "    inputs=inputs, outputs=outputs, name='simpler_model')\n",
    "\n",
    "model_simpler.summary()"
   ]
  },
  {
   "cell_type": "code",
   "execution_count": 25,
   "metadata": {},
   "outputs": [
    {
     "name": "stdout",
     "output_type": "stream",
     "text": [
      "Epoch 1/100\n",
      "15/15 [==============================] - 1s 13ms/step - loss: 2.3196 - accuracy: 0.1054 - val_loss: 2.2225 - val_accuracy: 0.1800\n",
      "Epoch 2/100\n",
      "15/15 [==============================] - 0s 7ms/step - loss: 2.1925 - accuracy: 0.2068 - val_loss: 2.1009 - val_accuracy: 0.2867\n",
      "Epoch 3/100\n",
      "15/15 [==============================] - 0s 9ms/step - loss: 2.0524 - accuracy: 0.2996 - val_loss: 1.9430 - val_accuracy: 0.3800\n",
      "Epoch 4/100\n",
      "15/15 [==============================] - 0s 6ms/step - loss: 1.9076 - accuracy: 0.3898 - val_loss: 1.7621 - val_accuracy: 0.4400\n",
      "Epoch 5/100\n",
      "15/15 [==============================] - 0s 6ms/step - loss: 1.7295 - accuracy: 0.4964 - val_loss: 1.6366 - val_accuracy: 0.4867\n",
      "Epoch 6/100\n",
      "15/15 [==============================] - 0s 4ms/step - loss: 1.6257 - accuracy: 0.5382 - val_loss: 1.5172 - val_accuracy: 0.5567\n",
      "Epoch 7/100\n",
      "15/15 [==============================] - 0s 5ms/step - loss: 1.5164 - accuracy: 0.5535 - val_loss: 1.4215 - val_accuracy: 0.5967\n",
      "Epoch 8/100\n",
      "15/15 [==============================] - 0s 5ms/step - loss: 1.4030 - accuracy: 0.6076 - val_loss: 1.3322 - val_accuracy: 0.6400\n",
      "Epoch 9/100\n",
      "15/15 [==============================] - 0s 6ms/step - loss: 1.3413 - accuracy: 0.6485 - val_loss: 1.2587 - val_accuracy: 0.6667\n",
      "Epoch 10/100\n",
      "15/15 [==============================] - ETA: 0s - loss: 1.3687 - accuracy: 0.67 - 0s 8ms/step - loss: 1.2471 - accuracy: 0.7000 - val_loss: 1.1876 - val_accuracy: 0.7133\n",
      "Epoch 11/100\n",
      "15/15 [==============================] - 0s 6ms/step - loss: 1.1600 - accuracy: 0.7101 - val_loss: 1.1178 - val_accuracy: 0.7433\n",
      "Epoch 12/100\n",
      "15/15 [==============================] - 0s 4ms/step - loss: 1.0811 - accuracy: 0.7243 - val_loss: 1.0537 - val_accuracy: 0.7367\n",
      "Epoch 13/100\n",
      "15/15 [==============================] - 0s 5ms/step - loss: 0.9992 - accuracy: 0.7468 - val_loss: 1.0055 - val_accuracy: 0.7367\n",
      "Epoch 14/100\n",
      "15/15 [==============================] - 0s 5ms/step - loss: 1.0099 - accuracy: 0.7347 - val_loss: 0.9561 - val_accuracy: 0.7500\n",
      "Epoch 15/100\n",
      "15/15 [==============================] - 0s 5ms/step - loss: 0.9041 - accuracy: 0.7677 - val_loss: 0.9123 - val_accuracy: 0.7467\n",
      "Epoch 16/100\n",
      "15/15 [==============================] - 0s 8ms/step - loss: 0.8589 - accuracy: 0.7737 - val_loss: 0.8812 - val_accuracy: 0.7433\n",
      "Epoch 17/100\n",
      "15/15 [==============================] - 0s 5ms/step - loss: 0.8225 - accuracy: 0.7913 - val_loss: 0.8545 - val_accuracy: 0.7533\n",
      "Epoch 18/100\n",
      "15/15 [==============================] - 0s 7ms/step - loss: 0.7510 - accuracy: 0.8286 - val_loss: 0.8267 - val_accuracy: 0.7533\n",
      "Epoch 19/100\n",
      "15/15 [==============================] - 0s 7ms/step - loss: 0.7477 - accuracy: 0.7884 - val_loss: 0.7970 - val_accuracy: 0.7567\n",
      "Epoch 20/100\n",
      "15/15 [==============================] - 0s 7ms/step - loss: 0.7277 - accuracy: 0.7967 - val_loss: 0.7822 - val_accuracy: 0.7667\n",
      "Epoch 21/100\n",
      "15/15 [==============================] - 0s 5ms/step - loss: 0.6761 - accuracy: 0.7955 - val_loss: 0.7658 - val_accuracy: 0.7500\n",
      "Epoch 22/100\n",
      "15/15 [==============================] - 0s 6ms/step - loss: 0.6405 - accuracy: 0.8153 - val_loss: 0.7521 - val_accuracy: 0.7700\n",
      "Epoch 23/100\n",
      "15/15 [==============================] - 0s 5ms/step - loss: 0.6103 - accuracy: 0.8195 - val_loss: 0.7313 - val_accuracy: 0.7700\n",
      "Epoch 24/100\n",
      "15/15 [==============================] - 0s 7ms/step - loss: 0.6315 - accuracy: 0.8051 - val_loss: 0.7239 - val_accuracy: 0.7733\n",
      "Epoch 25/100\n",
      "15/15 [==============================] - 0s 4ms/step - loss: 0.5769 - accuracy: 0.8236 - val_loss: 0.7007 - val_accuracy: 0.7767\n",
      "Epoch 26/100\n",
      "15/15 [==============================] - 0s 3ms/step - loss: 0.5447 - accuracy: 0.8359 - val_loss: 0.6891 - val_accuracy: 0.7900\n",
      "Epoch 27/100\n",
      "15/15 [==============================] - 0s 5ms/step - loss: 0.5302 - accuracy: 0.8409 - val_loss: 0.6746 - val_accuracy: 0.7900\n",
      "Epoch 28/100\n",
      "15/15 [==============================] - 0s 5ms/step - loss: 0.4893 - accuracy: 0.8548 - val_loss: 0.6699 - val_accuracy: 0.8000\n",
      "Epoch 29/100\n",
      "15/15 [==============================] - 0s 6ms/step - loss: 0.4997 - accuracy: 0.8542 - val_loss: 0.6626 - val_accuracy: 0.8167\n",
      "Epoch 30/100\n",
      "15/15 [==============================] - 0s 5ms/step - loss: 0.5029 - accuracy: 0.8586 - val_loss: 0.6475 - val_accuracy: 0.8233\n",
      "Epoch 31/100\n",
      "15/15 [==============================] - 0s 5ms/step - loss: 0.4795 - accuracy: 0.8690 - val_loss: 0.6356 - val_accuracy: 0.8300\n",
      "Epoch 32/100\n",
      "15/15 [==============================] - 0s 4ms/step - loss: 0.4795 - accuracy: 0.8827 - val_loss: 0.6299 - val_accuracy: 0.8400\n",
      "Epoch 33/100\n",
      "15/15 [==============================] - 0s 4ms/step - loss: 0.4686 - accuracy: 0.8820 - val_loss: 0.6266 - val_accuracy: 0.8367\n",
      "Epoch 34/100\n",
      "15/15 [==============================] - 0s 4ms/step - loss: 0.4192 - accuracy: 0.8997 - val_loss: 0.6119 - val_accuracy: 0.8467\n",
      "Epoch 35/100\n",
      "15/15 [==============================] - 0s 5ms/step - loss: 0.4426 - accuracy: 0.8985 - val_loss: 0.5994 - val_accuracy: 0.8467\n",
      "Epoch 36/100\n",
      "15/15 [==============================] - 0s 5ms/step - loss: 0.4029 - accuracy: 0.9108 - val_loss: 0.5972 - val_accuracy: 0.8467\n",
      "Epoch 37/100\n",
      "15/15 [==============================] - 0s 5ms/step - loss: 0.4068 - accuracy: 0.9100 - val_loss: 0.5992 - val_accuracy: 0.8567\n",
      "Epoch 38/100\n",
      "15/15 [==============================] - 0s 6ms/step - loss: 0.3856 - accuracy: 0.9256 - val_loss: 0.5769 - val_accuracy: 0.8533\n",
      "Epoch 39/100\n",
      "15/15 [==============================] - 0s 7ms/step - loss: 0.3883 - accuracy: 0.9189 - val_loss: 0.5807 - val_accuracy: 0.8667\n",
      "Epoch 40/100\n",
      "15/15 [==============================] - 0s 5ms/step - loss: 0.3803 - accuracy: 0.9127 - val_loss: 0.5763 - val_accuracy: 0.8600\n",
      "Epoch 41/100\n",
      "15/15 [==============================] - 0s 6ms/step - loss: 0.3341 - accuracy: 0.9408 - val_loss: 0.5672 - val_accuracy: 0.8500\n",
      "Epoch 42/100\n",
      "15/15 [==============================] - 0s 4ms/step - loss: 0.3586 - accuracy: 0.9264 - val_loss: 0.5676 - val_accuracy: 0.8500\n",
      "Epoch 43/100\n",
      "15/15 [==============================] - 0s 4ms/step - loss: 0.3210 - accuracy: 0.9402 - val_loss: 0.5637 - val_accuracy: 0.8600\n",
      "Epoch 44/100\n",
      "15/15 [==============================] - 0s 4ms/step - loss: 0.3354 - accuracy: 0.9293 - val_loss: 0.5558 - val_accuracy: 0.8567\n",
      "Epoch 45/100\n",
      "15/15 [==============================] - 0s 5ms/step - loss: 0.3262 - accuracy: 0.9339 - val_loss: 0.5553 - val_accuracy: 0.8567\n",
      "Epoch 46/100\n",
      "15/15 [==============================] - 0s 5ms/step - loss: 0.2929 - accuracy: 0.9435 - val_loss: 0.5467 - val_accuracy: 0.8567\n",
      "Epoch 47/100\n",
      "15/15 [==============================] - 0s 4ms/step - loss: 0.3077 - accuracy: 0.9238 - val_loss: 0.5394 - val_accuracy: 0.8533\n",
      "Epoch 48/100\n",
      "15/15 [==============================] - 0s 4ms/step - loss: 0.2831 - accuracy: 0.9491 - val_loss: 0.5384 - val_accuracy: 0.8533\n",
      "Epoch 49/100\n",
      "15/15 [==============================] - 0s 5ms/step - loss: 0.2834 - accuracy: 0.9494 - val_loss: 0.5357 - val_accuracy: 0.8533\n",
      "Epoch 50/100\n",
      "15/15 [==============================] - 0s 4ms/step - loss: 0.2897 - accuracy: 0.9421 - val_loss: 0.5310 - val_accuracy: 0.8567\n",
      "Epoch 51/100\n",
      "15/15 [==============================] - 0s 5ms/step - loss: 0.2480 - accuracy: 0.9591 - val_loss: 0.5330 - val_accuracy: 0.8533\n",
      "Epoch 52/100\n",
      "15/15 [==============================] - 0s 5ms/step - loss: 0.2772 - accuracy: 0.9467 - val_loss: 0.5268 - val_accuracy: 0.8533\n",
      "Epoch 53/100\n",
      "15/15 [==============================] - 0s 4ms/step - loss: 0.2497 - accuracy: 0.9579 - val_loss: 0.5226 - val_accuracy: 0.8567\n",
      "Epoch 54/100\n",
      "15/15 [==============================] - 0s 5ms/step - loss: 0.2479 - accuracy: 0.9547 - val_loss: 0.5215 - val_accuracy: 0.8500\n",
      "Epoch 55/100\n",
      "15/15 [==============================] - 0s 4ms/step - loss: 0.2520 - accuracy: 0.9534 - val_loss: 0.5135 - val_accuracy: 0.8600\n",
      "Epoch 56/100\n",
      "15/15 [==============================] - 0s 6ms/step - loss: 0.2429 - accuracy: 0.9585 - val_loss: 0.5149 - val_accuracy: 0.8633\n",
      "Epoch 57/100\n",
      "15/15 [==============================] - 0s 4ms/step - loss: 0.2307 - accuracy: 0.9595 - val_loss: 0.5148 - val_accuracy: 0.8600\n",
      "Epoch 58/100\n"
     ]
    },
    {
     "name": "stdout",
     "output_type": "stream",
     "text": [
      "15/15 [==============================] - 0s 4ms/step - loss: 0.2340 - accuracy: 0.9591 - val_loss: 0.5199 - val_accuracy: 0.8533\n",
      "Epoch 59/100\n",
      "15/15 [==============================] - 0s 4ms/step - loss: 0.2292 - accuracy: 0.9556 - val_loss: 0.5134 - val_accuracy: 0.8600\n",
      "Epoch 60/100\n",
      "15/15 [==============================] - 0s 6ms/step - loss: 0.2259 - accuracy: 0.9502 - val_loss: 0.5078 - val_accuracy: 0.8600\n",
      "Epoch 61/100\n",
      "15/15 [==============================] - 0s 4ms/step - loss: 0.1858 - accuracy: 0.9675 - val_loss: 0.5114 - val_accuracy: 0.8600\n",
      "Epoch 62/100\n",
      "15/15 [==============================] - 0s 4ms/step - loss: 0.1984 - accuracy: 0.9674 - val_loss: 0.5092 - val_accuracy: 0.8600\n",
      "Epoch 63/100\n",
      "15/15 [==============================] - 0s 8ms/step - loss: 0.1956 - accuracy: 0.9635 - val_loss: 0.5060 - val_accuracy: 0.8600\n",
      "Epoch 64/100\n",
      "15/15 [==============================] - 0s 6ms/step - loss: 0.2015 - accuracy: 0.9547 - val_loss: 0.5058 - val_accuracy: 0.8633\n",
      "Epoch 65/100\n",
      "15/15 [==============================] - 0s 7ms/step - loss: 0.1917 - accuracy: 0.9677 - val_loss: 0.5000 - val_accuracy: 0.8600\n",
      "Epoch 66/100\n",
      "15/15 [==============================] - 0s 11ms/step - loss: 0.1906 - accuracy: 0.9623 - val_loss: 0.5006 - val_accuracy: 0.8633\n",
      "Epoch 67/100\n",
      "15/15 [==============================] - 0s 7ms/step - loss: 0.1833 - accuracy: 0.9732 - val_loss: 0.5030 - val_accuracy: 0.8600\n",
      "Epoch 68/100\n",
      "15/15 [==============================] - 0s 4ms/step - loss: 0.1718 - accuracy: 0.9744 - val_loss: 0.4995 - val_accuracy: 0.8633\n",
      "Epoch 69/100\n",
      "15/15 [==============================] - 0s 4ms/step - loss: 0.1685 - accuracy: 0.9737 - val_loss: 0.4990 - val_accuracy: 0.8667\n",
      "Epoch 70/100\n",
      "15/15 [==============================] - 0s 6ms/step - loss: 0.1769 - accuracy: 0.9684 - val_loss: 0.4971 - val_accuracy: 0.8633\n",
      "Epoch 71/100\n",
      "15/15 [==============================] - 0s 6ms/step - loss: 0.1655 - accuracy: 0.9763 - val_loss: 0.5006 - val_accuracy: 0.8633\n",
      "Epoch 72/100\n",
      "15/15 [==============================] - 0s 6ms/step - loss: 0.1680 - accuracy: 0.9711 - val_loss: 0.4945 - val_accuracy: 0.8633\n",
      "Epoch 73/100\n",
      "15/15 [==============================] - 0s 4ms/step - loss: 0.1637 - accuracy: 0.9718 - val_loss: 0.4979 - val_accuracy: 0.8667\n",
      "Epoch 74/100\n",
      "15/15 [==============================] - 0s 5ms/step - loss: 0.1645 - accuracy: 0.9755 - val_loss: 0.5013 - val_accuracy: 0.8667\n",
      "Epoch 75/100\n",
      "15/15 [==============================] - 0s 5ms/step - loss: 0.1553 - accuracy: 0.9809 - val_loss: 0.4963 - val_accuracy: 0.8633\n",
      "Epoch 76/100\n",
      "15/15 [==============================] - 0s 7ms/step - loss: 0.1590 - accuracy: 0.9796 - val_loss: 0.5006 - val_accuracy: 0.8633\n",
      "Epoch 77/100\n",
      "15/15 [==============================] - 0s 7ms/step - loss: 0.1647 - accuracy: 0.9754 - val_loss: 0.4975 - val_accuracy: 0.8633\n",
      "Epoch 78/100\n",
      "15/15 [==============================] - 0s 6ms/step - loss: 0.1504 - accuracy: 0.9785 - val_loss: 0.4971 - val_accuracy: 0.8633\n",
      "Epoch 79/100\n",
      "15/15 [==============================] - 0s 4ms/step - loss: 0.1465 - accuracy: 0.9820 - val_loss: 0.4958 - val_accuracy: 0.8633\n",
      "Epoch 80/100\n",
      "15/15 [==============================] - 0s 6ms/step - loss: 0.1330 - accuracy: 0.9805 - val_loss: 0.4936 - val_accuracy: 0.8600\n",
      "Epoch 81/100\n",
      "15/15 [==============================] - 0s 5ms/step - loss: 0.1234 - accuracy: 0.9905 - val_loss: 0.4953 - val_accuracy: 0.8633\n",
      "Epoch 82/100\n",
      "15/15 [==============================] - 0s 5ms/step - loss: 0.1369 - accuracy: 0.9767 - val_loss: 0.5013 - val_accuracy: 0.8667\n",
      "Epoch 83/100\n",
      "15/15 [==============================] - 0s 5ms/step - loss: 0.1417 - accuracy: 0.9827 - val_loss: 0.5172 - val_accuracy: 0.8533\n",
      "Epoch 84/100\n",
      "15/15 [==============================] - 0s 4ms/step - loss: 0.1347 - accuracy: 0.9883 - val_loss: 0.5037 - val_accuracy: 0.8633\n",
      "Epoch 85/100\n",
      "15/15 [==============================] - 0s 4ms/step - loss: 0.1342 - accuracy: 0.9885 - val_loss: 0.4958 - val_accuracy: 0.8667\n",
      "Epoch 86/100\n",
      "15/15 [==============================] - 0s 4ms/step - loss: 0.1394 - accuracy: 0.9831 - val_loss: 0.4994 - val_accuracy: 0.8633\n",
      "Epoch 87/100\n",
      "15/15 [==============================] - 0s 7ms/step - loss: 0.1284 - accuracy: 0.9862 - val_loss: 0.4981 - val_accuracy: 0.8633\n",
      "Epoch 88/100\n",
      "15/15 [==============================] - 0s 6ms/step - loss: 0.1310 - accuracy: 0.9837 - val_loss: 0.4980 - val_accuracy: 0.8700\n",
      "Epoch 89/100\n",
      "15/15 [==============================] - 0s 4ms/step - loss: 0.1168 - accuracy: 0.9866 - val_loss: 0.5012 - val_accuracy: 0.8700\n",
      "Epoch 90/100\n",
      "15/15 [==============================] - 0s 4ms/step - loss: 0.1210 - accuracy: 0.9894 - val_loss: 0.4960 - val_accuracy: 0.8667\n",
      "Epoch 91/100\n",
      "15/15 [==============================] - 0s 5ms/step - loss: 0.1229 - accuracy: 0.9887 - val_loss: 0.5028 - val_accuracy: 0.8667\n",
      "Epoch 92/100\n",
      "15/15 [==============================] - 0s 5ms/step - loss: 0.1278 - accuracy: 0.9842 - val_loss: 0.5051 - val_accuracy: 0.8633\n",
      "Epoch 93/100\n",
      "15/15 [==============================] - 0s 5ms/step - loss: 0.1187 - accuracy: 0.9846 - val_loss: 0.4989 - val_accuracy: 0.8600\n",
      "Epoch 94/100\n",
      "15/15 [==============================] - 0s 4ms/step - loss: 0.1048 - accuracy: 0.9916 - val_loss: 0.5083 - val_accuracy: 0.8600\n",
      "Epoch 95/100\n",
      "15/15 [==============================] - 0s 4ms/step - loss: 0.1110 - accuracy: 0.9862 - val_loss: 0.5040 - val_accuracy: 0.8700\n",
      "Epoch 96/100\n",
      "15/15 [==============================] - 0s 4ms/step - loss: 0.1191 - accuracy: 0.9848 - val_loss: 0.5109 - val_accuracy: 0.8767\n",
      "Epoch 97/100\n",
      "15/15 [==============================] - 0s 4ms/step - loss: 0.1027 - accuracy: 0.9935 - val_loss: 0.5070 - val_accuracy: 0.8667\n",
      "Epoch 98/100\n",
      "15/15 [==============================] - 0s 4ms/step - loss: 0.0924 - accuracy: 0.9942 - val_loss: 0.5031 - val_accuracy: 0.8667\n",
      "Epoch 99/100\n",
      "15/15 [==============================] - 0s 5ms/step - loss: 0.1052 - accuracy: 0.9893 - val_loss: 0.5098 - val_accuracy: 0.8667\n",
      "Epoch 100/100\n",
      "15/15 [==============================] - 0s 4ms/step - loss: 0.1002 - accuracy: 0.9911 - val_loss: 0.5136 - val_accuracy: 0.8733\n"
     ]
    }
   ],
   "source": [
    "model_simpler.compile(optimizer='adam',\n",
    "                      loss='sparse_categorical_crossentropy',\n",
    "                      metrics=['accuracy'])\n",
    "history_simpler = model_simpler.fit(x,\n",
    "                                    y,\n",
    "                                    batch_size=64,\n",
    "                                    epochs=100,\n",
    "                                    validation_split=0.25,\n",
    "                                    shuffle=True)"
   ]
  },
  {
   "cell_type": "code",
   "execution_count": 26,
   "metadata": {},
   "outputs": [
    {
     "data": {
      "image/png": "[encoded data removed]",
      "text/plain": [
       "<Figure size 1152x432 with 2 Axes>"
      ]
     },
     "metadata": {
      "needs_background": "light"
     },
     "output_type": "display_data"
    }
   ],
   "source": [
    "show_loss_accuracy_evolution(history_simpler)"
   ]
  },
  {
   "cell_type": "code",
   "execution_count": 27,
   "metadata": {},
   "outputs": [
    {
     "name": "stdout",
     "output_type": "stream",
     "text": [
      "Test Loss: 0.5301802158355713\n",
      "Test Accuracy: 0.8600000143051147\n"
     ]
    }
   ],
   "source": [
    "results = model_simpler.evaluate(x_test, y_test, verbose=0)\n",
    "print('Test Loss: {}'.format(results[0]))\n",
    "print('Test Accuracy: {}'.format(results[1]))"
   ]
  },
  {
   "cell_type": "markdown",
   "metadata": {},
   "source": [
    "## Reduce batch_size\n",
    "\n",
    "Other method is decreasing the `batch_size`during the gradient descend to add more uncertainty to the estimation of the parameter gradients, thus reducing the capacity of the model"
   ]
  },
  {
   "cell_type": "code",
   "execution_count": 28,
   "metadata": {},
   "outputs": [
    {
     "name": "stdout",
     "output_type": "stream",
     "text": [
      "Model: \"dont_overfit_model\"\n",
      "_________________________________________________________________\n",
      "Layer (type)                 Output Shape              Param #   \n",
      "=================================================================\n",
      "input_layer (InputLayer)     [(None, 28, 28)]          0         \n",
      "_________________________________________________________________\n",
      "flatten_3 (Flatten)          (None, 784)               0         \n",
      "_________________________________________________________________\n",
      "layer_1 (Dense)              (None, 256)               200960    \n",
      "_________________________________________________________________\n",
      "layer_2 (Dense)              (None, 128)               32896     \n",
      "_________________________________________________________________\n",
      "layer_3 (Dense)              (None, 128)               16512     \n",
      "_________________________________________________________________\n",
      "output_layer (Dense)         (None, 10)                1290      \n",
      "=================================================================\n",
      "Total params: 251,658\n",
      "Trainable params: 251,658\n",
      "Non-trainable params: 0\n",
      "_________________________________________________________________\n"
     ]
    }
   ],
   "source": [
    "# Input\n",
    "inputs = tf.keras.Input(shape=(28,28), name='input_layer')  \n",
    "# Convert the 2D image to a vector\n",
    "flat = layers.Flatten()(inputs)\n",
    "\n",
    "# hidden layer 1\n",
    "l_1 = layers.Dense(256, activation='relu', name='layer_1')(flat)  \n",
    "# hidden layer 2\n",
    "l_2 = layers.Dense(128, activation='relu', name='layer_2')(l_1)  \n",
    "# hidden layer 3\n",
    "l_3 = layers.Dense(128, activation='relu', name='layer_3')(l_2)  \n",
    "\n",
    "# Outputs\n",
    "outputs = layers.Dense(num_classes, activation='softmax', name='output_layer')(l_3)  \n",
    "\n",
    "# Model definition\n",
    "model = keras.Model(inputs=inputs, outputs=outputs, name='dont_overfit_model')\n",
    "## same model\n",
    "model.summary()"
   ]
  },
  {
   "cell_type": "code",
   "execution_count": 29,
   "metadata": {},
   "outputs": [
    {
     "name": "stdout",
     "output_type": "stream",
     "text": [
      "Epoch 1/100\n",
      "60/60 [==============================] - 1s 5ms/step - loss: 1.6686 - accuracy: 0.4816 - val_loss: 0.5411 - val_accuracy: 0.8417\n",
      "Epoch 2/100\n",
      "60/60 [==============================] - 0s 5ms/step - loss: 0.3376 - accuracy: 0.8804 - val_loss: 0.6084 - val_accuracy: 0.8333\n",
      "Epoch 3/100\n",
      "60/60 [==============================] - 0s 3ms/step - loss: 0.2791 - accuracy: 0.9138 - val_loss: 0.5145 - val_accuracy: 0.8583\n",
      "Epoch 4/100\n",
      "60/60 [==============================] - 0s 2ms/step - loss: 0.1379 - accuracy: 0.9535 - val_loss: 0.4281 - val_accuracy: 0.8792\n",
      "Epoch 5/100\n",
      "60/60 [==============================] - 0s 3ms/step - loss: 0.0675 - accuracy: 0.9848 - val_loss: 0.4077 - val_accuracy: 0.8792\n",
      "Epoch 6/100\n",
      "60/60 [==============================] - 0s 3ms/step - loss: 0.0364 - accuracy: 0.9946 - val_loss: 0.4343 - val_accuracy: 0.8792\n",
      "Epoch 7/100\n",
      "60/60 [==============================] - 0s 3ms/step - loss: 0.0311 - accuracy: 0.9935 - val_loss: 0.4433 - val_accuracy: 0.8792\n",
      "Epoch 8/100\n",
      "60/60 [==============================] - 0s 2ms/step - loss: 0.0069 - accuracy: 1.0000 - val_loss: 0.4612 - val_accuracy: 0.8792\n",
      "Epoch 9/100\n",
      "60/60 [==============================] - 0s 3ms/step - loss: 0.0044 - accuracy: 1.0000 - val_loss: 0.4492 - val_accuracy: 0.8917\n",
      "Epoch 10/100\n",
      "60/60 [==============================] - 0s 3ms/step - loss: 0.0029 - accuracy: 1.0000 - val_loss: 0.4790 - val_accuracy: 0.8792\n",
      "Epoch 11/100\n",
      "60/60 [==============================] - 0s 3ms/step - loss: 0.0020 - accuracy: 1.0000 - val_loss: 0.4862 - val_accuracy: 0.8792\n",
      "Epoch 12/100\n",
      "60/60 [==============================] - 0s 3ms/step - loss: 0.0017 - accuracy: 1.0000 - val_loss: 0.4931 - val_accuracy: 0.8875\n",
      "Epoch 13/100\n",
      "60/60 [==============================] - 0s 3ms/step - loss: 0.0013 - accuracy: 1.0000 - val_loss: 0.5007 - val_accuracy: 0.8833\n",
      "Epoch 14/100\n",
      "60/60 [==============================] - 0s 3ms/step - loss: 0.0011 - accuracy: 1.0000 - val_loss: 0.5025 - val_accuracy: 0.8917\n",
      "Epoch 15/100\n",
      "60/60 [==============================] - 0s 3ms/step - loss: 9.6528e-04 - accuracy: 1.0000 - val_loss: 0.5089 - val_accuracy: 0.8917\n",
      "Epoch 16/100\n",
      "60/60 [==============================] - 0s 3ms/step - loss: 8.5766e-04 - accuracy: 1.0000 - val_loss: 0.5200 - val_accuracy: 0.8875\n",
      "Epoch 17/100\n",
      "60/60 [==============================] - 0s 3ms/step - loss: 6.6761e-04 - accuracy: 1.0000 - val_loss: 0.5235 - val_accuracy: 0.8958\n",
      "Epoch 18/100\n",
      "60/60 [==============================] - 0s 3ms/step - loss: 5.9640e-04 - accuracy: 1.0000 - val_loss: 0.5329 - val_accuracy: 0.8917\n",
      "Epoch 19/100\n",
      "60/60 [==============================] - 0s 3ms/step - loss: 4.9536e-04 - accuracy: 1.0000 - val_loss: 0.5338 - val_accuracy: 0.8917\n",
      "Epoch 20/100\n",
      "60/60 [==============================] - 0s 3ms/step - loss: 5.7619e-04 - accuracy: 1.0000 - val_loss: 0.5407 - val_accuracy: 0.8958\n",
      "Epoch 21/100\n",
      "60/60 [==============================] - 0s 3ms/step - loss: 4.4984e-04 - accuracy: 1.0000 - val_loss: 0.5482 - val_accuracy: 0.8958\n",
      "Epoch 22/100\n",
      "60/60 [==============================] - 0s 4ms/step - loss: 3.8613e-04 - accuracy: 1.0000 - val_loss: 0.5538 - val_accuracy: 0.8958\n",
      "Epoch 23/100\n",
      "60/60 [==============================] - 0s 3ms/step - loss: 3.4480e-04 - accuracy: 1.0000 - val_loss: 0.5564 - val_accuracy: 0.8917\n",
      "Epoch 24/100\n",
      "60/60 [==============================] - 0s 3ms/step - loss: 3.0080e-04 - accuracy: 1.0000 - val_loss: 0.5598 - val_accuracy: 0.8958\n",
      "Epoch 25/100\n",
      "60/60 [==============================] - 0s 3ms/step - loss: 2.9110e-04 - accuracy: 1.0000 - val_loss: 0.5635 - val_accuracy: 0.8917\n",
      "Epoch 26/100\n",
      "60/60 [==============================] - 0s 3ms/step - loss: 2.8117e-04 - accuracy: 1.0000 - val_loss: 0.5664 - val_accuracy: 0.8958\n",
      "Epoch 27/100\n",
      "60/60 [==============================] - 0s 5ms/step - loss: 2.3480e-04 - accuracy: 1.0000 - val_loss: 0.5668 - val_accuracy: 0.9000\n",
      "Epoch 28/100\n",
      "60/60 [==============================] - 0s 3ms/step - loss: 2.2660e-04 - accuracy: 1.0000 - val_loss: 0.5710 - val_accuracy: 0.8958\n",
      "Epoch 29/100\n",
      "60/60 [==============================] - 0s 4ms/step - loss: 2.0302e-04 - accuracy: 1.0000 - val_loss: 0.5749 - val_accuracy: 0.9000\n",
      "Epoch 30/100\n",
      "60/60 [==============================] - 0s 3ms/step - loss: 2.0854e-04 - accuracy: 1.0000 - val_loss: 0.5806 - val_accuracy: 0.8958\n",
      "Epoch 31/100\n",
      "60/60 [==============================] - 0s 3ms/step - loss: 1.7366e-04 - accuracy: 1.0000 - val_loss: 0.5815 - val_accuracy: 0.8958\n",
      "Epoch 32/100\n",
      "60/60 [==============================] - 0s 4ms/step - loss: 1.5796e-04 - accuracy: 1.0000 - val_loss: 0.5844 - val_accuracy: 0.8958\n",
      "Epoch 33/100\n",
      "60/60 [==============================] - 0s 4ms/step - loss: 1.3836e-04 - accuracy: 1.0000 - val_loss: 0.5911 - val_accuracy: 0.8958\n",
      "Epoch 34/100\n",
      "60/60 [==============================] - 0s 3ms/step - loss: 1.5876e-04 - accuracy: 1.0000 - val_loss: 0.5971 - val_accuracy: 0.8958\n",
      "Epoch 35/100\n",
      "60/60 [==============================] - 0s 5ms/step - loss: 1.3265e-04 - accuracy: 1.0000 - val_loss: 0.5942 - val_accuracy: 0.8958\n",
      "Epoch 36/100\n",
      "60/60 [==============================] - 0s 4ms/step - loss: 1.0115e-04 - accuracy: 1.0000 - val_loss: 0.5998 - val_accuracy: 0.8958\n",
      "Epoch 37/100\n",
      "60/60 [==============================] - 0s 4ms/step - loss: 1.2222e-04 - accuracy: 1.0000 - val_loss: 0.6054 - val_accuracy: 0.8917\n",
      "Epoch 38/100\n",
      "60/60 [==============================] - 0s 3ms/step - loss: 1.0445e-04 - accuracy: 1.0000 - val_loss: 0.6075 - val_accuracy: 0.8917\n",
      "Epoch 39/100\n",
      "60/60 [==============================] - 0s 4ms/step - loss: 9.7788e-05 - accuracy: 1.0000 - val_loss: 0.6080 - val_accuracy: 0.8958\n",
      "Epoch 40/100\n",
      "60/60 [==============================] - 0s 3ms/step - loss: 9.0946e-05 - accuracy: 1.0000 - val_loss: 0.6109 - val_accuracy: 0.8958\n",
      "Epoch 41/100\n",
      "60/60 [==============================] - 0s 3ms/step - loss: 8.3303e-05 - accuracy: 1.0000 - val_loss: 0.6148 - val_accuracy: 0.9000\n",
      "Epoch 42/100\n",
      "60/60 [==============================] - 0s 4ms/step - loss: 8.4262e-05 - accuracy: 1.0000 - val_loss: 0.6167 - val_accuracy: 0.8958\n",
      "Epoch 43/100\n",
      "60/60 [==============================] - 0s 3ms/step - loss: 8.2976e-05 - accuracy: 1.0000 - val_loss: 0.6230 - val_accuracy: 0.8958\n",
      "Epoch 44/100\n",
      "60/60 [==============================] - 0s 3ms/step - loss: 7.2958e-05 - accuracy: 1.0000 - val_loss: 0.6225 - val_accuracy: 0.8958\n",
      "Epoch 45/100\n",
      "60/60 [==============================] - 0s 3ms/step - loss: 6.3489e-05 - accuracy: 1.0000 - val_loss: 0.6252 - val_accuracy: 0.9000\n",
      "Epoch 46/100\n",
      "60/60 [==============================] - 0s 3ms/step - loss: 6.2603e-05 - accuracy: 1.0000 - val_loss: 0.6267 - val_accuracy: 0.9000\n",
      "Epoch 47/100\n",
      "60/60 [==============================] - 0s 3ms/step - loss: 5.6743e-05 - accuracy: 1.0000 - val_loss: 0.6337 - val_accuracy: 0.9000\n",
      "Epoch 48/100\n",
      "60/60 [==============================] - 0s 3ms/step - loss: 6.0204e-05 - accuracy: 1.0000 - val_loss: 0.6332 - val_accuracy: 0.9000\n",
      "Epoch 49/100\n",
      "60/60 [==============================] - 0s 3ms/step - loss: 5.2170e-05 - accuracy: 1.0000 - val_loss: 0.6368 - val_accuracy: 0.9000\n",
      "Epoch 50/100\n",
      "60/60 [==============================] - 0s 3ms/step - loss: 4.7731e-05 - accuracy: 1.0000 - val_loss: 0.6383 - val_accuracy: 0.9000\n",
      "Epoch 51/100\n",
      "60/60 [==============================] - 0s 3ms/step - loss: 4.5630e-05 - accuracy: 1.0000 - val_loss: 0.6405 - val_accuracy: 0.9000\n",
      "Epoch 52/100\n",
      "60/60 [==============================] - 0s 3ms/step - loss: 4.3558e-05 - accuracy: 1.0000 - val_loss: 0.6437 - val_accuracy: 0.9000\n",
      "Epoch 53/100\n",
      "60/60 [==============================] - 0s 2ms/step - loss: 4.3592e-05 - accuracy: 1.0000 - val_loss: 0.6471 - val_accuracy: 0.9000\n",
      "Epoch 54/100\n",
      "60/60 [==============================] - 0s 3ms/step - loss: 4.1841e-05 - accuracy: 1.0000 - val_loss: 0.6488 - val_accuracy: 0.9000\n",
      "Epoch 55/100\n",
      "60/60 [==============================] - 0s 3ms/step - loss: 3.5890e-05 - accuracy: 1.0000 - val_loss: 0.6518 - val_accuracy: 0.9000\n",
      "Epoch 56/100\n",
      "60/60 [==============================] - 0s 3ms/step - loss: 3.4582e-05 - accuracy: 1.0000 - val_loss: 0.6529 - val_accuracy: 0.9000\n",
      "Epoch 57/100\n"
     ]
    },
    {
     "name": "stdout",
     "output_type": "stream",
     "text": [
      "60/60 [==============================] - 0s 3ms/step - loss: 3.6128e-05 - accuracy: 1.0000 - val_loss: 0.6556 - val_accuracy: 0.9000\n",
      "Epoch 58/100\n",
      "60/60 [==============================] - 0s 3ms/step - loss: 3.2906e-05 - accuracy: 1.0000 - val_loss: 0.6586 - val_accuracy: 0.9000\n",
      "Epoch 59/100\n",
      "60/60 [==============================] - 0s 3ms/step - loss: 3.4756e-05 - accuracy: 1.0000 - val_loss: 0.6606 - val_accuracy: 0.9000\n",
      "Epoch 60/100\n",
      "60/60 [==============================] - 0s 3ms/step - loss: 2.6169e-05 - accuracy: 1.0000 - val_loss: 0.6639 - val_accuracy: 0.9000\n",
      "Epoch 61/100\n",
      "60/60 [==============================] - 0s 2ms/step - loss: 2.6871e-05 - accuracy: 1.0000 - val_loss: 0.6685 - val_accuracy: 0.9000\n",
      "Epoch 62/100\n",
      "60/60 [==============================] - 0s 3ms/step - loss: 2.4784e-05 - accuracy: 1.0000 - val_loss: 0.6686 - val_accuracy: 0.9000\n",
      "Epoch 63/100\n",
      "60/60 [==============================] - 0s 2ms/step - loss: 2.3919e-05 - accuracy: 1.0000 - val_loss: 0.6723 - val_accuracy: 0.9000\n",
      "Epoch 64/100\n",
      "60/60 [==============================] - 0s 3ms/step - loss: 2.1665e-05 - accuracy: 1.0000 - val_loss: 0.6737 - val_accuracy: 0.9000\n",
      "Epoch 65/100\n",
      "60/60 [==============================] - 0s 2ms/step - loss: 2.3608e-05 - accuracy: 1.0000 - val_loss: 0.6784 - val_accuracy: 0.9000\n",
      "Epoch 66/100\n",
      "60/60 [==============================] - 0s 3ms/step - loss: 2.0496e-05 - accuracy: 1.0000 - val_loss: 0.6803 - val_accuracy: 0.9000\n",
      "Epoch 67/100\n",
      "60/60 [==============================] - 0s 2ms/step - loss: 2.2240e-05 - accuracy: 1.0000 - val_loss: 0.6820 - val_accuracy: 0.9000\n",
      "Epoch 68/100\n",
      "60/60 [==============================] - 0s 3ms/step - loss: 1.9722e-05 - accuracy: 1.0000 - val_loss: 0.6837 - val_accuracy: 0.8958\n",
      "Epoch 69/100\n",
      "60/60 [==============================] - 0s 3ms/step - loss: 2.1687e-05 - accuracy: 1.0000 - val_loss: 0.6876 - val_accuracy: 0.9000\n",
      "Epoch 70/100\n",
      "60/60 [==============================] - 0s 3ms/step - loss: 1.8102e-05 - accuracy: 1.0000 - val_loss: 0.6904 - val_accuracy: 0.9000\n",
      "Epoch 71/100\n",
      "60/60 [==============================] - 0s 3ms/step - loss: 1.7864e-05 - accuracy: 1.0000 - val_loss: 0.6893 - val_accuracy: 0.8958\n",
      "Epoch 72/100\n",
      "60/60 [==============================] - 0s 3ms/step - loss: 1.6652e-05 - accuracy: 1.0000 - val_loss: 0.6939 - val_accuracy: 0.8958\n",
      "Epoch 73/100\n",
      "60/60 [==============================] - 0s 2ms/step - loss: 1.6556e-05 - accuracy: 1.0000 - val_loss: 0.6954 - val_accuracy: 0.8958\n",
      "Epoch 74/100\n",
      "60/60 [==============================] - 0s 2ms/step - loss: 1.4483e-05 - accuracy: 1.0000 - val_loss: 0.6972 - val_accuracy: 0.9000\n",
      "Epoch 75/100\n",
      "60/60 [==============================] - 0s 3ms/step - loss: 1.3166e-05 - accuracy: 1.0000 - val_loss: 0.6991 - val_accuracy: 0.8958\n",
      "Epoch 76/100\n",
      "60/60 [==============================] - 0s 2ms/step - loss: 1.3453e-05 - accuracy: 1.0000 - val_loss: 0.7021 - val_accuracy: 0.9000\n",
      "Epoch 77/100\n",
      "60/60 [==============================] - 0s 3ms/step - loss: 1.3024e-05 - accuracy: 1.0000 - val_loss: 0.7035 - val_accuracy: 0.8958\n",
      "Epoch 78/100\n",
      "60/60 [==============================] - 0s 3ms/step - loss: 1.0118e-05 - accuracy: 1.0000 - val_loss: 0.7063 - val_accuracy: 0.8958\n",
      "Epoch 79/100\n",
      "60/60 [==============================] - 0s 3ms/step - loss: 1.0705e-05 - accuracy: 1.0000 - val_loss: 0.7098 - val_accuracy: 0.8958\n",
      "Epoch 80/100\n",
      "60/60 [==============================] - 0s 3ms/step - loss: 1.0654e-05 - accuracy: 1.0000 - val_loss: 0.7111 - val_accuracy: 0.8958\n",
      "Epoch 81/100\n",
      "60/60 [==============================] - 0s 3ms/step - loss: 1.0935e-05 - accuracy: 1.0000 - val_loss: 0.7117 - val_accuracy: 0.8958\n",
      "Epoch 82/100\n",
      "60/60 [==============================] - 0s 3ms/step - loss: 1.0339e-05 - accuracy: 1.0000 - val_loss: 0.7131 - val_accuracy: 0.9000\n",
      "Epoch 83/100\n",
      "60/60 [==============================] - 0s 3ms/step - loss: 9.4167e-06 - accuracy: 1.0000 - val_loss: 0.7165 - val_accuracy: 0.9000\n",
      "Epoch 84/100\n",
      "60/60 [==============================] - 0s 2ms/step - loss: 8.3849e-06 - accuracy: 1.0000 - val_loss: 0.7189 - val_accuracy: 0.8958\n",
      "Epoch 85/100\n",
      "60/60 [==============================] - 0s 3ms/step - loss: 8.7394e-06 - accuracy: 1.0000 - val_loss: 0.7215 - val_accuracy: 0.8958\n",
      "Epoch 86/100\n",
      "60/60 [==============================] - 0s 3ms/step - loss: 8.3803e-06 - accuracy: 1.0000 - val_loss: 0.7230 - val_accuracy: 0.9000\n",
      "Epoch 87/100\n",
      "60/60 [==============================] - 0s 2ms/step - loss: 7.3346e-06 - accuracy: 1.0000 - val_loss: 0.7257 - val_accuracy: 0.9000\n",
      "Epoch 88/100\n",
      "60/60 [==============================] - 0s 3ms/step - loss: 7.2173e-06 - accuracy: 1.0000 - val_loss: 0.7276 - val_accuracy: 0.9000\n",
      "Epoch 89/100\n",
      "60/60 [==============================] - 0s 3ms/step - loss: 7.7927e-06 - accuracy: 1.0000 - val_loss: 0.7298 - val_accuracy: 0.9000\n",
      "Epoch 90/100\n",
      "60/60 [==============================] - 0s 3ms/step - loss: 7.0661e-06 - accuracy: 1.0000 - val_loss: 0.7337 - val_accuracy: 0.9000\n",
      "Epoch 91/100\n",
      "60/60 [==============================] - 0s 3ms/step - loss: 6.5926e-06 - accuracy: 1.0000 - val_loss: 0.7351 - val_accuracy: 0.9000\n",
      "Epoch 92/100\n",
      "60/60 [==============================] - 0s 3ms/step - loss: 5.4916e-06 - accuracy: 1.0000 - val_loss: 0.7374 - val_accuracy: 0.9000\n",
      "Epoch 93/100\n",
      "60/60 [==============================] - 0s 2ms/step - loss: 5.2637e-06 - accuracy: 1.0000 - val_loss: 0.7388 - val_accuracy: 0.9000\n",
      "Epoch 94/100\n",
      "60/60 [==============================] - 0s 3ms/step - loss: 5.6121e-06 - accuracy: 1.0000 - val_loss: 0.7415 - val_accuracy: 0.9000\n",
      "Epoch 95/100\n",
      "60/60 [==============================] - 0s 3ms/step - loss: 5.5799e-06 - accuracy: 1.0000 - val_loss: 0.7430 - val_accuracy: 0.9000\n",
      "Epoch 96/100\n",
      "60/60 [==============================] - 0s 2ms/step - loss: 5.1108e-06 - accuracy: 1.0000 - val_loss: 0.7457 - val_accuracy: 0.9000\n",
      "Epoch 97/100\n",
      "60/60 [==============================] - 0s 3ms/step - loss: 5.1749e-06 - accuracy: 1.0000 - val_loss: 0.7478 - val_accuracy: 0.9000\n",
      "Epoch 98/100\n",
      "60/60 [==============================] - 0s 3ms/step - loss: 4.5611e-06 - accuracy: 1.0000 - val_loss: 0.7523 - val_accuracy: 0.9000\n",
      "Epoch 99/100\n",
      "60/60 [==============================] - 0s 2ms/step - loss: 5.0219e-06 - accuracy: 1.0000 - val_loss: 0.7541 - val_accuracy: 0.9000\n",
      "Epoch 100/100\n",
      "60/60 [==============================] - 0s 3ms/step - loss: 4.3629e-06 - accuracy: 1.0000 - val_loss: 0.7555 - val_accuracy: 0.9000\n"
     ]
    }
   ],
   "source": [
    "model.compile(optimizer='adam',\n",
    "              loss='sparse_categorical_crossentropy',\n",
    "              metrics=['accuracy'])\n",
    "history_2 = model.fit(\n",
    "    x,\n",
    "    y,\n",
    "    batch_size=16,\n",
    "    epochs=100,\n",
    "    validation_split=0.2,\n",
    "    shuffle=True\n",
    ")\n"
   ]
  },
  {
   "cell_type": "code",
   "execution_count": 30,
   "metadata": {},
   "outputs": [
    {
     "data": {
      "image/png": "[encoded data removed]",
      "text/plain": [
       "<Figure size 1152x432 with 2 Axes>"
      ]
     },
     "metadata": {
      "needs_background": "light"
     },
     "output_type": "display_data"
    }
   ],
   "source": [
    "show_loss_accuracy_evolution(history_2)"
   ]
  },
  {
   "cell_type": "code",
   "execution_count": 31,
   "metadata": {},
   "outputs": [
    {
     "name": "stdout",
     "output_type": "stream",
     "text": [
      "Test Loss: 0.653403103351593\n",
      "Test Accuracy: 0.9049999713897705\n"
     ]
    }
   ],
   "source": [
    "results = model.evaluate(x_test, y_test, verbose=0)\n",
    "print('Test Loss: {}'.format(results[0]))\n",
    "print('Test Accuracy: {}'.format(results[1]))"
   ]
  },
  {
   "cell_type": "markdown",
   "metadata": {},
   "source": [
    "### Question 1:\n",
    "#### What differences do you see if you change the batch_size to a lower or higher value? For example to 1 and to 512"
   ]
  },
  {
   "cell_type": "code",
   "execution_count": null,
   "metadata": {},
   "outputs": [],
   "source": []
  },
  {
   "cell_type": "markdown",
   "metadata": {},
   "source": [
    "<a id='dropout'></a>\n",
    "## Dropout\n",
    "\n",
    "Dropout, applied to a layer, consists of randomly \"dropping out\" (set to zero) a number of output features of the layer during training with a probability **p** (`dropout rate`).\n",
    "\n",
    "In `keras` you can introduce dropout in a network via the [Dropout layer](https://www.tensorflow.org/api_docs/python/tf/keras/layers/Dropout), which gets applied to the output of layer right before.\n",
    "\n",
    "```python\n",
    "tf.keras.layers.Dropout(\n",
    "    rate, noise_shape=None, seed=None, **kwargs\n",
    ")\n",
    "```\n",
    "\n",
    "With Functional API:\n",
    "```python\n",
    "next_layer = layers.Dropout(0.4)(prev_layer)\n",
    "```\n",
    "With Sequential:\n",
    "```python\n",
    "model.add(layers.Dropout(0.4))\n",
    "```"
   ]
  },
  {
   "cell_type": "code",
   "execution_count": 32,
   "metadata": {},
   "outputs": [],
   "source": [
    "# Input\n",
    "inputs = tf.keras.Input(shape=(28, 28), name='input_layer')\n",
    "# Convert the 2D image to a vector\n",
    "flat = layers.Flatten()(inputs)\n",
    "\n",
    "flat = layers.Dropout(0.5, name='dropout_flat')(flat)\n",
    "# hidden layer 1\n",
    "l_1 = layers.Dense(256, activation='relu', name='layer_1')(flat)\n",
    "l_1 = layers.Dropout(0.5, name='dropout_l1')(l_1)\n",
    "# hidden layer 2\n",
    "l_2 = layers.Dense(128, activation='relu', name='layer_2')(l_1)\n",
    "l_2 = layers.Dropout(0.5, name='dropout_l2')(l_2)\n",
    "# hidden layer 3\n",
    "l_3 = layers.Dense(128, activation='relu', name='layer_3')(l_2)\n",
    "l_3 = layers.Dropout(0.5, name='dropout_l3')(l_3)\n",
    "\n",
    "# Outputs\n",
    "outputs = layers.Dense(num_classes, activation='softmax',\n",
    "                       name='output_layer')(l_3)\n",
    "\n",
    "\n",
    "model_dropout = keras.Model(\n",
    "    inputs=inputs, outputs=outputs, name='dont_overfit_model_dropout')"
   ]
  },
  {
   "cell_type": "code",
   "execution_count": 33,
   "metadata": {},
   "outputs": [
    {
     "name": "stdout",
     "output_type": "stream",
     "text": [
      "Model: \"dont_overfit_model_dropout\"\n",
      "_________________________________________________________________\n",
      "Layer (type)                 Output Shape              Param #   \n",
      "=================================================================\n",
      "input_layer (InputLayer)     [(None, 28, 28)]          0         \n",
      "_________________________________________________________________\n",
      "flatten_4 (Flatten)          (None, 784)               0         \n",
      "_________________________________________________________________\n",
      "dropout_flat (Dropout)       (None, 784)               0         \n",
      "_________________________________________________________________\n",
      "layer_1 (Dense)              (None, 256)               200960    \n",
      "_________________________________________________________________\n",
      "dropout_l1 (Dropout)         (None, 256)               0         \n",
      "_________________________________________________________________\n",
      "layer_2 (Dense)              (None, 128)               32896     \n",
      "_________________________________________________________________\n",
      "dropout_l2 (Dropout)         (None, 128)               0         \n",
      "_________________________________________________________________\n",
      "layer_3 (Dense)              (None, 128)               16512     \n",
      "_________________________________________________________________\n",
      "dropout_l3 (Dropout)         (None, 128)               0         \n",
      "_________________________________________________________________\n",
      "output_layer (Dense)         (None, 10)                1290      \n",
      "=================================================================\n",
      "Total params: 251,658\n",
      "Trainable params: 251,658\n",
      "Non-trainable params: 0\n",
      "_________________________________________________________________\n"
     ]
    }
   ],
   "source": [
    "model_dropout.summary()"
   ]
  },
  {
   "cell_type": "code",
   "execution_count": 34,
   "metadata": {},
   "outputs": [],
   "source": [
    "model_dropout.compile(optimizer='adam',\n",
    "                      loss='sparse_categorical_crossentropy',\n",
    "                      metrics=['accuracy'])"
   ]
  },
  {
   "cell_type": "code",
   "execution_count": 35,
   "metadata": {},
   "outputs": [
    {
     "name": "stdout",
     "output_type": "stream",
     "text": [
      "Epoch 1/100\n",
      "15/15 [==============================] - 1s 16ms/step - loss: 2.5514 - accuracy: 0.1180 - val_loss: 2.2354 - val_accuracy: 0.3208\n",
      "Epoch 2/100\n",
      "15/15 [==============================] - 0s 5ms/step - loss: 2.3418 - accuracy: 0.1136 - val_loss: 2.1942 - val_accuracy: 0.4458\n",
      "Epoch 3/100\n",
      "15/15 [==============================] - 0s 7ms/step - loss: 2.2407 - accuracy: 0.1673 - val_loss: 2.1162 - val_accuracy: 0.5917\n",
      "Epoch 4/100\n",
      "15/15 [==============================] - 0s 6ms/step - loss: 2.1708 - accuracy: 0.1883 - val_loss: 1.9811 - val_accuracy: 0.6292\n",
      "Epoch 5/100\n",
      "15/15 [==============================] - 0s 6ms/step - loss: 2.1065 - accuracy: 0.2552 - val_loss: 1.7733 - val_accuracy: 0.6375\n",
      "Epoch 6/100\n",
      "15/15 [==============================] - 0s 8ms/step - loss: 1.9215 - accuracy: 0.3618 - val_loss: 1.5128 - val_accuracy: 0.6417\n",
      "Epoch 7/100\n",
      "15/15 [==============================] - 0s 11ms/step - loss: 1.7312 - accuracy: 0.3697 - val_loss: 1.2597 - val_accuracy: 0.6792\n",
      "Epoch 8/100\n",
      "15/15 [==============================] - 0s 7ms/step - loss: 1.5856 - accuracy: 0.4288 - val_loss: 1.0619 - val_accuracy: 0.7292\n",
      "Epoch 9/100\n",
      "15/15 [==============================] - 0s 8ms/step - loss: 1.5035 - accuracy: 0.4637 - val_loss: 0.9281 - val_accuracy: 0.7750\n",
      "Epoch 10/100\n",
      "15/15 [==============================] - 0s 8ms/step - loss: 1.2861 - accuracy: 0.5538 - val_loss: 0.8041 - val_accuracy: 0.7833\n",
      "Epoch 11/100\n",
      "15/15 [==============================] - 0s 13ms/step - loss: 1.2992 - accuracy: 0.5328 - val_loss: 0.7687 - val_accuracy: 0.7958\n",
      "Epoch 12/100\n",
      "15/15 [==============================] - 0s 27ms/step - loss: 1.1936 - accuracy: 0.6116 - val_loss: 0.6951 - val_accuracy: 0.8375\n",
      "Epoch 13/100\n",
      "15/15 [==============================] - 0s 12ms/step - loss: 1.0674 - accuracy: 0.6244 - val_loss: 0.6197 - val_accuracy: 0.8167\n",
      "Epoch 14/100\n",
      "15/15 [==============================] - 0s 10ms/step - loss: 1.1088 - accuracy: 0.6226 - val_loss: 0.5875 - val_accuracy: 0.8417\n",
      "Epoch 15/100\n",
      "15/15 [==============================] - 0s 7ms/step - loss: 1.0473 - accuracy: 0.6660 - val_loss: 0.5322 - val_accuracy: 0.8500\n",
      "Epoch 16/100\n",
      "15/15 [==============================] - 0s 8ms/step - loss: 0.9850 - accuracy: 0.6695 - val_loss: 0.5346 - val_accuracy: 0.8667\n",
      "Epoch 17/100\n",
      "15/15 [==============================] - 0s 9ms/step - loss: 0.9235 - accuracy: 0.7064 - val_loss: 0.4865 - val_accuracy: 0.8708\n",
      "Epoch 18/100\n",
      "15/15 [==============================] - 0s 6ms/step - loss: 0.8621 - accuracy: 0.7251 - val_loss: 0.4544 - val_accuracy: 0.8708\n",
      "Epoch 19/100\n",
      "15/15 [==============================] - 0s 9ms/step - loss: 0.8797 - accuracy: 0.7075 - val_loss: 0.4618 - val_accuracy: 0.8708\n",
      "Epoch 20/100\n",
      "15/15 [==============================] - 0s 6ms/step - loss: 0.7640 - accuracy: 0.7602 - val_loss: 0.4395 - val_accuracy: 0.8917\n",
      "Epoch 21/100\n",
      "15/15 [==============================] - 0s 7ms/step - loss: 0.7939 - accuracy: 0.7491 - val_loss: 0.4131 - val_accuracy: 0.8875\n",
      "Epoch 22/100\n",
      "15/15 [==============================] - 0s 8ms/step - loss: 0.6840 - accuracy: 0.7634 - val_loss: 0.4026 - val_accuracy: 0.8708\n",
      "Epoch 23/100\n",
      "15/15 [==============================] - 0s 8ms/step - loss: 0.7187 - accuracy: 0.7606 - val_loss: 0.3939 - val_accuracy: 0.8875\n",
      "Epoch 24/100\n",
      "15/15 [==============================] - 0s 8ms/step - loss: 0.7690 - accuracy: 0.7407 - val_loss: 0.3830 - val_accuracy: 0.8792\n",
      "Epoch 25/100\n",
      "15/15 [==============================] - 0s 10ms/step - loss: 0.6573 - accuracy: 0.7982 - val_loss: 0.3694 - val_accuracy: 0.9000\n",
      "Epoch 26/100\n",
      "15/15 [==============================] - 0s 7ms/step - loss: 0.6237 - accuracy: 0.8022 - val_loss: 0.3802 - val_accuracy: 0.9000\n",
      "Epoch 27/100\n",
      "15/15 [==============================] - 0s 21ms/step - loss: 0.6049 - accuracy: 0.7936 - val_loss: 0.3651 - val_accuracy: 0.9042\n",
      "Epoch 28/100\n",
      "15/15 [==============================] - 0s 9ms/step - loss: 0.5344 - accuracy: 0.8199 - val_loss: 0.3451 - val_accuracy: 0.9000\n",
      "Epoch 29/100\n",
      "15/15 [==============================] - 0s 14ms/step - loss: 0.5710 - accuracy: 0.8157 - val_loss: 0.3284 - val_accuracy: 0.9083\n",
      "Epoch 30/100\n",
      "15/15 [==============================] - 0s 7ms/step - loss: 0.5182 - accuracy: 0.8333 - val_loss: 0.3109 - val_accuracy: 0.9125\n",
      "Epoch 31/100\n",
      "15/15 [==============================] - 0s 7ms/step - loss: 0.5318 - accuracy: 0.8174 - val_loss: 0.3333 - val_accuracy: 0.9083\n",
      "Epoch 32/100\n",
      "15/15 [==============================] - 0s 18ms/step - loss: 0.4828 - accuracy: 0.8551 - val_loss: 0.3191 - val_accuracy: 0.9125\n",
      "Epoch 33/100\n",
      "15/15 [==============================] - 0s 10ms/step - loss: 0.5299 - accuracy: 0.8212 - val_loss: 0.3172 - val_accuracy: 0.9167\n",
      "Epoch 34/100\n",
      "15/15 [==============================] - 1s 41ms/step - loss: 0.5194 - accuracy: 0.8375 - val_loss: 0.3140 - val_accuracy: 0.9208\n",
      "Epoch 35/100\n",
      "15/15 [==============================] - 0s 11ms/step - loss: 0.5057 - accuracy: 0.8309 - val_loss: 0.3068 - val_accuracy: 0.9167\n",
      "Epoch 36/100\n",
      "15/15 [==============================] - 0s 16ms/step - loss: 0.5125 - accuracy: 0.8238 - val_loss: 0.2985 - val_accuracy: 0.9250\n",
      "Epoch 37/100\n",
      "15/15 [==============================] - 0s 11ms/step - loss: 0.4358 - accuracy: 0.8614 - val_loss: 0.3000 - val_accuracy: 0.9208\n",
      "Epoch 38/100\n",
      "15/15 [==============================] - 0s 10ms/step - loss: 0.4210 - accuracy: 0.8729 - val_loss: 0.3312 - val_accuracy: 0.9000\n",
      "Epoch 39/100\n",
      "15/15 [==============================] - 0s 13ms/step - loss: 0.4602 - accuracy: 0.8399 - val_loss: 0.3108 - val_accuracy: 0.9167\n",
      "Epoch 40/100\n",
      "15/15 [==============================] - 0s 6ms/step - loss: 0.4335 - accuracy: 0.8515 - val_loss: 0.2932 - val_accuracy: 0.9208\n",
      "Epoch 41/100\n",
      "15/15 [==============================] - 0s 8ms/step - loss: 0.4194 - accuracy: 0.8697 - val_loss: 0.2960 - val_accuracy: 0.9167\n",
      "Epoch 42/100\n",
      "15/15 [==============================] - 0s 6ms/step - loss: 0.4116 - accuracy: 0.8668 - val_loss: 0.3143 - val_accuracy: 0.9042\n",
      "Epoch 43/100\n",
      "15/15 [==============================] - 0s 13ms/step - loss: 0.3754 - accuracy: 0.8819 - val_loss: 0.2988 - val_accuracy: 0.9167\n",
      "Epoch 44/100\n",
      "15/15 [==============================] - 0s 10ms/step - loss: 0.4367 - accuracy: 0.8742 - val_loss: 0.2864 - val_accuracy: 0.9167\n",
      "Epoch 45/100\n",
      "15/15 [==============================] - 0s 8ms/step - loss: 0.4019 - accuracy: 0.8817 - val_loss: 0.2919 - val_accuracy: 0.9292\n",
      "Epoch 46/100\n",
      "15/15 [==============================] - 0s 6ms/step - loss: 0.4362 - accuracy: 0.8658 - val_loss: 0.2921 - val_accuracy: 0.9208\n",
      "Epoch 47/100\n",
      "15/15 [==============================] - 0s 6ms/step - loss: 0.3813 - accuracy: 0.8877 - val_loss: 0.2935 - val_accuracy: 0.9250\n",
      "Epoch 48/100\n",
      "15/15 [==============================] - 0s 8ms/step - loss: 0.3816 - accuracy: 0.8896 - val_loss: 0.3173 - val_accuracy: 0.9167\n",
      "Epoch 49/100\n",
      "15/15 [==============================] - 0s 12ms/step - loss: 0.3829 - accuracy: 0.8784 - val_loss: 0.3060 - val_accuracy: 0.9292\n",
      "Epoch 50/100\n",
      "15/15 [==============================] - 0s 7ms/step - loss: 0.3561 - accuracy: 0.8873 - val_loss: 0.3042 - val_accuracy: 0.9250\n",
      "Epoch 51/100\n",
      "15/15 [==============================] - 0s 8ms/step - loss: 0.3375 - accuracy: 0.8764 - val_loss: 0.3159 - val_accuracy: 0.9125\n",
      "Epoch 52/100\n",
      "15/15 [==============================] - 0s 10ms/step - loss: 0.3514 - accuracy: 0.9025 - val_loss: 0.3119 - val_accuracy: 0.9042\n",
      "Epoch 53/100\n",
      "15/15 [==============================] - 0s 12ms/step - loss: 0.3397 - accuracy: 0.8920 - val_loss: 0.2953 - val_accuracy: 0.9292\n",
      "Epoch 54/100\n",
      "15/15 [==============================] - 0s 12ms/step - loss: 0.2966 - accuracy: 0.9093 - val_loss: 0.2962 - val_accuracy: 0.9375\n",
      "Epoch 55/100\n",
      "15/15 [==============================] - 0s 6ms/step - loss: 0.3143 - accuracy: 0.8911 - val_loss: 0.3010 - val_accuracy: 0.9375\n",
      "Epoch 56/100\n",
      "15/15 [==============================] - 0s 7ms/step - loss: 0.3449 - accuracy: 0.8929 - val_loss: 0.3013 - val_accuracy: 0.9250\n",
      "Epoch 57/100\n",
      "15/15 [==============================] - 0s 11ms/step - loss: 0.3836 - accuracy: 0.8754 - val_loss: 0.2738 - val_accuracy: 0.9375\n",
      "Epoch 58/100\n"
     ]
    },
    {
     "name": "stdout",
     "output_type": "stream",
     "text": [
      "15/15 [==============================] - 0s 13ms/step - loss: 0.2810 - accuracy: 0.9061 - val_loss: 0.3103 - val_accuracy: 0.9292\n",
      "Epoch 59/100\n",
      "15/15 [==============================] - 0s 17ms/step - loss: 0.3176 - accuracy: 0.9049 - val_loss: 0.3031 - val_accuracy: 0.9208\n",
      "Epoch 60/100\n",
      "15/15 [==============================] - 0s 9ms/step - loss: 0.2549 - accuracy: 0.9289 - val_loss: 0.2989 - val_accuracy: 0.9208\n",
      "Epoch 61/100\n",
      "15/15 [==============================] - 0s 9ms/step - loss: 0.3507 - accuracy: 0.8994 - val_loss: 0.3107 - val_accuracy: 0.9333\n",
      "Epoch 62/100\n",
      "15/15 [==============================] - 0s 18ms/step - loss: 0.3238 - accuracy: 0.9049 - val_loss: 0.3027 - val_accuracy: 0.9292\n",
      "Epoch 63/100\n",
      "15/15 [==============================] - 0s 9ms/step - loss: 0.2919 - accuracy: 0.9169 - val_loss: 0.2855 - val_accuracy: 0.9375\n",
      "Epoch 64/100\n",
      "15/15 [==============================] - 0s 17ms/step - loss: 0.3110 - accuracy: 0.8971 - val_loss: 0.2906 - val_accuracy: 0.9333\n",
      "Epoch 65/100\n",
      "15/15 [==============================] - 0s 13ms/step - loss: 0.2820 - accuracy: 0.9329 - val_loss: 0.3031 - val_accuracy: 0.9292\n",
      "Epoch 66/100\n",
      "15/15 [==============================] - 0s 22ms/step - loss: 0.2332 - accuracy: 0.9282 - val_loss: 0.2895 - val_accuracy: 0.9333\n",
      "Epoch 67/100\n",
      "15/15 [==============================] - 0s 15ms/step - loss: 0.2663 - accuracy: 0.9044 - val_loss: 0.2988 - val_accuracy: 0.9292\n",
      "Epoch 68/100\n",
      "15/15 [==============================] - 0s 9ms/step - loss: 0.2523 - accuracy: 0.9262 - val_loss: 0.3150 - val_accuracy: 0.9250\n",
      "Epoch 69/100\n",
      "15/15 [==============================] - 0s 8ms/step - loss: 0.2595 - accuracy: 0.9246 - val_loss: 0.3055 - val_accuracy: 0.9292\n",
      "Epoch 70/100\n",
      "15/15 [==============================] - 0s 12ms/step - loss: 0.2411 - accuracy: 0.9223 - val_loss: 0.3041 - val_accuracy: 0.9292\n",
      "Epoch 71/100\n",
      "15/15 [==============================] - 0s 8ms/step - loss: 0.2893 - accuracy: 0.9082 - val_loss: 0.3028 - val_accuracy: 0.9375\n",
      "Epoch 72/100\n",
      "15/15 [==============================] - 0s 8ms/step - loss: 0.2493 - accuracy: 0.9111 - val_loss: 0.3002 - val_accuracy: 0.9292\n",
      "Epoch 73/100\n",
      "15/15 [==============================] - 0s 9ms/step - loss: 0.2461 - accuracy: 0.9290 - val_loss: 0.3036 - val_accuracy: 0.9208\n",
      "Epoch 74/100\n",
      "15/15 [==============================] - 0s 18ms/step - loss: 0.2306 - accuracy: 0.9304 - val_loss: 0.3021 - val_accuracy: 0.9333\n",
      "Epoch 75/100\n",
      "15/15 [==============================] - 0s 15ms/step - loss: 0.2450 - accuracy: 0.9143 - val_loss: 0.3196 - val_accuracy: 0.9250\n",
      "Epoch 76/100\n",
      "15/15 [==============================] - 0s 10ms/step - loss: 0.3098 - accuracy: 0.9117 - val_loss: 0.3052 - val_accuracy: 0.9333\n",
      "Epoch 77/100\n",
      "15/15 [==============================] - 0s 19ms/step - loss: 0.2697 - accuracy: 0.9262 - val_loss: 0.3062 - val_accuracy: 0.9292\n",
      "Epoch 78/100\n",
      "15/15 [==============================] - ETA: 0s - loss: 0.2322 - accuracy: 0.93 - 0s 16ms/step - loss: 0.2366 - accuracy: 0.9311 - val_loss: 0.3176 - val_accuracy: 0.9292\n",
      "Epoch 79/100\n",
      "15/15 [==============================] - 0s 10ms/step - loss: 0.2513 - accuracy: 0.9301 - val_loss: 0.2838 - val_accuracy: 0.9417\n",
      "Epoch 80/100\n",
      "15/15 [==============================] - 0s 8ms/step - loss: 0.2437 - accuracy: 0.9281 - val_loss: 0.2928 - val_accuracy: 0.9292\n",
      "Epoch 81/100\n",
      "15/15 [==============================] - 0s 8ms/step - loss: 0.2177 - accuracy: 0.9329 - val_loss: 0.3081 - val_accuracy: 0.9208\n",
      "Epoch 82/100\n",
      "15/15 [==============================] - 0s 7ms/step - loss: 0.2232 - accuracy: 0.9351 - val_loss: 0.3137 - val_accuracy: 0.9417\n",
      "Epoch 83/100\n",
      "15/15 [==============================] - 0s 5ms/step - loss: 0.2157 - accuracy: 0.9349 - val_loss: 0.3359 - val_accuracy: 0.9250\n",
      "Epoch 84/100\n",
      "15/15 [==============================] - 0s 9ms/step - loss: 0.2925 - accuracy: 0.9285 - val_loss: 0.3323 - val_accuracy: 0.9292\n",
      "Epoch 85/100\n",
      "15/15 [==============================] - 0s 8ms/step - loss: 0.1995 - accuracy: 0.9486 - val_loss: 0.3116 - val_accuracy: 0.9375\n",
      "Epoch 86/100\n",
      "15/15 [==============================] - 0s 6ms/step - loss: 0.1663 - accuracy: 0.9353 - val_loss: 0.3146 - val_accuracy: 0.9417\n",
      "Epoch 87/100\n",
      "15/15 [==============================] - 0s 6ms/step - loss: 0.2898 - accuracy: 0.9168 - val_loss: 0.3362 - val_accuracy: 0.9375\n",
      "Epoch 88/100\n",
      "15/15 [==============================] - 0s 7ms/step - loss: 0.2335 - accuracy: 0.9417 - val_loss: 0.3359 - val_accuracy: 0.9250\n",
      "Epoch 89/100\n",
      "15/15 [==============================] - 0s 5ms/step - loss: 0.2805 - accuracy: 0.9180 - val_loss: 0.3158 - val_accuracy: 0.9375\n",
      "Epoch 90/100\n",
      "15/15 [==============================] - 0s 6ms/step - loss: 0.2216 - accuracy: 0.9351 - val_loss: 0.3175 - val_accuracy: 0.9292\n",
      "Epoch 91/100\n",
      "15/15 [==============================] - 0s 7ms/step - loss: 0.2206 - accuracy: 0.9193 - val_loss: 0.3469 - val_accuracy: 0.9292\n",
      "Epoch 92/100\n",
      "15/15 [==============================] - 0s 6ms/step - loss: 0.1959 - accuracy: 0.9278 - val_loss: 0.3489 - val_accuracy: 0.9292\n",
      "Epoch 93/100\n",
      "15/15 [==============================] - 0s 7ms/step - loss: 0.2455 - accuracy: 0.9262 - val_loss: 0.3345 - val_accuracy: 0.9292\n",
      "Epoch 94/100\n",
      "15/15 [==============================] - 0s 5ms/step - loss: 0.1770 - accuracy: 0.9472 - val_loss: 0.3140 - val_accuracy: 0.9250\n",
      "Epoch 95/100\n",
      "15/15 [==============================] - 0s 9ms/step - loss: 0.1662 - accuracy: 0.9559 - val_loss: 0.3201 - val_accuracy: 0.9333\n",
      "Epoch 96/100\n",
      "15/15 [==============================] - 0s 5ms/step - loss: 0.2137 - accuracy: 0.9393 - val_loss: 0.3179 - val_accuracy: 0.9292\n",
      "Epoch 97/100\n",
      "15/15 [==============================] - 0s 7ms/step - loss: 0.1904 - accuracy: 0.9370 - val_loss: 0.3120 - val_accuracy: 0.9250\n",
      "Epoch 98/100\n",
      "15/15 [==============================] - 0s 6ms/step - loss: 0.1732 - accuracy: 0.9478 - val_loss: 0.3153 - val_accuracy: 0.9250\n",
      "Epoch 99/100\n",
      "15/15 [==============================] - 0s 5ms/step - loss: 0.1860 - accuracy: 0.9465 - val_loss: 0.3025 - val_accuracy: 0.9375\n",
      "Epoch 100/100\n",
      "15/15 [==============================] - 0s 7ms/step - loss: 0.2144 - accuracy: 0.9294 - val_loss: 0.3374 - val_accuracy: 0.9333\n"
     ]
    }
   ],
   "source": [
    "history_dropout = model_dropout.fit(\n",
    "    x,\n",
    "    y,\n",
    "    batch_size=64,\n",
    "    epochs=100,\n",
    "    validation_split=0.2,\n",
    "    shuffle=True\n",
    ")"
   ]
  },
  {
   "cell_type": "code",
   "execution_count": 36,
   "metadata": {},
   "outputs": [
    {
     "data": {
      "image/png": "[encoded data removed]",
      "text/plain": [
       "<Figure size 1152x432 with 2 Axes>"
      ]
     },
     "metadata": {
      "needs_background": "light"
     },
     "output_type": "display_data"
    }
   ],
   "source": [
    "show_loss_accuracy_evolution(history_dropout)"
   ]
  },
  {
   "cell_type": "code",
   "execution_count": 37,
   "metadata": {},
   "outputs": [
    {
     "name": "stdout",
     "output_type": "stream",
     "text": [
      "Test Loss: 0.3304826617240906\n",
      "Test Accuracy: 0.9196000099182129\n"
     ]
    }
   ],
   "source": [
    "results = model_dropout.evaluate(x_test, y_test, verbose=0)\n",
    "print('Test Loss: {}'.format(results[0]))\n",
    "print('Test Accuracy: {}'.format(results[1]))"
   ]
  },
  {
   "cell_type": "markdown",
   "metadata": {},
   "source": [
    "### Question 2:\n",
    "#### What happens if you change the dropout to 0.1 or 0.9? And what if you put it only on one layer?\n",
    "#### What happens if we delete the flatten first dropout?"
   ]
  },
  {
   "cell_type": "code",
   "execution_count": null,
   "metadata": {},
   "outputs": [],
   "source": []
  },
  {
   "cell_type": "markdown",
   "metadata": {},
   "source": [
    "## Batch Normalization\n",
    "\n",
    "[Batch normalization](https://www.tensorflow.org/api_docs/python/tf/keras/layers/BatchNormalization) applies a transformation that maintains the mean output close to 0 and the output standard deviation close to 1.\n",
    "\n",
    "\n",
    "With Functional API:\n",
    "```python\n",
    "next_layer = layers.BatchNormalization()(prev_layer)\n",
    "```\n",
    "With Sequential:\n",
    "```python\n",
    "model.add(layers.BatchNormalization())\n",
    "```"
   ]
  },
  {
   "cell_type": "code",
   "execution_count": 38,
   "metadata": {},
   "outputs": [],
   "source": [
    "# Input\n",
    "inputs = tf.keras.Input(shape=(28, 28), name='input_layer')\n",
    "# Convert the 2D image to a vector\n",
    "flat = layers.Flatten()(inputs)\n",
    "\n",
    "# hidden layer 1\n",
    "l_1 = layers.Dense(256, activation='relu', name='layer_1')(flat)\n",
    "l_1 = layers.BatchNormalization()(l_1)\n",
    "# hidden layer 2\n",
    "l_2 = layers.Dense(128, activation='relu', name='layer_2')(l_1)\n",
    "l_2 = layers.BatchNormalization()(l_2)\n",
    "# hidden layer 3\n",
    "l_3 = layers.Dense(128, activation='relu', name='layer_3')(l_2)\n",
    "\n",
    "# Outputs\n",
    "outputs = layers.Dense(num_classes, activation='softmax',\n",
    "                       name='output_layer')(l_3)\n",
    "\n",
    "\n",
    "\n",
    "\n",
    "model_batch_norm = keras.Model(inputs=inputs, outputs=outputs, name='dont_overfit_model_batch_norm')"
   ]
  },
  {
   "cell_type": "code",
   "execution_count": 39,
   "metadata": {
    "scrolled": true
   },
   "outputs": [
    {
     "name": "stdout",
     "output_type": "stream",
     "text": [
      "Model: \"dont_overfit_model_batch_norm\"\n",
      "_________________________________________________________________\n",
      "Layer (type)                 Output Shape              Param #   \n",
      "=================================================================\n",
      "input_layer (InputLayer)     [(None, 28, 28)]          0         \n",
      "_________________________________________________________________\n",
      "flatten_5 (Flatten)          (None, 784)               0         \n",
      "_________________________________________________________________\n",
      "layer_1 (Dense)              (None, 256)               200960    \n",
      "_________________________________________________________________\n",
      "batch_normalization (BatchNo (None, 256)               1024      \n",
      "_________________________________________________________________\n",
      "layer_2 (Dense)              (None, 128)               32896     \n",
      "_________________________________________________________________\n",
      "batch_normalization_1 (Batch (None, 128)               512       \n",
      "_________________________________________________________________\n",
      "layer_3 (Dense)              (None, 128)               16512     \n",
      "_________________________________________________________________\n",
      "output_layer (Dense)         (None, 10)                1290      \n",
      "=================================================================\n",
      "Total params: 253,194\n",
      "Trainable params: 252,426\n",
      "Non-trainable params: 768\n",
      "_________________________________________________________________\n"
     ]
    }
   ],
   "source": [
    "model_batch_norm.summary()"
   ]
  },
  {
   "cell_type": "code",
   "execution_count": 40,
   "metadata": {},
   "outputs": [],
   "source": [
    "model_batch_norm.compile(\n",
    "    optimizer='adam', loss='sparse_categorical_crossentropy', metrics=['accuracy'])"
   ]
  },
  {
   "cell_type": "code",
   "execution_count": 41,
   "metadata": {},
   "outputs": [
    {
     "name": "stdout",
     "output_type": "stream",
     "text": [
      "Epoch 1/100\n",
      "15/15 [==============================] - 1s 25ms/step - loss: 1.8901 - accuracy: 0.3748 - val_loss: 1.7666 - val_accuracy: 0.6917\n",
      "Epoch 2/100\n",
      "15/15 [==============================] - 0s 7ms/step - loss: 0.4238 - accuracy: 0.9271 - val_loss: 1.3965 - val_accuracy: 0.8375\n",
      "Epoch 3/100\n",
      "15/15 [==============================] - 0s 7ms/step - loss: 0.2010 - accuracy: 0.9713 - val_loss: 1.1651 - val_accuracy: 0.8667\n",
      "Epoch 4/100\n",
      "15/15 [==============================] - 0s 6ms/step - loss: 0.0948 - accuracy: 0.9938 - val_loss: 1.0158 - val_accuracy: 0.8583\n",
      "Epoch 5/100\n",
      "15/15 [==============================] - 0s 9ms/step - loss: 0.0467 - accuracy: 0.9996 - val_loss: 0.8768 - val_accuracy: 0.8792\n",
      "Epoch 6/100\n",
      "15/15 [==============================] - 0s 6ms/step - loss: 0.0371 - accuracy: 0.9977 - val_loss: 0.7524 - val_accuracy: 0.9000\n",
      "Epoch 7/100\n",
      "15/15 [==============================] - 0s 9ms/step - loss: 0.0210 - accuracy: 1.0000 - val_loss: 0.6531 - val_accuracy: 0.9000\n",
      "Epoch 8/100\n",
      "15/15 [==============================] - 0s 7ms/step - loss: 0.0168 - accuracy: 1.0000 - val_loss: 0.5758 - val_accuracy: 0.9125\n",
      "Epoch 9/100\n",
      "15/15 [==============================] - 0s 6ms/step - loss: 0.0122 - accuracy: 1.0000 - val_loss: 0.5165 - val_accuracy: 0.9125\n",
      "Epoch 10/100\n",
      "15/15 [==============================] - 0s 8ms/step - loss: 0.0085 - accuracy: 1.0000 - val_loss: 0.4627 - val_accuracy: 0.9083\n",
      "Epoch 11/100\n",
      "15/15 [==============================] - 0s 6ms/step - loss: 0.0074 - accuracy: 1.0000 - val_loss: 0.4176 - val_accuracy: 0.9083\n",
      "Epoch 12/100\n",
      "15/15 [==============================] - 0s 9ms/step - loss: 0.0063 - accuracy: 1.0000 - val_loss: 0.3858 - val_accuracy: 0.9125\n",
      "Epoch 13/100\n",
      "15/15 [==============================] - 0s 6ms/step - loss: 0.0058 - accuracy: 1.0000 - val_loss: 0.3622 - val_accuracy: 0.9083\n",
      "Epoch 14/100\n",
      "15/15 [==============================] - 0s 9ms/step - loss: 0.0044 - accuracy: 1.0000 - val_loss: 0.3470 - val_accuracy: 0.9042\n",
      "Epoch 15/100\n",
      "15/15 [==============================] - 0s 7ms/step - loss: 0.0043 - accuracy: 1.0000 - val_loss: 0.3369 - val_accuracy: 0.9125\n",
      "Epoch 16/100\n",
      "15/15 [==============================] - 0s 8ms/step - loss: 0.0035 - accuracy: 1.0000 - val_loss: 0.3272 - val_accuracy: 0.9125\n",
      "Epoch 17/100\n",
      "15/15 [==============================] - 0s 9ms/step - loss: 0.0035 - accuracy: 1.0000 - val_loss: 0.3169 - val_accuracy: 0.9125\n",
      "Epoch 18/100\n",
      "15/15 [==============================] - 0s 6ms/step - loss: 0.0033 - accuracy: 1.0000 - val_loss: 0.3139 - val_accuracy: 0.9042\n",
      "Epoch 19/100\n",
      "15/15 [==============================] - 0s 7ms/step - loss: 0.0026 - accuracy: 1.0000 - val_loss: 0.3126 - val_accuracy: 0.9042\n",
      "Epoch 20/100\n",
      "15/15 [==============================] - 0s 7ms/step - loss: 0.0028 - accuracy: 1.0000 - val_loss: 0.3112 - val_accuracy: 0.9000\n",
      "Epoch 21/100\n",
      "15/15 [==============================] - 0s 7ms/step - loss: 0.0021 - accuracy: 1.0000 - val_loss: 0.3116 - val_accuracy: 0.8958\n",
      "Epoch 22/100\n",
      "15/15 [==============================] - 0s 9ms/step - loss: 0.0019 - accuracy: 1.0000 - val_loss: 0.3149 - val_accuracy: 0.8958\n",
      "Epoch 23/100\n",
      "15/15 [==============================] - 0s 8ms/step - loss: 0.0020 - accuracy: 1.0000 - val_loss: 0.3175 - val_accuracy: 0.9000\n",
      "Epoch 24/100\n",
      "15/15 [==============================] - 0s 7ms/step - loss: 0.0018 - accuracy: 1.0000 - val_loss: 0.3190 - val_accuracy: 0.9000\n",
      "Epoch 25/100\n",
      "15/15 [==============================] - 0s 8ms/step - loss: 0.0017 - accuracy: 1.0000 - val_loss: 0.3222 - val_accuracy: 0.9000\n",
      "Epoch 26/100\n",
      "15/15 [==============================] - 0s 7ms/step - loss: 0.0016 - accuracy: 1.0000 - val_loss: 0.3225 - val_accuracy: 0.8958\n",
      "Epoch 27/100\n",
      "15/15 [==============================] - 0s 6ms/step - loss: 0.0016 - accuracy: 1.0000 - val_loss: 0.3261 - val_accuracy: 0.8958\n",
      "Epoch 28/100\n",
      "15/15 [==============================] - 0s 7ms/step - loss: 0.0011 - accuracy: 1.0000 - val_loss: 0.3298 - val_accuracy: 0.9042\n",
      "Epoch 29/100\n",
      "15/15 [==============================] - 0s 7ms/step - loss: 0.0012 - accuracy: 1.0000 - val_loss: 0.3324 - val_accuracy: 0.9083\n",
      "Epoch 30/100\n",
      "15/15 [==============================] - 0s 9ms/step - loss: 0.0013 - accuracy: 1.0000 - val_loss: 0.3334 - val_accuracy: 0.9042\n",
      "Epoch 31/100\n",
      "15/15 [==============================] - 0s 8ms/step - loss: 0.0011 - accuracy: 1.0000 - val_loss: 0.3377 - val_accuracy: 0.9000\n",
      "Epoch 32/100\n",
      "15/15 [==============================] - 0s 9ms/step - loss: 0.0011 - accuracy: 1.0000 - val_loss: 0.3408 - val_accuracy: 0.9042\n",
      "Epoch 33/100\n",
      "15/15 [==============================] - 0s 5ms/step - loss: 8.5391e-04 - accuracy: 1.0000 - val_loss: 0.3439 - val_accuracy: 0.9042\n",
      "Epoch 34/100\n",
      "15/15 [==============================] - 0s 6ms/step - loss: 7.2590e-04 - accuracy: 1.0000 - val_loss: 0.3460 - val_accuracy: 0.9042\n",
      "Epoch 35/100\n",
      "15/15 [==============================] - 0s 7ms/step - loss: 8.8234e-04 - accuracy: 1.0000 - val_loss: 0.3465 - val_accuracy: 0.9042\n",
      "Epoch 36/100\n",
      "15/15 [==============================] - 0s 7ms/step - loss: 9.0522e-04 - accuracy: 1.0000 - val_loss: 0.3467 - val_accuracy: 0.9042\n",
      "Epoch 37/100\n",
      "15/15 [==============================] - 0s 7ms/step - loss: 0.0011 - accuracy: 1.0000 - val_loss: 0.3491 - val_accuracy: 0.9042\n",
      "Epoch 38/100\n",
      "15/15 [==============================] - 0s 8ms/step - loss: 6.2154e-04 - accuracy: 1.0000 - val_loss: 0.3530 - val_accuracy: 0.9042\n",
      "Epoch 39/100\n",
      "15/15 [==============================] - 0s 6ms/step - loss: 6.0568e-04 - accuracy: 1.0000 - val_loss: 0.3553 - val_accuracy: 0.9042\n",
      "Epoch 40/100\n",
      "15/15 [==============================] - 0s 5ms/step - loss: 6.5801e-04 - accuracy: 1.0000 - val_loss: 0.3571 - val_accuracy: 0.9042\n",
      "Epoch 41/100\n",
      "15/15 [==============================] - 0s 5ms/step - loss: 7.4142e-04 - accuracy: 1.0000 - val_loss: 0.3568 - val_accuracy: 0.9042\n",
      "Epoch 42/100\n",
      "15/15 [==============================] - 0s 7ms/step - loss: 6.1840e-04 - accuracy: 1.0000 - val_loss: 0.3578 - val_accuracy: 0.9042\n",
      "Epoch 43/100\n",
      "15/15 [==============================] - 0s 8ms/step - loss: 5.2018e-04 - accuracy: 1.0000 - val_loss: 0.3594 - val_accuracy: 0.9042\n",
      "Epoch 44/100\n",
      "15/15 [==============================] - 0s 6ms/step - loss: 5.8817e-04 - accuracy: 1.0000 - val_loss: 0.3598 - val_accuracy: 0.9042\n",
      "Epoch 45/100\n",
      "15/15 [==============================] - 0s 6ms/step - loss: 4.6981e-04 - accuracy: 1.0000 - val_loss: 0.3614 - val_accuracy: 0.9042\n",
      "Epoch 46/100\n",
      "15/15 [==============================] - 0s 7ms/step - loss: 5.3199e-04 - accuracy: 1.0000 - val_loss: 0.3627 - val_accuracy: 0.9000\n",
      "Epoch 47/100\n",
      "15/15 [==============================] - 0s 7ms/step - loss: 3.9066e-04 - accuracy: 1.0000 - val_loss: 0.3631 - val_accuracy: 0.9000\n",
      "Epoch 48/100\n",
      "15/15 [==============================] - 0s 6ms/step - loss: 4.7800e-04 - accuracy: 1.0000 - val_loss: 0.3626 - val_accuracy: 0.9000\n",
      "Epoch 49/100\n",
      "15/15 [==============================] - 0s 6ms/step - loss: 4.7493e-04 - accuracy: 1.0000 - val_loss: 0.3640 - val_accuracy: 0.9000\n",
      "Epoch 50/100\n",
      "15/15 [==============================] - 0s 6ms/step - loss: 5.6848e-04 - accuracy: 1.0000 - val_loss: 0.3646 - val_accuracy: 0.9042\n",
      "Epoch 51/100\n",
      "15/15 [==============================] - 0s 6ms/step - loss: 4.6698e-04 - accuracy: 1.0000 - val_loss: 0.3645 - val_accuracy: 0.9042\n",
      "Epoch 52/100\n",
      "15/15 [==============================] - 0s 6ms/step - loss: 3.9142e-04 - accuracy: 1.0000 - val_loss: 0.3654 - val_accuracy: 0.9000\n",
      "Epoch 53/100\n",
      "15/15 [==============================] - 0s 6ms/step - loss: 3.4339e-04 - accuracy: 1.0000 - val_loss: 0.3671 - val_accuracy: 0.9000\n",
      "Epoch 54/100\n",
      "15/15 [==============================] - 0s 6ms/step - loss: 3.6692e-04 - accuracy: 1.0000 - val_loss: 0.3687 - val_accuracy: 0.9000\n",
      "Epoch 55/100\n",
      "15/15 [==============================] - 0s 11ms/step - loss: 3.3285e-04 - accuracy: 1.0000 - val_loss: 0.3692 - val_accuracy: 0.9000\n",
      "Epoch 56/100\n",
      "15/15 [==============================] - 0s 8ms/step - loss: 2.9714e-04 - accuracy: 1.0000 - val_loss: 0.3705 - val_accuracy: 0.9000\n",
      "Epoch 57/100\n",
      "15/15 [==============================] - 0s 7ms/step - loss: 4.1493e-04 - accuracy: 1.0000 - val_loss: 0.3720 - val_accuracy: 0.9000\n",
      "Epoch 58/100\n"
     ]
    },
    {
     "name": "stdout",
     "output_type": "stream",
     "text": [
      "15/15 [==============================] - 0s 6ms/step - loss: 2.7241e-04 - accuracy: 1.0000 - val_loss: 0.3737 - val_accuracy: 0.8958\n",
      "Epoch 59/100\n",
      "15/15 [==============================] - 0s 7ms/step - loss: 3.2440e-04 - accuracy: 1.0000 - val_loss: 0.3739 - val_accuracy: 0.8958\n",
      "Epoch 60/100\n",
      "15/15 [==============================] - 0s 6ms/step - loss: 2.3929e-04 - accuracy: 1.0000 - val_loss: 0.3734 - val_accuracy: 0.9000\n",
      "Epoch 61/100\n",
      "15/15 [==============================] - 0s 7ms/step - loss: 2.5733e-04 - accuracy: 1.0000 - val_loss: 0.3736 - val_accuracy: 0.9000\n",
      "Epoch 62/100\n",
      "15/15 [==============================] - 0s 5ms/step - loss: 3.1531e-04 - accuracy: 1.0000 - val_loss: 0.3757 - val_accuracy: 0.9000\n",
      "Epoch 63/100\n",
      "15/15 [==============================] - 0s 6ms/step - loss: 2.6690e-04 - accuracy: 1.0000 - val_loss: 0.3764 - val_accuracy: 0.9000\n",
      "Epoch 64/100\n",
      "15/15 [==============================] - 0s 7ms/step - loss: 2.1063e-04 - accuracy: 1.0000 - val_loss: 0.3769 - val_accuracy: 0.9000\n",
      "Epoch 65/100\n",
      "15/15 [==============================] - 0s 6ms/step - loss: 2.7374e-04 - accuracy: 1.0000 - val_loss: 0.3776 - val_accuracy: 0.9000\n",
      "Epoch 66/100\n",
      "15/15 [==============================] - 0s 15ms/step - loss: 2.4157e-04 - accuracy: 1.0000 - val_loss: 0.3778 - val_accuracy: 0.9000\n",
      "Epoch 67/100\n",
      "15/15 [==============================] - 0s 6ms/step - loss: 2.2942e-04 - accuracy: 1.0000 - val_loss: 0.3787 - val_accuracy: 0.9000\n",
      "Epoch 68/100\n",
      "15/15 [==============================] - 0s 7ms/step - loss: 2.1752e-04 - accuracy: 1.0000 - val_loss: 0.3805 - val_accuracy: 0.9000\n",
      "Epoch 69/100\n",
      "15/15 [==============================] - 0s 8ms/step - loss: 1.9620e-04 - accuracy: 1.0000 - val_loss: 0.3796 - val_accuracy: 0.9000\n",
      "Epoch 70/100\n",
      "15/15 [==============================] - 0s 9ms/step - loss: 2.4429e-04 - accuracy: 1.0000 - val_loss: 0.3776 - val_accuracy: 0.9000\n",
      "Epoch 71/100\n",
      "15/15 [==============================] - 0s 9ms/step - loss: 2.3665e-04 - accuracy: 1.0000 - val_loss: 0.3753 - val_accuracy: 0.9000\n",
      "Epoch 72/100\n",
      "15/15 [==============================] - ETA: 0s - loss: 2.9244e-04 - accuracy: 1.00 - 0s 5ms/step - loss: 1.8637e-04 - accuracy: 1.0000 - val_loss: 0.3759 - val_accuracy: 0.9000\n",
      "Epoch 73/100\n",
      "15/15 [==============================] - 0s 8ms/step - loss: 2.6706e-04 - accuracy: 1.0000 - val_loss: 0.3796 - val_accuracy: 0.9000\n",
      "Epoch 74/100\n",
      "15/15 [==============================] - 0s 7ms/step - loss: 1.8538e-04 - accuracy: 1.0000 - val_loss: 0.3814 - val_accuracy: 0.9000\n",
      "Epoch 75/100\n",
      "15/15 [==============================] - 0s 11ms/step - loss: 2.4933e-04 - accuracy: 1.0000 - val_loss: 0.3776 - val_accuracy: 0.9000\n",
      "Epoch 76/100\n",
      "15/15 [==============================] - 0s 7ms/step - loss: 1.8421e-04 - accuracy: 1.0000 - val_loss: 0.3739 - val_accuracy: 0.9000\n",
      "Epoch 77/100\n",
      "15/15 [==============================] - 0s 5ms/step - loss: 1.6634e-04 - accuracy: 1.0000 - val_loss: 0.3735 - val_accuracy: 0.9000\n",
      "Epoch 78/100\n",
      "15/15 [==============================] - 0s 5ms/step - loss: 1.8431e-04 - accuracy: 1.0000 - val_loss: 0.3752 - val_accuracy: 0.9000\n",
      "Epoch 79/100\n",
      "15/15 [==============================] - 0s 5ms/step - loss: 1.4534e-04 - accuracy: 1.0000 - val_loss: 0.3766 - val_accuracy: 0.9000\n",
      "Epoch 80/100\n",
      "15/15 [==============================] - 0s 7ms/step - loss: 2.2043e-04 - accuracy: 1.0000 - val_loss: 0.3792 - val_accuracy: 0.9000\n",
      "Epoch 81/100\n",
      "15/15 [==============================] - 0s 5ms/step - loss: 1.7332e-04 - accuracy: 1.0000 - val_loss: 0.3815 - val_accuracy: 0.9000\n",
      "Epoch 82/100\n",
      "15/15 [==============================] - 0s 6ms/step - loss: 1.9964e-04 - accuracy: 1.0000 - val_loss: 0.3861 - val_accuracy: 0.9000\n",
      "Epoch 83/100\n",
      "15/15 [==============================] - 0s 7ms/step - loss: 2.1214e-04 - accuracy: 1.0000 - val_loss: 0.3843 - val_accuracy: 0.9000\n",
      "Epoch 84/100\n",
      "15/15 [==============================] - 0s 6ms/step - loss: 1.2209e-04 - accuracy: 1.0000 - val_loss: 0.3836 - val_accuracy: 0.9000\n",
      "Epoch 85/100\n",
      "15/15 [==============================] - 0s 5ms/step - loss: 1.9047e-04 - accuracy: 1.0000 - val_loss: 0.3848 - val_accuracy: 0.9000\n",
      "Epoch 86/100\n",
      "15/15 [==============================] - 0s 6ms/step - loss: 1.2973e-04 - accuracy: 1.0000 - val_loss: 0.3843 - val_accuracy: 0.9000\n",
      "Epoch 87/100\n",
      "15/15 [==============================] - 0s 7ms/step - loss: 1.5046e-04 - accuracy: 1.0000 - val_loss: 0.3861 - val_accuracy: 0.9000\n",
      "Epoch 88/100\n",
      "15/15 [==============================] - 0s 11ms/step - loss: 1.4828e-04 - accuracy: 1.0000 - val_loss: 0.3848 - val_accuracy: 0.9000\n",
      "Epoch 89/100\n",
      "15/15 [==============================] - 0s 7ms/step - loss: 1.2902e-04 - accuracy: 1.0000 - val_loss: 0.3851 - val_accuracy: 0.9000\n",
      "Epoch 90/100\n",
      "15/15 [==============================] - 0s 5ms/step - loss: 1.2950e-04 - accuracy: 1.0000 - val_loss: 0.3871 - val_accuracy: 0.9000\n",
      "Epoch 91/100\n",
      "15/15 [==============================] - 0s 5ms/step - loss: 1.4674e-04 - accuracy: 1.0000 - val_loss: 0.3876 - val_accuracy: 0.9000\n",
      "Epoch 92/100\n",
      "15/15 [==============================] - 0s 7ms/step - loss: 1.1809e-04 - accuracy: 1.0000 - val_loss: 0.3876 - val_accuracy: 0.9000\n",
      "Epoch 93/100\n",
      "15/15 [==============================] - 0s 5ms/step - loss: 1.1128e-04 - accuracy: 1.0000 - val_loss: 0.3871 - val_accuracy: 0.9000\n",
      "Epoch 94/100\n",
      "15/15 [==============================] - 0s 7ms/step - loss: 1.2400e-04 - accuracy: 1.0000 - val_loss: 0.3873 - val_accuracy: 0.9000\n",
      "Epoch 95/100\n",
      "15/15 [==============================] - 0s 6ms/step - loss: 1.0204e-04 - accuracy: 1.0000 - val_loss: 0.3875 - val_accuracy: 0.9000\n",
      "Epoch 96/100\n",
      "15/15 [==============================] - 0s 7ms/step - loss: 9.1421e-05 - accuracy: 1.0000 - val_loss: 0.3882 - val_accuracy: 0.9000\n",
      "Epoch 97/100\n",
      "15/15 [==============================] - 0s 9ms/step - loss: 1.0509e-04 - accuracy: 1.0000 - val_loss: 0.3898 - val_accuracy: 0.9000\n",
      "Epoch 98/100\n",
      "15/15 [==============================] - 0s 5ms/step - loss: 1.2630e-04 - accuracy: 1.0000 - val_loss: 0.3897 - val_accuracy: 0.9000\n",
      "Epoch 99/100\n",
      "15/15 [==============================] - 0s 5ms/step - loss: 1.3552e-04 - accuracy: 1.0000 - val_loss: 0.3898 - val_accuracy: 0.9000\n",
      "Epoch 100/100\n",
      "15/15 [==============================] - 0s 8ms/step - loss: 1.0696e-04 - accuracy: 1.0000 - val_loss: 0.3896 - val_accuracy: 0.9000\n"
     ]
    }
   ],
   "source": [
    "history_batch_norm = model_batch_norm.fit(\n",
    "    x,\n",
    "    y,\n",
    "    batch_size=64,\n",
    "    epochs=100,\n",
    "    validation_split=0.2,\n",
    "    shuffle=True\n",
    ")"
   ]
  },
  {
   "cell_type": "code",
   "execution_count": 42,
   "metadata": {
    "scrolled": true
   },
   "outputs": [
    {
     "data": {
      "image/png": "[encoded data removed]",
      "text/plain": [
       "<Figure size 1152x432 with 2 Axes>"
      ]
     },
     "metadata": {
      "needs_background": "light"
     },
     "output_type": "display_data"
    }
   ],
   "source": [
    "show_loss_accuracy_evolution(history_batch_norm)"
   ]
  },
  {
   "cell_type": "code",
   "execution_count": 43,
   "metadata": {},
   "outputs": [
    {
     "name": "stdout",
     "output_type": "stream",
     "text": [
      "Test Loss: 0.3793099522590637\n",
      "Test Accuracy: 0.9074000120162964\n"
     ]
    }
   ],
   "source": [
    "results = model_batch_norm.evaluate(x_test, y_test, verbose=0)\n",
    "print('Test Loss: {}'.format(results[0]))\n",
    "print('Test Accuracy: {}'.format(results[1]))"
   ]
  },
  {
   "cell_type": "markdown",
   "metadata": {},
   "source": [
    "<a id='l1_l2_elasticnet'></a>\n",
    "## L1, L2 and ElasticNet\n",
    "\n",
    "Recordemos que durante el entrenamiento de la red se aprende la configuración de pesos y biases que permita mejorar los resultados para una determinada función de pérdida.\n",
    "\n",
    "* [L1 regularization](https://developers.google.com/machine-learning/glossary/#L1_regularization), where the cost added is proportional to the absolute value of the weights coefficients (\"L1 norm\" of the weights).\n",
    "\n",
    "```python\n",
    "tf.keras.regularizers.l1(l1=0.01)\n",
    "\n",
    "layers.Dense(3, kernel_regularizer='l1')\n",
    "\n",
    "```\n",
    "\n",
    "\n",
    "* [L2 regularization](https://developers.google.com/machine-learning/glossary/#L2_regularization), where the cost added is proportional to the square of the value of the weights coefficients ( \"L2 norm\" of the weights). \n",
    "\n",
    "```python\n",
    "tf.keras.regularizers.l2(l2=0.01)\n",
    "\n",
    "layers.Dense(3, kernel_regularizer='l2')\n",
    "\n",
    "```\n",
    "* L1_L2 or Elastic Net.\n",
    "\n",
    "```python\n",
    "tf.keras.regularizers.l1_l2(\n",
    "    l1=0.01, l2=0.01\n",
    ")\n",
    "\n",
    "layers.Dense(3, kernel_regularizer='l1_l2')\n",
    "\n",
    "```\n",
    "\n",
    "Furthermore, it is possible to choose whether to include the penalty in the cost function on the weights, the biases or on the activation, with the following arguments:\n",
    "- `kernel_regularizer`: only on weights.\n",
    "- `bias_regularizer`: only on biases.\n",
    "- `activity_regularizer`: on full output.\n",
    "\n",
    "[link to documentation](https://keras.io/api/layers/regularizers/)."
   ]
  },
  {
   "cell_type": "code",
   "execution_count": 44,
   "metadata": {},
   "outputs": [],
   "source": [
    "from tensorflow.keras import regularizers"
   ]
  },
  {
   "cell_type": "code",
   "execution_count": 45,
   "metadata": {},
   "outputs": [],
   "source": [
    "kerner_regularizer_l1 = regularizers.l1_l2(l1=1e-5, l2=5e-4)\n",
    "kerner_regularizer_l2 = regularizers.l2(5e-4)\n",
    "kerner_regularizer_l3 = regularizers.l1(1e-5)"
   ]
  },
  {
   "cell_type": "code",
   "execution_count": 46,
   "metadata": {},
   "outputs": [],
   "source": [
    "\n",
    "# Input\n",
    "inputs = tf.keras.Input(shape=(28, 28), name='input_layer')\n",
    "# Convert the 2D image to a vector\n",
    "flat = layers.Flatten()(inputs)\n",
    "\n",
    "# hidden layer 1\n",
    "l_1 = layers.Dense(256, activation='relu',\n",
    "                   kernel_regularizer=kerner_regularizer_l1, name='layer_1')(flat)\n",
    "# hidden layer 2\n",
    "l_2 = layers.Dense(128, activation='relu',\n",
    "                   kernel_regularizer=kerner_regularizer_l2, name='layer_2')(l_1)\n",
    "# hidden layer 3\n",
    "l_3 = layers.Dense(128, activation='relu',\n",
    "                   kernel_regularizer=kerner_regularizer_l3, name='layer_3')(l_2)\n",
    "\n",
    "# Outputs\n",
    "outputs = layers.Dense(num_classes, activation='softmax',\n",
    "                       name='output_layer')(l_3)\n",
    "\n",
    "\n",
    "model_regularizers = keras.Model(inputs=inputs,\n",
    "                                 outputs=outputs,\n",
    "                                 name='dont_overfit_model_regularizers')"
   ]
  },
  {
   "cell_type": "code",
   "execution_count": 47,
   "metadata": {},
   "outputs": [
    {
     "name": "stdout",
     "output_type": "stream",
     "text": [
      "Model: \"dont_overfit_model_regularizers\"\n",
      "_________________________________________________________________\n",
      "Layer (type)                 Output Shape              Param #   \n",
      "=================================================================\n",
      "input_layer (InputLayer)     [(None, 28, 28)]          0         \n",
      "_________________________________________________________________\n",
      "flatten_6 (Flatten)          (None, 784)               0         \n",
      "_________________________________________________________________\n",
      "layer_1 (Dense)              (None, 256)               200960    \n",
      "_________________________________________________________________\n",
      "layer_2 (Dense)              (None, 128)               32896     \n",
      "_________________________________________________________________\n",
      "layer_3 (Dense)              (None, 128)               16512     \n",
      "_________________________________________________________________\n",
      "output_layer (Dense)         (None, 10)                1290      \n",
      "=================================================================\n",
      "Total params: 251,658\n",
      "Trainable params: 251,658\n",
      "Non-trainable params: 0\n",
      "_________________________________________________________________\n"
     ]
    }
   ],
   "source": [
    "model_regularizers.summary()"
   ]
  },
  {
   "cell_type": "code",
   "execution_count": 48,
   "metadata": {},
   "outputs": [],
   "source": [
    "model_regularizers.compile(optimizer='adam', loss='sparse_categorical_crossentropy', metrics=['accuracy'])"
   ]
  },
  {
   "cell_type": "code",
   "execution_count": 49,
   "metadata": {},
   "outputs": [
    {
     "name": "stdout",
     "output_type": "stream",
     "text": [
      "Epoch 1/100\n",
      "15/15 [==============================] - 1s 16ms/step - loss: 2.3949 - accuracy: 0.3744 - val_loss: 1.3124 - val_accuracy: 0.7875\n",
      "Epoch 2/100\n",
      "15/15 [==============================] - 0s 8ms/step - loss: 1.0653 - accuracy: 0.8111 - val_loss: 0.8793 - val_accuracy: 0.8333\n",
      "Epoch 3/100\n",
      "15/15 [==============================] - 0s 6ms/step - loss: 0.6473 - accuracy: 0.9032 - val_loss: 0.7166 - val_accuracy: 0.8375\n",
      "Epoch 4/100\n",
      "15/15 [==============================] - 0s 8ms/step - loss: 0.5530 - accuracy: 0.9095 - val_loss: 0.6170 - val_accuracy: 0.8958\n",
      "Epoch 5/100\n",
      "15/15 [==============================] - 0s 7ms/step - loss: 0.4360 - accuracy: 0.9559 - val_loss: 0.6066 - val_accuracy: 0.8958\n",
      "Epoch 6/100\n",
      "15/15 [==============================] - 0s 6ms/step - loss: 0.4055 - accuracy: 0.9580 - val_loss: 0.6439 - val_accuracy: 0.8917\n",
      "Epoch 7/100\n",
      "15/15 [==============================] - 0s 7ms/step - loss: 0.3276 - accuracy: 0.9911 - val_loss: 0.5959 - val_accuracy: 0.8958\n",
      "Epoch 8/100\n",
      "15/15 [==============================] - 0s 9ms/step - loss: 0.2982 - accuracy: 0.9990 - val_loss: 0.5862 - val_accuracy: 0.9000\n",
      "Epoch 9/100\n",
      "15/15 [==============================] - 0s 6ms/step - loss: 0.2776 - accuracy: 0.9980 - val_loss: 0.6150 - val_accuracy: 0.9000\n",
      "Epoch 10/100\n",
      "15/15 [==============================] - 0s 14ms/step - loss: 0.2663 - accuracy: 1.0000 - val_loss: 0.6079 - val_accuracy: 0.8958\n",
      "Epoch 11/100\n",
      "15/15 [==============================] - 0s 7ms/step - loss: 0.2537 - accuracy: 1.0000 - val_loss: 0.6109 - val_accuracy: 0.8875\n",
      "Epoch 12/100\n",
      "15/15 [==============================] - 0s 6ms/step - loss: 0.2415 - accuracy: 1.0000 - val_loss: 0.5978 - val_accuracy: 0.9000\n",
      "Epoch 13/100\n",
      "15/15 [==============================] - 0s 7ms/step - loss: 0.2354 - accuracy: 0.9998 - val_loss: 0.5961 - val_accuracy: 0.9000\n",
      "Epoch 14/100\n",
      "15/15 [==============================] - 0s 10ms/step - loss: 0.2266 - accuracy: 1.0000 - val_loss: 0.6124 - val_accuracy: 0.8958\n",
      "Epoch 15/100\n",
      "15/15 [==============================] - 0s 6ms/step - loss: 0.2212 - accuracy: 1.0000 - val_loss: 0.6014 - val_accuracy: 0.8917\n",
      "Epoch 16/100\n",
      "15/15 [==============================] - 0s 9ms/step - loss: 0.2174 - accuracy: 1.0000 - val_loss: 0.5920 - val_accuracy: 0.9000\n",
      "Epoch 17/100\n",
      "15/15 [==============================] - 0s 5ms/step - loss: 0.2113 - accuracy: 1.0000 - val_loss: 0.5786 - val_accuracy: 0.8958\n",
      "Epoch 18/100\n",
      "15/15 [==============================] - 0s 8ms/step - loss: 0.2047 - accuracy: 1.0000 - val_loss: 0.6176 - val_accuracy: 0.8958\n",
      "Epoch 19/100\n",
      "15/15 [==============================] - 0s 6ms/step - loss: 0.2008 - accuracy: 1.0000 - val_loss: 0.6129 - val_accuracy: 0.8958\n",
      "Epoch 20/100\n",
      "15/15 [==============================] - 0s 6ms/step - loss: 0.1959 - accuracy: 1.0000 - val_loss: 0.5740 - val_accuracy: 0.8917\n",
      "Epoch 21/100\n",
      "15/15 [==============================] - 0s 6ms/step - loss: 0.1914 - accuracy: 1.0000 - val_loss: 0.5931 - val_accuracy: 0.8917\n",
      "Epoch 22/100\n",
      "15/15 [==============================] - 0s 6ms/step - loss: 0.1864 - accuracy: 1.0000 - val_loss: 0.5944 - val_accuracy: 0.9000\n",
      "Epoch 23/100\n",
      "15/15 [==============================] - 0s 8ms/step - loss: 0.1824 - accuracy: 1.0000 - val_loss: 0.5793 - val_accuracy: 0.8917\n",
      "Epoch 24/100\n",
      "15/15 [==============================] - 0s 7ms/step - loss: 0.1781 - accuracy: 1.0000 - val_loss: 0.5854 - val_accuracy: 0.8917\n",
      "Epoch 25/100\n",
      "15/15 [==============================] - 0s 8ms/step - loss: 0.1746 - accuracy: 1.0000 - val_loss: 0.5831 - val_accuracy: 0.8958\n",
      "Epoch 26/100\n",
      "15/15 [==============================] - 0s 8ms/step - loss: 0.1700 - accuracy: 1.0000 - val_loss: 0.5781 - val_accuracy: 0.8875\n",
      "Epoch 27/100\n",
      "15/15 [==============================] - 0s 6ms/step - loss: 0.1662 - accuracy: 1.0000 - val_loss: 0.5812 - val_accuracy: 0.8833\n",
      "Epoch 28/100\n",
      "15/15 [==============================] - 0s 8ms/step - loss: 0.1626 - accuracy: 1.0000 - val_loss: 0.5624 - val_accuracy: 0.8875\n",
      "Epoch 29/100\n",
      "15/15 [==============================] - 0s 8ms/step - loss: 0.1593 - accuracy: 1.0000 - val_loss: 0.5593 - val_accuracy: 0.8875\n",
      "Epoch 30/100\n",
      "15/15 [==============================] - 0s 6ms/step - loss: 0.1555 - accuracy: 1.0000 - val_loss: 0.5696 - val_accuracy: 0.8875\n",
      "Epoch 31/100\n",
      "15/15 [==============================] - 0s 6ms/step - loss: 0.1524 - accuracy: 1.0000 - val_loss: 0.5597 - val_accuracy: 0.8833\n",
      "Epoch 32/100\n",
      "15/15 [==============================] - 0s 7ms/step - loss: 0.1488 - accuracy: 1.0000 - val_loss: 0.5530 - val_accuracy: 0.8875\n",
      "Epoch 33/100\n",
      "15/15 [==============================] - 0s 7ms/step - loss: 0.1458 - accuracy: 1.0000 - val_loss: 0.5506 - val_accuracy: 0.8917\n",
      "Epoch 34/100\n",
      "15/15 [==============================] - 0s 10ms/step - loss: 0.1429 - accuracy: 1.0000 - val_loss: 0.5537 - val_accuracy: 0.8833\n",
      "Epoch 35/100\n",
      "15/15 [==============================] - 0s 6ms/step - loss: 0.1401 - accuracy: 1.0000 - val_loss: 0.5472 - val_accuracy: 0.8833\n",
      "Epoch 36/100\n",
      "15/15 [==============================] - 0s 8ms/step - loss: 0.1368 - accuracy: 1.0000 - val_loss: 0.5487 - val_accuracy: 0.8833\n",
      "Epoch 37/100\n",
      "15/15 [==============================] - 0s 9ms/step - loss: 0.1341 - accuracy: 1.0000 - val_loss: 0.5558 - val_accuracy: 0.8792\n",
      "Epoch 38/100\n",
      "15/15 [==============================] - 0s 5ms/step - loss: 0.1315 - accuracy: 1.0000 - val_loss: 0.5553 - val_accuracy: 0.8833\n",
      "Epoch 39/100\n",
      "15/15 [==============================] - 0s 6ms/step - loss: 0.1286 - accuracy: 1.0000 - val_loss: 0.5553 - val_accuracy: 0.8792\n",
      "Epoch 40/100\n",
      "15/15 [==============================] - 0s 7ms/step - loss: 0.1263 - accuracy: 1.0000 - val_loss: 0.5367 - val_accuracy: 0.8750\n",
      "Epoch 41/100\n",
      "15/15 [==============================] - 0s 7ms/step - loss: 0.1235 - accuracy: 1.0000 - val_loss: 0.5583 - val_accuracy: 0.8750\n",
      "Epoch 42/100\n",
      "15/15 [==============================] - 0s 5ms/step - loss: 0.1209 - accuracy: 1.0000 - val_loss: 0.5454 - val_accuracy: 0.8708\n",
      "Epoch 43/100\n",
      "15/15 [==============================] - 0s 6ms/step - loss: 0.1190 - accuracy: 1.0000 - val_loss: 0.5405 - val_accuracy: 0.8792\n",
      "Epoch 44/100\n",
      "15/15 [==============================] - 0s 6ms/step - loss: 0.1163 - accuracy: 1.0000 - val_loss: 0.5562 - val_accuracy: 0.8833\n",
      "Epoch 45/100\n",
      "15/15 [==============================] - 0s 6ms/step - loss: 0.1140 - accuracy: 1.0000 - val_loss: 0.5483 - val_accuracy: 0.8708\n",
      "Epoch 46/100\n",
      "15/15 [==============================] - 0s 8ms/step - loss: 0.1114 - accuracy: 1.0000 - val_loss: 0.5244 - val_accuracy: 0.8833\n",
      "Epoch 47/100\n",
      "15/15 [==============================] - 0s 7ms/step - loss: 0.1096 - accuracy: 1.0000 - val_loss: 0.5302 - val_accuracy: 0.8792\n",
      "Epoch 48/100\n",
      "15/15 [==============================] - 0s 6ms/step - loss: 0.1073 - accuracy: 1.0000 - val_loss: 0.5460 - val_accuracy: 0.8792\n",
      "Epoch 49/100\n",
      "15/15 [==============================] - 0s 6ms/step - loss: 0.1053 - accuracy: 1.0000 - val_loss: 0.5066 - val_accuracy: 0.8792\n",
      "Epoch 50/100\n",
      "15/15 [==============================] - 0s 6ms/step - loss: 0.1033 - accuracy: 1.0000 - val_loss: 0.5252 - val_accuracy: 0.8708\n",
      "Epoch 51/100\n",
      "15/15 [==============================] - 0s 8ms/step - loss: 0.1016 - accuracy: 1.0000 - val_loss: 0.5394 - val_accuracy: 0.8750\n",
      "Epoch 52/100\n",
      "15/15 [==============================] - 0s 8ms/step - loss: 0.0994 - accuracy: 1.0000 - val_loss: 0.5490 - val_accuracy: 0.8625\n",
      "Epoch 53/100\n",
      "15/15 [==============================] - 0s 8ms/step - loss: 0.0971 - accuracy: 1.0000 - val_loss: 0.5095 - val_accuracy: 0.8667\n",
      "Epoch 54/100\n",
      "15/15 [==============================] - 0s 6ms/step - loss: 0.0951 - accuracy: 1.0000 - val_loss: 0.5084 - val_accuracy: 0.8708\n",
      "Epoch 55/100\n",
      "15/15 [==============================] - 0s 8ms/step - loss: 0.0932 - accuracy: 1.0000 - val_loss: 0.4901 - val_accuracy: 0.8792\n",
      "Epoch 56/100\n",
      "15/15 [==============================] - 0s 7ms/step - loss: 0.0914 - accuracy: 1.0000 - val_loss: 0.5141 - val_accuracy: 0.8833\n",
      "Epoch 57/100\n",
      "15/15 [==============================] - 0s 5ms/step - loss: 0.0901 - accuracy: 1.0000 - val_loss: 0.5149 - val_accuracy: 0.8792\n",
      "Epoch 58/100\n",
      "15/15 [==============================] - 0s 6ms/step - loss: 0.0881 - accuracy: 1.0000 - val_loss: 0.5344 - val_accuracy: 0.8708\n"
     ]
    },
    {
     "name": "stdout",
     "output_type": "stream",
     "text": [
      "Epoch 59/100\n",
      "15/15 [==============================] - 0s 7ms/step - loss: 0.0864 - accuracy: 1.0000 - val_loss: 0.5147 - val_accuracy: 0.8833\n",
      "Epoch 60/100\n",
      "15/15 [==============================] - 0s 5ms/step - loss: 0.0849 - accuracy: 1.0000 - val_loss: 0.5276 - val_accuracy: 0.8667\n",
      "Epoch 61/100\n",
      "15/15 [==============================] - 0s 5ms/step - loss: 0.0838 - accuracy: 1.0000 - val_loss: 0.5072 - val_accuracy: 0.8750\n",
      "Epoch 62/100\n",
      "15/15 [==============================] - 0s 6ms/step - loss: 0.0820 - accuracy: 1.0000 - val_loss: 0.4790 - val_accuracy: 0.8917\n",
      "Epoch 63/100\n",
      "15/15 [==============================] - 0s 6ms/step - loss: 0.0879 - accuracy: 0.9984 - val_loss: 0.8835 - val_accuracy: 0.8333\n",
      "Epoch 64/100\n",
      "15/15 [==============================] - 0s 5ms/step - loss: 0.5212 - accuracy: 0.8911 - val_loss: 0.5174 - val_accuracy: 0.8625\n",
      "Epoch 65/100\n",
      "15/15 [==============================] - 0s 7ms/step - loss: 0.3422 - accuracy: 0.9135 - val_loss: 0.4251 - val_accuracy: 0.9042\n",
      "Epoch 66/100\n",
      "15/15 [==============================] - 0s 5ms/step - loss: 0.1870 - accuracy: 0.9831 - val_loss: 0.4901 - val_accuracy: 0.9125\n",
      "Epoch 67/100\n",
      "15/15 [==============================] - 0s 8ms/step - loss: 0.1525 - accuracy: 0.9906 - val_loss: 0.4240 - val_accuracy: 0.9042\n",
      "Epoch 68/100\n",
      "15/15 [==============================] - 0s 7ms/step - loss: 0.1227 - accuracy: 1.0000 - val_loss: 0.4759 - val_accuracy: 0.9125\n",
      "Epoch 69/100\n",
      "15/15 [==============================] - 0s 7ms/step - loss: 0.1160 - accuracy: 1.0000 - val_loss: 0.4570 - val_accuracy: 0.9083\n",
      "Epoch 70/100\n",
      "15/15 [==============================] - 0s 6ms/step - loss: 0.1119 - accuracy: 1.0000 - val_loss: 0.4439 - val_accuracy: 0.9083\n",
      "Epoch 71/100\n",
      "15/15 [==============================] - 0s 7ms/step - loss: 0.1089 - accuracy: 1.0000 - val_loss: 0.4547 - val_accuracy: 0.9125\n",
      "Epoch 72/100\n",
      "15/15 [==============================] - 0s 5ms/step - loss: 0.1062 - accuracy: 1.0000 - val_loss: 0.4578 - val_accuracy: 0.9083\n",
      "Epoch 73/100\n",
      "15/15 [==============================] - 0s 8ms/step - loss: 0.1034 - accuracy: 1.0000 - val_loss: 0.4623 - val_accuracy: 0.9042\n",
      "Epoch 74/100\n",
      "15/15 [==============================] - 0s 5ms/step - loss: 0.1014 - accuracy: 1.0000 - val_loss: 0.4571 - val_accuracy: 0.9125\n",
      "Epoch 75/100\n",
      "15/15 [==============================] - 0s 5ms/step - loss: 0.0989 - accuracy: 1.0000 - val_loss: 0.4587 - val_accuracy: 0.9125\n",
      "Epoch 76/100\n",
      "15/15 [==============================] - 0s 8ms/step - loss: 0.0969 - accuracy: 1.0000 - val_loss: 0.4604 - val_accuracy: 0.9083\n",
      "Epoch 77/100\n",
      "15/15 [==============================] - 0s 8ms/step - loss: 0.0948 - accuracy: 1.0000 - val_loss: 0.4604 - val_accuracy: 0.9042\n",
      "Epoch 78/100\n",
      "15/15 [==============================] - 0s 9ms/step - loss: 0.0931 - accuracy: 1.0000 - val_loss: 0.4593 - val_accuracy: 0.8958\n",
      "Epoch 79/100\n",
      "15/15 [==============================] - 0s 7ms/step - loss: 0.0912 - accuracy: 1.0000 - val_loss: 0.4586 - val_accuracy: 0.8958\n",
      "Epoch 80/100\n",
      "15/15 [==============================] - 0s 5ms/step - loss: 0.0896 - accuracy: 1.0000 - val_loss: 0.4567 - val_accuracy: 0.8958\n",
      "Epoch 81/100\n",
      "15/15 [==============================] - 0s 5ms/step - loss: 0.0883 - accuracy: 1.0000 - val_loss: 0.4567 - val_accuracy: 0.8958\n",
      "Epoch 82/100\n",
      "15/15 [==============================] - 0s 6ms/step - loss: 0.0866 - accuracy: 1.0000 - val_loss: 0.4607 - val_accuracy: 0.8917\n",
      "Epoch 83/100\n",
      "15/15 [==============================] - 0s 7ms/step - loss: 0.0851 - accuracy: 1.0000 - val_loss: 0.4538 - val_accuracy: 0.8958\n",
      "Epoch 84/100\n",
      "15/15 [==============================] - 0s 6ms/step - loss: 0.0835 - accuracy: 1.0000 - val_loss: 0.4550 - val_accuracy: 0.8958\n",
      "Epoch 85/100\n",
      "15/15 [==============================] - 0s 6ms/step - loss: 0.0822 - accuracy: 1.0000 - val_loss: 0.4542 - val_accuracy: 0.8917\n",
      "Epoch 86/100\n",
      "15/15 [==============================] - 0s 9ms/step - loss: 0.0808 - accuracy: 1.0000 - val_loss: 0.4514 - val_accuracy: 0.8917\n",
      "Epoch 87/100\n",
      "15/15 [==============================] - 0s 6ms/step - loss: 0.0795 - accuracy: 1.0000 - val_loss: 0.4525 - val_accuracy: 0.8917\n",
      "Epoch 88/100\n",
      "15/15 [==============================] - 0s 7ms/step - loss: 0.0783 - accuracy: 1.0000 - val_loss: 0.4520 - val_accuracy: 0.8917\n",
      "Epoch 89/100\n",
      "15/15 [==============================] - 0s 6ms/step - loss: 0.0770 - accuracy: 1.0000 - val_loss: 0.4521 - val_accuracy: 0.8917\n",
      "Epoch 90/100\n",
      "15/15 [==============================] - 0s 6ms/step - loss: 0.0759 - accuracy: 1.0000 - val_loss: 0.4520 - val_accuracy: 0.8917\n",
      "Epoch 91/100\n",
      "15/15 [==============================] - 0s 6ms/step - loss: 0.0748 - accuracy: 1.0000 - val_loss: 0.4497 - val_accuracy: 0.8917\n",
      "Epoch 92/100\n",
      "15/15 [==============================] - 0s 6ms/step - loss: 0.0737 - accuracy: 1.0000 - val_loss: 0.4500 - val_accuracy: 0.8917\n",
      "Epoch 93/100\n",
      "15/15 [==============================] - 0s 6ms/step - loss: 0.0726 - accuracy: 1.0000 - val_loss: 0.4491 - val_accuracy: 0.8917\n",
      "Epoch 94/100\n",
      "15/15 [==============================] - 0s 6ms/step - loss: 0.0714 - accuracy: 1.0000 - val_loss: 0.4504 - val_accuracy: 0.8917\n",
      "Epoch 95/100\n",
      "15/15 [==============================] - 0s 8ms/step - loss: 0.0706 - accuracy: 1.0000 - val_loss: 0.4472 - val_accuracy: 0.8958\n",
      "Epoch 96/100\n",
      "15/15 [==============================] - 0s 6ms/step - loss: 0.0694 - accuracy: 1.0000 - val_loss: 0.4464 - val_accuracy: 0.8917\n",
      "Epoch 97/100\n",
      "15/15 [==============================] - 0s 6ms/step - loss: 0.0685 - accuracy: 1.0000 - val_loss: 0.4478 - val_accuracy: 0.8958\n",
      "Epoch 98/100\n",
      "15/15 [==============================] - 0s 8ms/step - loss: 0.0676 - accuracy: 1.0000 - val_loss: 0.4442 - val_accuracy: 0.8917\n",
      "Epoch 99/100\n",
      "15/15 [==============================] - 0s 6ms/step - loss: 0.0670 - accuracy: 1.0000 - val_loss: 0.4522 - val_accuracy: 0.8833\n",
      "Epoch 100/100\n",
      "15/15 [==============================] - 0s 7ms/step - loss: 0.0659 - accuracy: 1.0000 - val_loss: 0.4484 - val_accuracy: 0.8833\n"
     ]
    }
   ],
   "source": [
    "history_regularizers = model_regularizers.fit(\n",
    "    x,\n",
    "    y,\n",
    "    batch_size=64,\n",
    "    epochs=100,\n",
    "    validation_split=0.2,\n",
    "    shuffle=True\n",
    ")"
   ]
  },
  {
   "cell_type": "markdown",
   "metadata": {},
   "source": [
    "Lets compare the weights norms of the model without regularization and with regularization."
   ]
  },
  {
   "cell_type": "code",
   "execution_count": 50,
   "metadata": {},
   "outputs": [
    {
     "name": "stdout",
     "output_type": "stream",
     "text": [
      "L2 norm layer_1 weights: 22.176817823558384, shape:(784, 256), sparsity:0.0\n",
      "L2 norm layer_2 weights: 14.797858748317482, shape:(256, 128), sparsity:0.0\n",
      "L2 norm layer_3 weights: 12.47858761742615, shape:(128, 128), sparsity:0.0\n"
     ]
    }
   ],
   "source": [
    "for ly in model.layers:\n",
    "    if 'layer_' in ly.name:\n",
    "        W, b = ly.get_weights()\n",
    "        l2_norm = np.sum(W**2)**0.5\n",
    "        zero_elems = len(W[np.abs(W) < 1e-14])\n",
    "        sparsity = zero_elems / np.prod(W.shape)\n",
    "        sparsity = np.round(100 * sparsity, 2)\n",
    "        print('L2 norm {0} weights: {1}, shape:{2}, sparsity:{3}'.format(\n",
    "            ly.name, l2_norm, W.shape,sparsity))"
   ]
  },
  {
   "cell_type": "code",
   "execution_count": 51,
   "metadata": {},
   "outputs": [
    {
     "name": "stdout",
     "output_type": "stream",
     "text": [
      "L2 norm layer_1 weights: 5.924142368231225, shape:(784, 256), sparsity:0.0\n",
      "L2 norm layer_2 weights: 6.70397744616081, shape:(256, 128), sparsity:2.17\n",
      "L2 norm layer_3 weights: 11.546384726144398, shape:(128, 128), sparsity:0.0\n"
     ]
    }
   ],
   "source": [
    "for ly in model_regularizers.layers:\n",
    "    if 'layer_' in ly.name:\n",
    "        W, b = ly.get_weights()\n",
    "        l2_norm = np.sum(W**2)**0.5\n",
    "        zero_elems = len(W[np.abs(W) < 1e-14])\n",
    "        sparsity = zero_elems / np.prod(W.shape)\n",
    "        sparsity = np.round(100 * sparsity, 2)\n",
    "        print('L2 norm {0} weights: {1}, shape:{2}, sparsity:{3}'.format(\n",
    "            ly.name, l2_norm, W.shape,sparsity))"
   ]
  },
  {
   "cell_type": "code",
   "execution_count": 52,
   "metadata": {},
   "outputs": [
    {
     "name": "stdout",
     "output_type": "stream",
     "text": [
      "L2 norm layer_1 weights: 19.986546378321908, shape:(784, 256), sparsity:0.0\n",
      "L2 norm layer_2 weights: 13.216746509851207, shape:(256, 128), sparsity:0.0\n",
      "L2 norm layer_3 weights: 12.151611070608215, shape:(128, 128), sparsity:0.0\n"
     ]
    }
   ],
   "source": [
    "for ly in model_batch_norm.layers:\n",
    "    if 'layer_' in ly.name:\n",
    "        W, b = ly.get_weights()\n",
    "        l2_norm = np.sum(W**2)**0.5\n",
    "        zero_elems = len(W[np.abs(W) < 1e-14])\n",
    "        sparsity = zero_elems / np.prod(W.shape)\n",
    "        sparsity = np.round(100 * sparsity, 2)\n",
    "        print('L2 norm {0} weights: {1}, shape:{2}, sparsity:{3}'.format(\n",
    "            ly.name, l2_norm, W.shape,sparsity))"
   ]
  },
  {
   "cell_type": "code",
   "execution_count": 53,
   "metadata": {
    "scrolled": true
   },
   "outputs": [
    {
     "data": {
      "image/png": "[encoded data removed]",
      "text/plain": [
       "<Figure size 1152x432 with 2 Axes>"
      ]
     },
     "metadata": {
      "needs_background": "light"
     },
     "output_type": "display_data"
    }
   ],
   "source": [
    "show_loss_accuracy_evolution(history_regularizers)"
   ]
  },
  {
   "cell_type": "code",
   "execution_count": 54,
   "metadata": {},
   "outputs": [
    {
     "name": "stdout",
     "output_type": "stream",
     "text": [
      "Test Loss: 0.4937416911125183\n",
      "Test Accuracy: 0.9043999910354614\n"
     ]
    }
   ],
   "source": [
    "results = model_regularizers.evaluate(x_test, y_test, verbose=0)\n",
    "print('Test Loss: {}'.format(results[0]))\n",
    "print('Test Accuracy: {}'.format(results[1]))"
   ]
  },
  {
   "cell_type": "markdown",
   "metadata": {},
   "source": [
    "### Question 3:\n",
    "#### What happens if you change the regularizers?\n"
   ]
  },
  {
   "cell_type": "code",
   "execution_count": null,
   "metadata": {},
   "outputs": [],
   "source": []
  },
  {
   "cell_type": "markdown",
   "metadata": {},
   "source": [
    "## Combine L2 Regularization and Dropout\n",
    "\n",
    "Use L2: \n",
    "```python\n",
    "kerner_regularizer_l2 = regularizers.l2(5e-4)\n",
    "```\n",
    "And Dropout:\n",
    "\n",
    "```python\n",
    "next_layer = layers.Dropout(0.4)(prev_layer)\n",
    "```"
   ]
  },
  {
   "cell_type": "code",
   "execution_count": 55,
   "metadata": {},
   "outputs": [],
   "source": [
    "kerner_regularizer_l2 = ..."
   ]
  },
  {
   "cell_type": "code",
   "execution_count": 56,
   "metadata": {},
   "outputs": [
    {
     "name": "stderr",
     "output_type": "stream",
     "text": [
      "<>:9: SyntaxWarning: 'ellipsis' object is not callable; perhaps you missed a comma?\n",
      "<>:18: SyntaxWarning: 'ellipsis' object is not callable; perhaps you missed a comma?\n",
      "<>:28: SyntaxWarning: 'ellipsis' object is not callable; perhaps you missed a comma?\n",
      "<>:9: SyntaxWarning: 'ellipsis' object is not callable; perhaps you missed a comma?\n",
      "<>:18: SyntaxWarning: 'ellipsis' object is not callable; perhaps you missed a comma?\n",
      "<>:28: SyntaxWarning: 'ellipsis' object is not callable; perhaps you missed a comma?\n"
     ]
    },
    {
     "ename": "ValueError",
     "evalue": "Could not interpret regularizer identifier: Ellipsis",
     "output_type": "error",
     "traceback": [
      "\u001b[0;31m---------------------------------------------------------------------------\u001b[0m",
      "\u001b[0;31mValueError\u001b[0m                                Traceback (most recent call last)",
      "\u001b[0;32m<ipython-input-56-13f62e5e8f57>\u001b[0m in \u001b[0;36m<module>\u001b[0;34m\u001b[0m\n\u001b[1;32m      2\u001b[0m \u001b[0;34m\u001b[0m\u001b[0m\n\u001b[1;32m      3\u001b[0m \u001b[0;31m# Add L2-normalization\u001b[0m\u001b[0;34m\u001b[0m\u001b[0;34m\u001b[0m\u001b[0;34m\u001b[0m\u001b[0m\n\u001b[0;32m----> 4\u001b[0;31m l_1 = layers.Dense(128, activation='relu',\n\u001b[0m\u001b[1;32m      5\u001b[0m                    \u001b[0mkernel_regularizer\u001b[0m\u001b[0;34m=\u001b[0m\u001b[0;34m...\u001b[0m\u001b[0;34m,\u001b[0m\u001b[0;34m\u001b[0m\u001b[0;34m\u001b[0m\u001b[0m\n\u001b[1;32m      6\u001b[0m                    name='layer_1')(inputs)\n",
      "\u001b[0;32m~/opt/anaconda3/lib/python3.8/site-packages/tensorflow/python/keras/layers/core.py\u001b[0m in \u001b[0;36m__init__\u001b[0;34m(self, units, activation, use_bias, kernel_initializer, bias_initializer, kernel_regularizer, bias_regularizer, activity_regularizer, kernel_constraint, bias_constraint, **kwargs)\u001b[0m\n\u001b[1;32m   1163\u001b[0m     \u001b[0mself\u001b[0m\u001b[0;34m.\u001b[0m\u001b[0mkernel_initializer\u001b[0m \u001b[0;34m=\u001b[0m \u001b[0minitializers\u001b[0m\u001b[0;34m.\u001b[0m\u001b[0mget\u001b[0m\u001b[0;34m(\u001b[0m\u001b[0mkernel_initializer\u001b[0m\u001b[0;34m)\u001b[0m\u001b[0;34m\u001b[0m\u001b[0;34m\u001b[0m\u001b[0m\n\u001b[1;32m   1164\u001b[0m     \u001b[0mself\u001b[0m\u001b[0;34m.\u001b[0m\u001b[0mbias_initializer\u001b[0m \u001b[0;34m=\u001b[0m \u001b[0minitializers\u001b[0m\u001b[0;34m.\u001b[0m\u001b[0mget\u001b[0m\u001b[0;34m(\u001b[0m\u001b[0mbias_initializer\u001b[0m\u001b[0;34m)\u001b[0m\u001b[0;34m\u001b[0m\u001b[0;34m\u001b[0m\u001b[0m\n\u001b[0;32m-> 1165\u001b[0;31m     \u001b[0mself\u001b[0m\u001b[0;34m.\u001b[0m\u001b[0mkernel_regularizer\u001b[0m \u001b[0;34m=\u001b[0m \u001b[0mregularizers\u001b[0m\u001b[0;34m.\u001b[0m\u001b[0mget\u001b[0m\u001b[0;34m(\u001b[0m\u001b[0mkernel_regularizer\u001b[0m\u001b[0;34m)\u001b[0m\u001b[0;34m\u001b[0m\u001b[0;34m\u001b[0m\u001b[0m\n\u001b[0m\u001b[1;32m   1166\u001b[0m     \u001b[0mself\u001b[0m\u001b[0;34m.\u001b[0m\u001b[0mbias_regularizer\u001b[0m \u001b[0;34m=\u001b[0m \u001b[0mregularizers\u001b[0m\u001b[0;34m.\u001b[0m\u001b[0mget\u001b[0m\u001b[0;34m(\u001b[0m\u001b[0mbias_regularizer\u001b[0m\u001b[0;34m)\u001b[0m\u001b[0;34m\u001b[0m\u001b[0;34m\u001b[0m\u001b[0m\n\u001b[1;32m   1167\u001b[0m     \u001b[0mself\u001b[0m\u001b[0;34m.\u001b[0m\u001b[0mkernel_constraint\u001b[0m \u001b[0;34m=\u001b[0m \u001b[0mconstraints\u001b[0m\u001b[0;34m.\u001b[0m\u001b[0mget\u001b[0m\u001b[0;34m(\u001b[0m\u001b[0mkernel_constraint\u001b[0m\u001b[0;34m)\u001b[0m\u001b[0;34m\u001b[0m\u001b[0;34m\u001b[0m\u001b[0m\n",
      "\u001b[0;32m~/opt/anaconda3/lib/python3.8/site-packages/tensorflow/python/keras/regularizers.py\u001b[0m in \u001b[0;36mget\u001b[0;34m(identifier)\u001b[0m\n\u001b[1;32m    381\u001b[0m     \u001b[0;32mreturn\u001b[0m \u001b[0midentifier\u001b[0m\u001b[0;34m\u001b[0m\u001b[0;34m\u001b[0m\u001b[0m\n\u001b[1;32m    382\u001b[0m   \u001b[0;32melse\u001b[0m\u001b[0;34m:\u001b[0m\u001b[0;34m\u001b[0m\u001b[0;34m\u001b[0m\u001b[0m\n\u001b[0;32m--> 383\u001b[0;31m     raise ValueError(\n\u001b[0m\u001b[1;32m    384\u001b[0m         'Could not interpret regularizer identifier: {}'.format(identifier))\n",
      "\u001b[0;31mValueError\u001b[0m: Could not interpret regularizer identifier: Ellipsis"
     ]
    }
   ],
   "source": [
    "inputs = tf.keras.Input(shape=(300, ), name='input_layer')  \n",
    "\n",
    "# Add L2-normalization\n",
    "l_1 = layers.Dense(128, activation='relu',\n",
    "                   kernel_regularizer=...,\n",
    "                   name='layer_1')(inputs)\n",
    "\n",
    "# Add dropout\n",
    "l_1 = ...(l_1)\n",
    "\n",
    "\n",
    "# Add L2-normalization\n",
    "l_2 = layers.Dense(64,\n",
    "                   activation='relu',\n",
    "                   kernel_regularizer=...,\n",
    "                   name='layer_2')(l_1)\n",
    "# Add dropout\n",
    "l_2 = ...(l_2)\n",
    "\n",
    "\n",
    "# Add L2-normalization\n",
    "l_3 = layers.Dense(32,\n",
    "                   activation='relu',\n",
    "                   kernel_regularizer=...,\n",
    "                   name='layer_3')(l_2)\n",
    "\n",
    "# Add dropout\n",
    "l_3 = ...(l_3)\n",
    "\n",
    "\n",
    "outputs = layers.Dense(1, activation='sigmoid',\n",
    "                       name='output_layer')(l_3)  \n",
    "\n",
    "model_combination = keras.Model(inputs=inputs,\n",
    "                                 outputs=outputs,\n",
    "                                 name='dont_overfit_model_regularizers')"
   ]
  },
  {
   "cell_type": "code",
   "execution_count": null,
   "metadata": {},
   "outputs": [],
   "source": [
    "model_combination.compile(\n",
    "    optimizer='adam', loss='sparse_categorical_crossentropy', metrics=['accuracy']\n",
    ")"
   ]
  },
  {
   "cell_type": "code",
   "execution_count": null,
   "metadata": {},
   "outputs": [],
   "source": [
    "history_combination = model_combination.fit(\n",
    "    x,\n",
    "    y,\n",
    "    batch_size=64,\n",
    "    epochs=100,\n",
    "    validation_split=0.2,\n",
    "    shuffle=True\n",
    ")"
   ]
  },
  {
   "cell_type": "code",
   "execution_count": null,
   "metadata": {},
   "outputs": [],
   "source": [
    "show_loss_accuracy_evolution(history_combination)"
   ]
  },
  {
   "cell_type": "code",
   "execution_count": null,
   "metadata": {},
   "outputs": [],
   "source": [
    "results = model_combination.evaluate(x_test, y_test, verbose=0)\n",
    "print('Test Loss: {}'.format(results[0]))\n",
    "print('Test Accuracy: {}'.format(results[1]))"
   ]
  },
  {
   "cell_type": "markdown",
   "metadata": {},
   "source": [
    "## Noise injection \n",
    "\n",
    "Apply additive zero-mean Gaussian noise.\n",
    "\n",
    "With Functional API:\n",
    "```python\n",
    "next_layer = layers.GaussianNoise(stddev)(prev_layer)\n",
    "```\n",
    "With Sequential:\n",
    "```python\n",
    "model.add(layers.GaussianNoise(stddev)())\n",
    "```"
   ]
  },
  {
   "cell_type": "code",
   "execution_count": null,
   "metadata": {},
   "outputs": [],
   "source": [
    "stddev = 2\n",
    "\n",
    "# Input\n",
    "inputs = tf.keras.Input(shape=(28,28), name='input_layer')  \n",
    "# Convert the 2D image to a vector\n",
    "flat = layers.Flatten()(inputs)\n",
    "\n",
    "# hidden layer 1\n",
    "l_1 = layers.Dense(256, activation='relu', name='layer_1')(flat)  \n",
    "l_1 = layers.GaussianNoise(stddev, name='noise_l1')(l_1) \n",
    "# hidden layer 2\n",
    "l_2 = layers.Dense(128, activation='relu', name='layer_2')(l_1) \n",
    "l_2 = layers.GaussianNoise(stddev, name='noise_l2')(l_2)  \n",
    "# hidden layer 3\n",
    "l_3 = layers.Dense(128, activation='relu', name='layer_3')(l_2)  \n",
    "l_3 = layers.GaussianNoise(stddev, name='noise_l3')(l_3)  \n",
    "\n",
    "# Outputs\n",
    "outputs = layers.Dense(num_classes, activation='softmax', name='output_layer')(l_3)  \n",
    "\n",
    "model_noise = keras.Model(inputs=inputs, outputs=outputs, name='dont_overfit_model_noise')"
   ]
  },
  {
   "cell_type": "code",
   "execution_count": null,
   "metadata": {
    "scrolled": true
   },
   "outputs": [],
   "source": [
    "model_noise.summary()"
   ]
  },
  {
   "cell_type": "code",
   "execution_count": null,
   "metadata": {},
   "outputs": [],
   "source": [
    "model_noise.compile(\n",
    "    optimizer='adam', loss='sparse_categorical_crossentropy', metrics=['accuracy'])"
   ]
  },
  {
   "cell_type": "code",
   "execution_count": null,
   "metadata": {},
   "outputs": [],
   "source": [
    "history_noise = model_noise.fit(\n",
    "    x,\n",
    "    y,\n",
    "    batch_size=64,\n",
    "    epochs=100,\n",
    "    validation_split=0.2,\n",
    "    shuffle=True\n",
    ")"
   ]
  },
  {
   "cell_type": "code",
   "execution_count": null,
   "metadata": {
    "scrolled": true
   },
   "outputs": [],
   "source": [
    "show_loss_accuracy_evolution(history_noise)"
   ]
  },
  {
   "cell_type": "code",
   "execution_count": null,
   "metadata": {},
   "outputs": [],
   "source": [
    "results = model_noise.evaluate(x_test, y_test, verbose=0)\n",
    "print('Test Loss: {}'.format(results[0]))\n",
    "print('Test Accuracy: {}'.format(results[1]))"
   ]
  },
  {
   "cell_type": "markdown",
   "metadata": {},
   "source": [
    "<a id='early_stopping'></a>\n",
    "## Early Stopping\n",
    "\n",
    "Another of the most used techniques in neural network training is **early stopping**. It basically consists of stopping the training process in an Epoch prior to the one defined in the compilation.\n",
    "\n",
    "This, in addition to resulting in a model with less overfitting, saves unnecessary computation time.\n",
    "\n",
    "To do this, we can use the [Keras callbacks](https://keras.io/api/callbacks/), objects that perform actions at different times during training. Specifically, we will make use of [`EarlyStopping`](https://keras.io/api/callbacks/early_stopping/).\n",
    "\n",
    "```python\n",
    "tf.keras.callbacks.EarlyStopping(\n",
    "    monitor=\"val_loss\",\n",
    "    min_delta=0,\n",
    "    patience=0,\n",
    "    verbose=0,\n",
    ")\n",
    "``` \n",
    "\n",
    "- **monitor**: Quantity to be monitored. Depending on the evolution, it will be decided to stop training.\n",
    "\n",
    "- **min_delta**: Minimum change in the monitored quantity to qualify as an improvement, i.e. an absolute change of less than min_delta, will count as no improvement.\n",
    "\n",
    "- **patience**: Number of epochs with no improvement after which training will be stopped.\n",
    "\n",
    "- **verbose**: verbosity mode.\n",
    "\n",
    "There are other callbacks that can be very useful such as:\n",
    "- [`ModelCheckpoint`](https://keras.io/api/callbacks/model_checkpoint/), which allows storing the state of a model at different times of training. This is very useful in trainings that can take hours or days.\n",
    "- [`TensorBoard`](https://keras.io/api/callbacks/tensorboard/), which allows the use of [TensorBoard](https://www.tensorflow.org/tensorboard?hl=es-419), framework TensorFlow for visualizing metrics and evaluating models."
   ]
  },
  {
   "cell_type": "code",
   "execution_count": null,
   "metadata": {},
   "outputs": [],
   "source": [
    "es_callback = keras.callbacks.EarlyStopping(\n",
    "    monitor='val_loss',  # can be 'val_accuracy'\n",
    "    patience=5,  # if during 5 epochs there is no improvement in `val_loss`, the execution will stop\n",
    "    verbose=1)"
   ]
  },
  {
   "cell_type": "markdown",
   "metadata": {},
   "source": [
    "Lets create the same model:"
   ]
  },
  {
   "cell_type": "code",
   "execution_count": null,
   "metadata": {},
   "outputs": [],
   "source": [
    "# Input\n",
    "inputs = tf.keras.Input(shape=(28,28), name='input_layer')  \n",
    "# Convert the 2D image to a vector\n",
    "flat = layers.Flatten()(inputs)\n",
    "\n",
    "# hidden layer 1\n",
    "l_1 = layers.Dense(256, activation='relu', name='layer_1')(flat)  \n",
    "# hidden layer 2\n",
    "l_2 = layers.Dense(128, activation='relu', name='layer_2')(l_1)  \n",
    "# hidden layer 3\n",
    "l_3 = layers.Dense(128, activation='relu', name='layer_3')(l_2)  \n",
    "\n",
    "# Outputs\n",
    "outputs = layers.Dense(num_classes, activation='softmax', name='output_layer')(l_3)  \n",
    "\n",
    "model_early_stopping = keras.Model(inputs=inputs, outputs=outputs, name='dont_overfit_model_early_stopping')"
   ]
  },
  {
   "cell_type": "code",
   "execution_count": null,
   "metadata": {},
   "outputs": [],
   "source": [
    "model_early_stopping.summary()"
   ]
  },
  {
   "cell_type": "code",
   "execution_count": null,
   "metadata": {},
   "outputs": [],
   "source": [
    "model_early_stopping.compile(optimizer='adam',\n",
    "                             loss='sparse_categorical_crossentropy',\n",
    "                             metrics=['accuracy'])"
   ]
  },
  {
   "cell_type": "code",
   "execution_count": null,
   "metadata": {
    "scrolled": true
   },
   "outputs": [],
   "source": [
    "history_early_stopping = model_early_stopping.fit(\n",
    "    x,\n",
    "    y,\n",
    "    batch_size=64,\n",
    "    epochs=100,\n",
    "    validation_split=0.2,\n",
    "    shuffle=True,\n",
    "    callbacks=[es_callback]\n",
    ")"
   ]
  },
  {
   "cell_type": "code",
   "execution_count": null,
   "metadata": {},
   "outputs": [],
   "source": [
    "show_loss_accuracy_evolution(history_early_stopping)"
   ]
  },
  {
   "cell_type": "code",
   "execution_count": null,
   "metadata": {},
   "outputs": [],
   "source": [
    "results = model_early_stopping.evaluate(x_test, y_test, verbose=0)\n",
    "print('Test Loss: {}'.format(results[0]))\n",
    "print('Test Accuracy: {}'.format(results[1]))"
   ]
  },
  {
   "cell_type": "markdown",
   "metadata": {},
   "source": [
    "<a id='tensorboard'></a>\n",
    "# TensorBoard\n",
    "\n",
    "\n",
    "\n",
    "[TensorBoard](https://www.tensorflow.org/tensorboard) is a set of TensorFlow tools that allows us to represent the evolution and results of the training.\n",
    "\n",
    "In order to introduce this tool, the following is a notebook from the [TensorFlow tutorial on TensorBoard](https://www.tensorflow.org/tensorboard/get_started)."
   ]
  },
  {
   "cell_type": "markdown",
   "metadata": {},
   "source": [
    "Load TensorBoard notebook extension."
   ]
  },
  {
   "cell_type": "code",
   "execution_count": null,
   "metadata": {},
   "outputs": [],
   "source": [
    "%load_ext tensorboard"
   ]
  },
  {
   "cell_type": "code",
   "execution_count": null,
   "metadata": {},
   "outputs": [],
   "source": [
    "import tensorflow as tf\n",
    "import datetime"
   ]
  },
  {
   "cell_type": "markdown",
   "metadata": {},
   "source": [
    "\n",
    "We build the model. The input layer will have a dimension of `28x28`. The output layer, in a multiclass classification problem with 10 possible classes, will be made up of 10 neurons with [softmax activation function](https://keras.io/api/layers/activations/#softmax-function ).\n"
   ]
  },
  {
   "cell_type": "code",
   "execution_count": null,
   "metadata": {},
   "outputs": [],
   "source": [
    "kernel_regularizer_l2 = keras.regularizers.l2(5e-4)\n",
    "\n",
    "model = tf.keras.models.Sequential(name=\"tensorboard_model\")\n",
    "model.add(layers.Flatten(input_shape=(28, 28)))\n",
    "\n",
    "# Hidden Layer + regularization\n",
    "model.add(layers.Dense(64, activation='relu', name='layer_1'))\n",
    "model.add(layers.Dense(64, activation='relu',\n",
    "                       kernel_regularizer=kernel_regularizer_l2, name='layer_2'))\n",
    "# output layer\n",
    "model.add(layers.Dense(10, activation='softmax', name='output_layer'))"
   ]
  },
  {
   "cell_type": "code",
   "execution_count": null,
   "metadata": {},
   "outputs": [],
   "source": [
    "model.compile(\n",
    "    optimizer='adam',\n",
    "    loss='sparse_categorical_crossentropy',\n",
    "    metrics=['accuracy']\n",
    ")"
   ]
  },
  {
   "cell_type": "markdown",
   "metadata": {},
   "source": [
    "In the [example with early stopping](#early_stopping) the Keras callbacks were presented. To use TensorBoard we will need to include the [`TensorBoard` callback](https://www.tensorflow.org/api_docs/python/tf/keras/callbacks/TensorBoard) to the training.\n",
    "\n",
    "This callback will create and store the logs in the directory that we indicate.\n",
    "\n",
    "By default it will create a directory called \"logs\" in the directory where this notebook is running."
   ]
  },
  {
   "cell_type": "code",
   "execution_count": null,
   "metadata": {},
   "outputs": [],
   "source": [
    "log_dir = 'logs/fit/' + datetime.datetime.now().strftime('%Y%m%d-%H%M%S')"
   ]
  },
  {
   "cell_type": "code",
   "execution_count": null,
   "metadata": {},
   "outputs": [],
   "source": [
    "tensorboard_callback = tf.keras.callbacks.TensorBoard(log_dir=log_dir, histogram_freq=1)"
   ]
  },
  {
   "cell_type": "code",
   "execution_count": null,
   "metadata": {},
   "outputs": [],
   "source": [
    "es_callback = keras.callbacks.EarlyStopping(\n",
    "    monitor='val_loss',  # can be 'val_accuracy'\n",
    "    patience=10,  # if during 5 epochs there is no improvement in `val_loss`, the execution will stop\n",
    "    verbose=1)"
   ]
  },
  {
   "cell_type": "markdown",
   "metadata": {},
   "source": [
    "Train the model"
   ]
  },
  {
   "cell_type": "code",
   "execution_count": null,
   "metadata": {},
   "outputs": [],
   "source": [
    "model.fit(\n",
    "    x=x_train, \n",
    "    y=y_train, \n",
    "    epochs=20, \n",
    "    validation_split=0.2, \n",
    "    batch_size=32,\n",
    "    callbacks=[tensorboard_callback, es_callback]\n",
    ")"
   ]
  },
  {
   "cell_type": "code",
   "execution_count": null,
   "metadata": {},
   "outputs": [],
   "source": [
    "results = model.evaluate(x_test, y_test, verbose=0)\n",
    "print('Test Loss: {}'.format(results[0]))\n",
    "print('Test Accuracy: {}'.format(results[1]))"
   ]
  },
  {
   "cell_type": "markdown",
   "metadata": {},
   "source": [
    "To ** start TensorBoard ** we can execute the following cell or, from the command line, execute:\n",
    "\n",
    "    tensorboard --logdir logs / fit\n",
    "\n",
    "An application will be launched that will be listening by default on port 6006. It is possible to use TensorBoard by opening [localhost: 6006 /](http://localhost:6006/) in a browser."
   ]
  },
  {
   "cell_type": "code",
   "execution_count": null,
   "metadata": {},
   "outputs": [],
   "source": [
    "%tensorboard --logdir logs/fit"
   ]
  },
  {
   "cell_type": "markdown",
   "metadata": {},
   "source": [
    "A brief overview of the dashboards shown (tabs in top navigation bar):\n",
    "\n",
    "* The **Scalars** dashboard shows how the loss and metrics change with every epoch. You can use it to also track training speed, learning rate, and other scalar values.\n",
    "* The **Graphs** dashboard helps you visualize your model. In this case, the Keras graph of layers is shown which can help you ensure it is built correctly. \n",
    "* The **Distributions** and **Histograms** dashboards show the distribution of a Tensor over time. This can be useful to visualize weights and biases and verify that they are changing in an expected way.\n",
    "\n"
   ]
  },
  {
   "cell_type": "markdown",
   "metadata": {},
   "source": [
    "### Improve the last model with some regularization techniques to obtain at least `0.98` of test accuracy"
   ]
  },
  {
   "cell_type": "code",
   "execution_count": null,
   "metadata": {},
   "outputs": [],
   "source": [
    "model = tf.keras.models.Sequential()\n",
    "model.add(layers.Flatten(input_shape=(28, 28)))\n",
    "\n",
    "## Hidden Layer + regularization\n",
    "model.add(...)\n",
    "### output layer\n",
    "model.add(layers.Dense(10, activation='softmax'))"
   ]
  },
  {
   "cell_type": "code",
   "execution_count": null,
   "metadata": {},
   "outputs": [],
   "source": [
    "model.compile(\n",
    "    optimizer='adam',\n",
    "    loss='sparse_categorical_crossentropy',\n",
    "    metrics=['accuracy']\n",
    ")"
   ]
  },
  {
   "cell_type": "code",
   "execution_count": null,
   "metadata": {},
   "outputs": [],
   "source": [
    "model.fit(\n",
    "    x=x_train, \n",
    "    y=y_train, \n",
    "    epochs=5, \n",
    "    validation_split=0.2, \n",
    "    batch_size=64\n",
    ")\n",
    "results = model.evaluate(x_test, y_test, verbose=0)\n",
    "print('Test Loss: {}'.format(results[0]))\n",
    "print('Test Accuracy: {}'.format(results[1]))"
   ]
  },
  {
   "cell_type": "code",
   "execution_count": null,
   "metadata": {},
   "outputs": [],
   "source": [
    "model.fit(\n",
    "    x=x_train, \n",
    "    y=y_train, \n",
    "    epochs=..., \n",
    "    validation_split=0.2, \n",
    "    batch_size=...,\n",
    "    callbacks=...\n",
    ")\n",
    "results = model.evaluate(x_test, y_test, verbose=0)\n",
    "print('Test Loss: {}'.format(results[0]))\n",
    "print('Test Accuracy: {}'.format(results[1]))"
   ]
  },
  {
   "cell_type": "markdown",
   "metadata": {},
   "source": [
    "### Plotting Predictions"
   ]
  },
  {
   "cell_type": "code",
   "execution_count": null,
   "metadata": {},
   "outputs": [],
   "source": [
    "predictions = model.predict(x_test)\n",
    "predicted_classes = np.argmax(predictions, -1)"
   ]
  },
  {
   "cell_type": "code",
   "execution_count": null,
   "metadata": {},
   "outputs": [],
   "source": [
    "L = 5\n",
    "W = 5\n",
    "fig, axes = plt.subplots(L, W, figsize=(14, 14))\n",
    "axes = axes.ravel()\n",
    "\n",
    "for i in np.arange(0, L * W):\n",
    "    ind = np.random.randint(len(y_test))\n",
    "    axes[i].imshow(x_test[ind].reshape(28, 28))\n",
    "    prob_pred = np.max(predictions[ind, :])\n",
    "    class_pred = int(predicted_classes[ind])\n",
    "    original_class = int(y_test[ind])\n",
    "    if class_pred == original_class:\n",
    "        color = 'green'\n",
    "    else:\n",
    "        color = 'red'\n",
    "    title = \"Pred: {0} \\n Target: {1} \\n Prob: {2:.3f}\".format(\n",
    "    class_pred, original_class, prob_pred)\n",
    "    axes[i].set_title(title, color=color)\n",
    "    axes[i].axis('off')\n",
    "\n",
    "plt.subplots_adjust(wspace=0.5)"
   ]
  }
 ],
 "metadata": {
  "colab": {
   "authorship_tag": "ABX9TyPQHcaG++PPLYUXDcKliAVL",
   "name": "Prevent_Overfitting.ipynb",
   "provenance": []
  },
  "kernelspec": {
   "display_name": "Python 3",
   "language": "python",
   "name": "python3"
  },
  "language_info": {
   "codemirror_mode": {
    "name": "ipython",
    "version": 3
   },
   "file_extension": ".py",
   "mimetype": "text/x-python",
   "name": "python",
   "nbconvert_exporter": "python",
   "pygments_lexer": "ipython3",
   "version": "3.8.5"
  }
 },
 "nbformat": 4,
 "nbformat_minor": 1
}
