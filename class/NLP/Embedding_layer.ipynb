{
 "cells": [
  {
   "cell_type": "markdown",
   "id": "prospective-memorabilia",
   "metadata": {},
   "source": [
    "It is highly recommended to use a powerful **GPU**, you can use it for free uploading this notebook to [Google Colab](https://colab.research.google.com/notebooks/intro.ipynb).\n",
    "<table align=\"center\">\n",
    " <td align=\"center\"><a target=\"_blank\" href=\"https://colab.research.google.com/github/ezponda/intro_deep_learning/blob/main/class/NLP/Embedding_layer.ipynb\">\n",
    "        <img src=\"https://i.ibb.co/2P3SLwK/colab.png\"  style=\"padding-bottom:5px;\" />Run in Google Colab</a></td>\n",
    "  <td align=\"center\"><a target=\"_blank\" href=\"https://github.com/ezponda/intro_deep_learning/blob/main/class/NLP/Embedding_layer.ipynb\">\n",
    "        <img src=\"https://i.ibb.co/xfJbPmL/github.png\"  height=\"70px\" style=\"padding-bottom:5px;\"  />View Source on GitHub</a></td>\n",
    "</table>"
   ]
  },
  {
   "cell_type": "code",
   "execution_count": 1,
   "id": "environmental-alfred",
   "metadata": {
    "id": "environmental-alfred"
   },
   "outputs": [],
   "source": [
    "import pathlib\n",
    "import os\n",
    "import sklearn\n",
    "import tensorflow as tf\n",
    "from tensorflow.keras import layers\n",
    "import tensorflow_datasets as tfds\n",
    "import numpy as np\n",
    "import pandas as pd"
   ]
  },
  {
   "cell_type": "markdown",
   "id": "shaped-nylon",
   "metadata": {
    "id": "shaped-nylon"
   },
   "source": [
    "## Embedding layer\n",
    "\n",
    "Take a look at the documentation of the [Embedding](https://www.tensorflow.org/api_docs/python/tf/keras/layers/Embedding) layer.\n",
    "\n",
    "The Embedding layer can be understood as a lookup table that maps from integer indices  to dense vectors (their embeddings). \n",
    "\n",
    "```python\n",
    "tf.keras.layers.Embedding(\n",
    "    input_dim, output_dim, input_length=None\n",
    ")\n",
    "```\n",
    "\n",
    "- **input_dim**\tInteger. Number of different categories (size of the vocabulary, number of films..) , i.e. maximum integer index + 1.\n",
    "- **output_dim** Integer. Dimension of the dense embedding.\n",
    "- **input_length** Length of input sequences, It is not necessary if you are not using sequences."
   ]
  },
  {
   "cell_type": "code",
   "execution_count": 2,
   "id": "understanding-attraction",
   "metadata": {
    "id": "understanding-attraction"
   },
   "outputs": [],
   "source": [
    "embedding_layer = tf.keras.layers.Embedding(input_dim=100, output_dim=5, input_length=None)"
   ]
  },
  {
   "cell_type": "code",
   "execution_count": 3,
   "id": "prescribed-solid",
   "metadata": {
    "colab": {
     "base_uri": "https://localhost:8080/"
    },
    "id": "prescribed-solid",
    "outputId": "d6493243-2f2b-4305-8b6c-740c2bd296be"
   },
   "outputs": [
    {
     "name": "stdout",
     "output_type": "stream",
     "text": [
      "(1, 5)\n",
      "Embedding of entity with index 0:  [-0.02853979 -0.04507134  0.04420176  0.00676606  0.02127688]\n",
      "Embedding of entity with index 1:  [0.02633605 0.03937704 0.00567242 0.00490309 0.01056782]\n",
      "Embedding of entity with index 2:  [-0.02775916  0.00378073  0.01808531 -0.0391494  -0.03688826]\n"
     ]
    }
   ],
   "source": [
    "vector_ind_0 = embedding_layer(tf.constant([0]))\n",
    "vector_ind_1 = embedding_layer(tf.constant([1]))\n",
    "vector_ind_2 = embedding_layer(tf.constant([2]))\n",
    "\n",
    "print(vector_ind_0.shape)\n",
    "print('Embedding of entity with index 0: ', vector_ind_0.numpy().flatten())\n",
    "print('Embedding of entity with index 1: ', vector_ind_1.numpy().flatten())\n",
    "print('Embedding of entity with index 2: ', vector_ind_2.numpy().flatten())"
   ]
  },
  {
   "cell_type": "code",
   "execution_count": 4,
   "id": "surgical-minnesota",
   "metadata": {
    "colab": {
     "base_uri": "https://localhost:8080/"
    },
    "id": "surgical-minnesota",
    "outputId": "9cbc9688-1284-43ac-d592-e52f9108d60e"
   },
   "outputs": [
    {
     "name": "stdout",
     "output_type": "stream",
     "text": [
      "input sequence [0, 1, 2, 1]\n",
      "sequence embeddings shape (4, 5)\n",
      "sequence embeddings [[-0.02853979 -0.04507134  0.04420176  0.00676606  0.02127688]\n",
      " [ 0.02633605  0.03937704  0.00567242  0.00490309  0.01056782]\n",
      " [-0.02775916  0.00378073  0.01808531 -0.0391494  -0.03688826]\n",
      " [ 0.02633605  0.03937704  0.00567242  0.00490309  0.01056782]]\n"
     ]
    }
   ],
   "source": [
    "input_sequence = [0, 1, 2, 1]\n",
    "print('input sequence', input_sequence)\n",
    "sequence = embedding_layer(tf.constant(input_sequence))\n",
    "print('sequence embeddings shape', sequence.shape)\n",
    "print('sequence embeddings', sequence.numpy())"
   ]
  },
  {
   "cell_type": "markdown",
   "id": "authorized-winning",
   "metadata": {
    "id": "authorized-winning"
   },
   "source": [
    "# Applications: Recommender System\n",
    "\n",
    "We are going too use the [MovieLens 100K dataset](https://grouplens.org/datasets/movielens/100k/). We can create model to recommend movies for a given user."
   ]
  },
  {
   "cell_type": "code",
   "execution_count": 5,
   "id": "noted-printing",
   "metadata": {
    "colab": {
     "base_uri": "https://localhost:8080/"
    },
    "id": "noted-printing",
    "outputId": "82b941ad-02fa-4c1b-d745-bcccbc3ef78c"
   },
   "outputs": [
    {
     "data": {
      "text/plain": [
       "['links.csv', 'tags.csv', 'ratings.csv', 'README.txt', 'movies.csv']"
      ]
     },
     "execution_count": 5,
     "metadata": {},
     "output_type": "execute_result"
    }
   ],
   "source": [
    "dataset_url = 'http://files.grouplens.org/datasets/movielens/ml-latest-small.zip' # small\n",
    "data_dir = tf.keras.utils.get_file('movielens_small', origin=dataset_url, extract=True)\n",
    "data_dir = pathlib.Path(data_dir)\n",
    "data_dir = data_dir.parent / 'ml-latest-small'\n",
    "os.listdir(data_dir)"
   ]
  },
  {
   "cell_type": "code",
   "execution_count": 6,
   "id": "paperback-journal",
   "metadata": {
    "colab": {
     "base_uri": "https://localhost:8080/",
     "height": 204
    },
    "id": "paperback-journal",
    "outputId": "d5d9a732-d7ff-41b6-a225-39b28cac4907"
   },
   "outputs": [
    {
     "data": {
      "text/html": [
       "<div>\n",
       "<style scoped>\n",
       "    .dataframe tbody tr th:only-of-type {\n",
       "        vertical-align: middle;\n",
       "    }\n",
       "\n",
       "    .dataframe tbody tr th {\n",
       "        vertical-align: top;\n",
       "    }\n",
       "\n",
       "    .dataframe thead th {\n",
       "        text-align: right;\n",
       "    }\n",
       "</style>\n",
       "<table border=\"1\" class=\"dataframe\">\n",
       "  <thead>\n",
       "    <tr style=\"text-align: right;\">\n",
       "      <th></th>\n",
       "      <th>userId</th>\n",
       "      <th>movieId</th>\n",
       "      <th>rating</th>\n",
       "      <th>timestamp</th>\n",
       "    </tr>\n",
       "  </thead>\n",
       "  <tbody>\n",
       "    <tr>\n",
       "      <th>97918</th>\n",
       "      <td>606</td>\n",
       "      <td>3655</td>\n",
       "      <td>3.5</td>\n",
       "      <td>1171361462</td>\n",
       "    </tr>\n",
       "    <tr>\n",
       "      <th>11030</th>\n",
       "      <td>68</td>\n",
       "      <td>4969</td>\n",
       "      <td>3.0</td>\n",
       "      <td>1267237921</td>\n",
       "    </tr>\n",
       "    <tr>\n",
       "      <th>19416</th>\n",
       "      <td>125</td>\n",
       "      <td>80549</td>\n",
       "      <td>3.5</td>\n",
       "      <td>1474569979</td>\n",
       "    </tr>\n",
       "    <tr>\n",
       "      <th>26621</th>\n",
       "      <td>182</td>\n",
       "      <td>3354</td>\n",
       "      <td>0.5</td>\n",
       "      <td>1075859296</td>\n",
       "    </tr>\n",
       "    <tr>\n",
       "      <th>47862</th>\n",
       "      <td>309</td>\n",
       "      <td>1301</td>\n",
       "      <td>4.0</td>\n",
       "      <td>1126453993</td>\n",
       "    </tr>\n",
       "  </tbody>\n",
       "</table>\n",
       "</div>"
      ],
      "text/plain": [
       "       userId  movieId  rating   timestamp\n",
       "97918     606     3655     3.5  1171361462\n",
       "11030      68     4969     3.0  1267237921\n",
       "19416     125    80549     3.5  1474569979\n",
       "26621     182     3354     0.5  1075859296\n",
       "47862     309     1301     4.0  1126453993"
      ]
     },
     "execution_count": 6,
     "metadata": {},
     "output_type": "execute_result"
    }
   ],
   "source": [
    "ratings_file = data_dir / \"ratings.csv\"\n",
    "df_ratings = pd.read_csv(ratings_file)\n",
    "df_ratings = sklearn.utils.shuffle(df_ratings)\n",
    "df_ratings.head()"
   ]
  },
  {
   "cell_type": "code",
   "execution_count": 7,
   "id": "promotional-venue",
   "metadata": {
    "colab": {
     "base_uri": "https://localhost:8080/"
    },
    "id": "promotional-venue",
    "outputId": "e3737465-d8d9-49e8-8d24-855527d8364f"
   },
   "outputs": [
    {
     "name": "stdout",
     "output_type": "stream",
     "text": [
      "Counter({4.0: 26818, 3.0: 20047, 5.0: 13211, 3.5: 13136, 4.5: 8551, 2.0: 7551, 2.5: 5550, 1.0: 2811, 1.5: 1791, 0.5: 1370})\n"
     ]
    }
   ],
   "source": [
    "## ratings  \n",
    "from collections import Counter\n",
    "print(Counter(df_ratings['rating']))"
   ]
  },
  {
   "cell_type": "code",
   "execution_count": 8,
   "id": "placed-bishop",
   "metadata": {
    "colab": {
     "base_uri": "https://localhost:8080/"
    },
    "id": "placed-bishop",
    "outputId": "d7a48ce8-0a4e-465c-97f5-8d23446df7ea"
   },
   "outputs": [
    {
     "name": "stdout",
     "output_type": "stream",
     "text": [
      "[(1, 0), (2, 1), (3, 2)]\n"
     ]
    }
   ],
   "source": [
    "# Create a user index\n",
    "user_ids = sorted(list(df_ratings[\"userId\"].unique()))\n",
    "user2index = {u: ind for ind, u in enumerate(user_ids)}\n",
    "index2user = {ind: u for u, ind in user2index.items()}\n",
    "print(list(user2index.items())[:3])"
   ]
  },
  {
   "cell_type": "code",
   "execution_count": 9,
   "id": "lightweight-reproduction",
   "metadata": {
    "colab": {
     "base_uri": "https://localhost:8080/"
    },
    "id": "lightweight-reproduction",
    "outputId": "c6a8916b-bd76-41ca-e3e1-f98df0681cc3"
   },
   "outputs": [
    {
     "name": "stdout",
     "output_type": "stream",
     "text": [
      "[(193587, 9722), (193609, 9723)]\n"
     ]
    }
   ],
   "source": [
    "# Create a movie index\n",
    "movie_ids = sorted(list(df_ratings[\"movieId\"].unique()))\n",
    "movie2index = {m: ind for ind, m in enumerate(movie_ids)}\n",
    "index2movie = {ind: m for m, ind in movie2index.items()}\n",
    "print(list(movie2index.items())[-2:])"
   ]
  },
  {
   "cell_type": "code",
   "execution_count": 10,
   "id": "clinical-richards",
   "metadata": {
    "id": "clinical-richards"
   },
   "outputs": [],
   "source": [
    "df_ratings[\"user\"] = df_ratings[\"userId\"].apply(lambda user_id: user2index[user_id])\n",
    "df_ratings[\"movie\"] = df_ratings[\"movieId\"].apply(lambda movie_id: movie2index[movie_id])"
   ]
  },
  {
   "cell_type": "code",
   "execution_count": 11,
   "id": "located-boating",
   "metadata": {
    "colab": {
     "base_uri": "https://localhost:8080/"
    },
    "id": "located-boating",
    "outputId": "dfc6fe66-f41d-4e26-8952-a76e9db3da70"
   },
   "outputs": [
    {
     "name": "stdout",
     "output_type": "stream",
     "text": [
      "Number of users: 610 \n",
      "Number of Movies: 9724\n"
     ]
    }
   ],
   "source": [
    "num_users, num_movies = (len(user2index), len(movie2index))\n",
    "print(\"Number of users: {0} \\nNumber of Movies: {1}\".format(\n",
    "    num_users, num_movies))"
   ]
  },
  {
   "cell_type": "code",
   "execution_count": 12,
   "id": "legislative-knowing",
   "metadata": {
    "colab": {
     "base_uri": "https://localhost:8080/",
     "height": 204
    },
    "id": "legislative-knowing",
    "outputId": "84317600-6819-44a7-c085-4caa0f85c971"
   },
   "outputs": [
    {
     "data": {
      "text/html": [
       "<div>\n",
       "<style scoped>\n",
       "    .dataframe tbody tr th:only-of-type {\n",
       "        vertical-align: middle;\n",
       "    }\n",
       "\n",
       "    .dataframe tbody tr th {\n",
       "        vertical-align: top;\n",
       "    }\n",
       "\n",
       "    .dataframe thead th {\n",
       "        text-align: right;\n",
       "    }\n",
       "</style>\n",
       "<table border=\"1\" class=\"dataframe\">\n",
       "  <thead>\n",
       "    <tr style=\"text-align: right;\">\n",
       "      <th></th>\n",
       "      <th>movieId</th>\n",
       "      <th>title</th>\n",
       "      <th>genres</th>\n",
       "    </tr>\n",
       "  </thead>\n",
       "  <tbody>\n",
       "    <tr>\n",
       "      <th>0</th>\n",
       "      <td>1</td>\n",
       "      <td>Toy Story (1995)</td>\n",
       "      <td>Adventure|Animation|Children|Comedy|Fantasy</td>\n",
       "    </tr>\n",
       "    <tr>\n",
       "      <th>1</th>\n",
       "      <td>2</td>\n",
       "      <td>Jumanji (1995)</td>\n",
       "      <td>Adventure|Children|Fantasy</td>\n",
       "    </tr>\n",
       "    <tr>\n",
       "      <th>2</th>\n",
       "      <td>3</td>\n",
       "      <td>Grumpier Old Men (1995)</td>\n",
       "      <td>Comedy|Romance</td>\n",
       "    </tr>\n",
       "    <tr>\n",
       "      <th>3</th>\n",
       "      <td>4</td>\n",
       "      <td>Waiting to Exhale (1995)</td>\n",
       "      <td>Comedy|Drama|Romance</td>\n",
       "    </tr>\n",
       "    <tr>\n",
       "      <th>4</th>\n",
       "      <td>5</td>\n",
       "      <td>Father of the Bride Part II (1995)</td>\n",
       "      <td>Comedy</td>\n",
       "    </tr>\n",
       "  </tbody>\n",
       "</table>\n",
       "</div>"
      ],
      "text/plain": [
       "   movieId                               title  \\\n",
       "0        1                    Toy Story (1995)   \n",
       "1        2                      Jumanji (1995)   \n",
       "2        3             Grumpier Old Men (1995)   \n",
       "3        4            Waiting to Exhale (1995)   \n",
       "4        5  Father of the Bride Part II (1995)   \n",
       "\n",
       "                                        genres  \n",
       "0  Adventure|Animation|Children|Comedy|Fantasy  \n",
       "1                   Adventure|Children|Fantasy  \n",
       "2                               Comedy|Romance  \n",
       "3                         Comedy|Drama|Romance  \n",
       "4                                       Comedy  "
      ]
     },
     "execution_count": 12,
     "metadata": {},
     "output_type": "execute_result"
    }
   ],
   "source": [
    "movies_file = data_dir / \"movies.csv\"\n",
    "df_movies = pd.read_csv(movies_file)\n",
    "df_movies.head()"
   ]
  },
  {
   "cell_type": "code",
   "execution_count": 13,
   "id": "silent-greensboro",
   "metadata": {
    "colab": {
     "base_uri": "https://localhost:8080/"
    },
    "id": "silent-greensboro",
    "outputId": "72f3fffc-d942-4bda-d68e-e9508804d423"
   },
   "outputs": [
    {
     "name": "stdout",
     "output_type": "stream",
     "text": [
      "[(0, ('Toy Story (1995)', 'Adventure|Animation|Children|Comedy|Fantasy')), (1, ('Jumanji (1995)', 'Adventure|Children|Fantasy')), (2, ('Grumpier Old Men (1995)', 'Comedy|Romance'))]\n",
      "[(9722, ('Bungo Stray Dogs: Dead Apple (2018)', 'Action|Animation')), (9723, ('Andrew Dice Clay: Dice Rules (1991)', 'Comedy'))]\n"
     ]
    }
   ],
   "source": [
    "movie2title_genres = {}\n",
    "for _, row in df_movies.iterrows():\n",
    "    movie_id = row['movieId']\n",
    "    if movie_id not in movie2index:\n",
    "        continue\n",
    "    movie = movie2index[movie_id]\n",
    "    movie2title_genres[movie] = (row['title'], row['genres'])\n",
    "print(list(movie2title_genres.items())[:3])\n",
    "print(list(movie2title_genres.items())[-2:])"
   ]
  },
  {
   "cell_type": "markdown",
   "id": "younger-rates",
   "metadata": {
    "id": "younger-rates"
   },
   "source": [
    "### Create the model"
   ]
  },
  {
   "cell_type": "code",
   "execution_count": 14,
   "id": "thrown-interaction",
   "metadata": {
    "id": "thrown-interaction"
   },
   "outputs": [],
   "source": [
    "embedding_size = 5"
   ]
  },
  {
   "cell_type": "code",
   "execution_count": 15,
   "id": "proprietary-decimal",
   "metadata": {
    "colab": {
     "base_uri": "https://localhost:8080/"
    },
    "id": "proprietary-decimal",
    "outputId": "68935e7a-e71f-42e7-e991-c9d49ac825c9"
   },
   "outputs": [
    {
     "name": "stdout",
     "output_type": "stream",
     "text": [
      "Model: \"movie\"\n",
      "__________________________________________________________________________________________________\n",
      "Layer (type)                    Output Shape         Param #     Connected to                     \n",
      "==================================================================================================\n",
      "user_input (InputLayer)         [(None, 2)]          0                                            \n",
      "__________________________________________________________________________________________________\n",
      "tf.__operators__.getitem (Slici (None,)              0           user_input[0][0]                 \n",
      "__________________________________________________________________________________________________\n",
      "tf.__operators__.getitem_1 (Sli (None,)              0           user_input[0][0]                 \n",
      "__________________________________________________________________________________________________\n",
      "user_embedding (Embedding)      (None, 5)            3050        tf.__operators__.getitem[0][0]   \n",
      "__________________________________________________________________________________________________\n",
      "movie_embedding (Embedding)     (None, 5)            48620       tf.__operators__.getitem_1[0][0] \n",
      "__________________________________________________________________________________________________\n",
      "tf.concat (TFOpLambda)          (None, 10)           0           user_embedding[0][0]             \n",
      "                                                                 movie_embedding[0][0]            \n",
      "__________________________________________________________________________________________________\n",
      "layer_1 (Dense)                 (None, 64)           704         tf.concat[0][0]                  \n",
      "__________________________________________________________________________________________________\n",
      "output (Dense)                  (None, 1)            65          layer_1[0][0]                    \n",
      "==================================================================================================\n",
      "Total params: 52,439\n",
      "Trainable params: 52,439\n",
      "Non-trainable params: 0\n",
      "__________________________________________________________________________________________________\n"
     ]
    }
   ],
   "source": [
    "inputs = tf.keras.Input(shape=(2, ), name='user_input')\n",
    "\n",
    "## user embeddings\n",
    "user_input = inputs[:, 0]\n",
    "user_embedding = layers.Embedding(num_users,\n",
    "                                  embedding_size,\n",
    "                                  name='user_embedding')(user_input)\n",
    "\n",
    "## movie embeddings\n",
    "movie_input = inputs[:, 1]\n",
    "movie_embedding = layers.Embedding(num_movies,\n",
    "                                   embedding_size,\n",
    "                                   name='movie_embedding')(movie_input)\n",
    "\n",
    "## Concat embeddings\n",
    "concat = tf.concat([user_embedding, movie_embedding], axis=1)\n",
    "\n",
    "## Predict Rating\n",
    "layer_1 = layers.Dense(64, activation=\"relu\", name='layer_1')(concat)\n",
    "\n",
    "## Predict rating\n",
    "outputs = layers.Dense(1, activation='sigmoid', name='output')(layer_1)\n",
    "\n",
    "model = tf.keras.Model(inputs=inputs, outputs=outputs, name='movie')\n",
    "\n",
    "model.summary()"
   ]
  },
  {
   "cell_type": "code",
   "execution_count": 16,
   "id": "short-karma",
   "metadata": {
    "colab": {
     "base_uri": "https://localhost:8080/",
     "height": 644
    },
    "id": "short-karma",
    "outputId": "9b3ca9da-055c-416c-8b83-9ce4f84582d2"
   },
   "outputs": [
    {
     "data": {
      "image/png": "[encoded data removed]",
      "text/plain": [
       "<IPython.core.display.Image object>"
      ]
     },
     "execution_count": 16,
     "metadata": {},
     "output_type": "execute_result"
    }
   ],
   "source": [
    "from tensorflow.keras.utils import plot_model\n",
    "plot_model(model, show_shapes=True)"
   ]
  },
  {
   "cell_type": "code",
   "execution_count": 17,
   "id": "julian-degree",
   "metadata": {
    "colab": {
     "base_uri": "https://localhost:8080/"
    },
    "id": "julian-degree",
    "outputId": "438392ed-161c-4ec3-bf2c-ce2927c656c5"
   },
   "outputs": [
    {
     "name": "stdout",
     "output_type": "stream",
     "text": [
      "Epoch 1/4\n",
      "1261/1261 [==============================] - 3s 2ms/step - loss: 0.6059 - val_loss: 0.5795\n",
      "Epoch 2/4\n",
      "1261/1261 [==============================] - 2s 1ms/step - loss: 0.5729 - val_loss: 0.5779\n",
      "Epoch 3/4\n",
      "1261/1261 [==============================] - 2s 1ms/step - loss: 0.5687 - val_loss: 0.5770\n",
      "Epoch 4/4\n",
      "1261/1261 [==============================] - 2s 1ms/step - loss: 0.5661 - val_loss: 0.5769\n"
     ]
    }
   ],
   "source": [
    "#df = df.sample(frac=1, random_state=42)\n",
    "x = df_ratings[[\"user\", \"movie\"]].values\n",
    "# Normalize the targets between 0 and 1\n",
    "y = df_ratings[\"rating\"].values  / 5.0 \n",
    "\n",
    "model.compile(\n",
    "    loss='BinaryCrossentropy', optimizer='adam'\n",
    ")\n",
    "history = model.fit(\n",
    "    x=x,\n",
    "    y=y,\n",
    "    batch_size=64,\n",
    "    epochs=4,\n",
    "    verbose=1,\n",
    "    validation_split=0.2,\n",
    ")"
   ]
  },
  {
   "cell_type": "code",
   "execution_count": null,
   "id": "engaging-tracy",
   "metadata": {
    "id": "engaging-tracy"
   },
   "outputs": [],
   "source": []
  },
  {
   "cell_type": "markdown",
   "id": "fluid-curtis",
   "metadata": {
    "id": "fluid-curtis"
   },
   "source": [
    "### Show recommendations"
   ]
  },
  {
   "cell_type": "code",
   "execution_count": 18,
   "id": "orange-tribe",
   "metadata": {
    "id": "orange-tribe"
   },
   "outputs": [],
   "source": [
    "def show_recommendations(user,\n",
    "                         model,\n",
    "                         df_ratings,\n",
    "                         movie2title_genres,\n",
    "                         n_movies=10):\n",
    "\n",
    "    total_movies = set(df_ratings['movie'].unique())\n",
    "    df_user = df_ratings[df_ratings.user == user].copy()\n",
    "    df_user = df_user.sort_values(by=\"rating\", ascending=False)\n",
    "    movies_watched = set(list(df_user['movie'].values))\n",
    "    movies_unwatched = sorted(total_movies - movies_watched)\n",
    "    top_movies = df_user[['movie', 'rating']].head(5)\n",
    "\n",
    "    print(\"Movies with high ratings from user {0}\".format(user))\n",
    "    print('-' * 50)\n",
    "    for _, row in top_movies.iterrows():\n",
    "        title, genres = movie2title_genres[row['movie']]\n",
    "        rating = row['rating']\n",
    "        print('Movie: {0} | Rating: {1}, Genres: {2}'.format(\n",
    "            title, rating, genres))\n",
    "\n",
    "    print()\n",
    "    print(\"Movies with low ratings from user {0}\".format(user))\n",
    "    print('-' * 50)\n",
    "    for _, row in df_user[['movie', 'rating']].tail(5).iterrows():\n",
    "        title, genres = movie2title_genres[row['movie']]\n",
    "        rating = row['rating']\n",
    "        print('Movie: {0} | Rating: {1}, Genres: {2}'.format(\n",
    "            title, rating, genres))\n",
    "\n",
    "    movies_array = np.array(movies_unwatched)\n",
    "    user_array = np.array([user] * len(movies_array))\n",
    "    x = np.vstack([user_array, movies_array]).T\n",
    "\n",
    "    ratings = model.predict(x).flatten()\n",
    "    movie_ratings = [(movies_array[i],ratings[i]) for i in np.argsort(-ratings)[:n_movies]]\n",
    "    \n",
    "    print()\n",
    "    print(\"Movies recommended to user {0}\".format(user))\n",
    "    print('-' * 50)\n",
    "    for movie, rating in movie_ratings:\n",
    "        title, genres = movie2title_genres[movie]\n",
    "        rating = rating * 5\n",
    "        print('Movie: {0} | Rating pred: {1:.1f}, Genres: {2}'.format(\n",
    "            title, rating, genres))\n",
    "        \n",
    "    \n",
    "    movie_ratings = [(movies_array[i],ratings[i]) for i in np.argsort(ratings)[:3]]\n",
    "    print()\n",
    "    print(\"Movies NOT recommended to user {0}\".format(user))\n",
    "    print('-' * 50)\n",
    "    for movie, rating in movie_ratings:\n",
    "        title, genres = movie2title_genres[movie]\n",
    "        rating = rating * 5\n",
    "        print('Movie: {0} | Rating pred: {1:.1f}, Genres: {2}'.format(\n",
    "            title, rating, genres))\n",
    "    \n",
    "    \n",
    "    return"
   ]
  },
  {
   "cell_type": "code",
   "execution_count": 19,
   "id": "banned-territory",
   "metadata": {
    "colab": {
     "base_uri": "https://localhost:8080/"
    },
    "id": "banned-territory",
    "outputId": "c730e3ed-87ac-4cea-a006-d11a4f01f115"
   },
   "outputs": [
    {
     "name": "stdout",
     "output_type": "stream",
     "text": [
      "Movies with high ratings from user 602\n",
      "--------------------------------------------------\n",
      "Movie: Double Life of Veronique, The (Double Vie de Véronique, La) (1991) | Rating: 5.0, Genres: Drama|Fantasy|Romance\n",
      "Movie: Rebel Without a Cause (1955) | Rating: 5.0, Genres: Drama\n",
      "Movie: Memento (2000) | Rating: 5.0, Genres: Mystery|Thriller\n",
      "Movie: Maltese Falcon, The (1941) | Rating: 5.0, Genres: Film-Noir|Mystery\n",
      "Movie: Pulp Fiction (1994) | Rating: 5.0, Genres: Comedy|Crime|Drama|Thriller\n",
      "\n",
      "Movies with low ratings from user 602\n",
      "--------------------------------------------------\n",
      "Movie: Last Action Hero (1993) | Rating: 1.0, Genres: Action|Adventure|Comedy|Fantasy\n",
      "Movie: Source, The (1999) | Rating: 1.0, Genres: Documentary\n",
      "Movie: Beach, The (2000) | Rating: 1.0, Genres: Adventure|Drama\n",
      "Movie: Lethal Weapon 2 (1989) | Rating: 1.0, Genres: Action|Comedy|Crime|Drama\n",
      "Movie: I Love Trouble (1994) | Rating: 1.0, Genres: Action|Comedy\n",
      "\n",
      "Movies recommended to user 602\n",
      "--------------------------------------------------\n",
      "Movie: Shawshank Redemption, The (1994) | Rating pred: 4.4, Genres: Crime|Drama\n",
      "Movie: Wallace & Gromit: The Best of Aardman Animation (1996) | Rating pred: 4.4, Genres: Adventure|Animation|Comedy\n",
      "Movie: Guess Who's Coming to Dinner (1967) | Rating pred: 4.4, Genres: Drama\n",
      "Movie: Hustler, The (1961) | Rating pred: 4.4, Genres: Drama\n",
      "Movie: Jules and Jim (Jules et Jim) (1961) | Rating pred: 4.4, Genres: Drama|Romance\n",
      "Movie: Departed, The (2006) | Rating pred: 4.4, Genres: Crime|Drama|Thriller\n",
      "Movie: Dune (2000) | Rating pred: 4.4, Genres: Drama|Fantasy|Sci-Fi\n",
      "Movie: Lawrence of Arabia (1962) | Rating pred: 4.4, Genres: Adventure|Drama|War\n",
      "Movie: Paths of Glory (1957) | Rating pred: 4.3, Genres: Drama|War\n",
      "Movie: Trial, The (Procès, Le) (1962) | Rating pred: 4.3, Genres: Drama\n",
      "\n",
      "Movies NOT recommended to user 602\n",
      "--------------------------------------------------\n",
      "Movie: Jason X (2002) | Rating pred: 1.2, Genres: Horror|Sci-Fi|Thriller\n",
      "Movie: Catwoman (2004) | Rating pred: 1.2, Genres: Action|Crime|Fantasy\n",
      "Movie: When a Stranger Calls (2006) | Rating pred: 1.2, Genres: Horror|Thriller\n"
     ]
    }
   ],
   "source": [
    "unique_users = df_ratings['user'].unique()\n",
    "user = np.random.choice(unique_users)\n",
    "show_recommendations(user, model, df_ratings, movie2title_genres, n_movies=10)"
   ]
  },
  {
   "cell_type": "markdown",
   "id": "frank-adjustment",
   "metadata": {
    "id": "frank-adjustment"
   },
   "source": [
    "## Question 1: Change the embeddings dimensions and add more complexity to the model"
   ]
  },
  {
   "cell_type": "code",
   "execution_count": 20,
   "id": "consolidated-rolling",
   "metadata": {
    "id": "consolidated-rolling"
   },
   "outputs": [],
   "source": [
    "user_embedding_size = ...\n",
    "movie_embedding_size = ..."
   ]
  },
  {
   "cell_type": "code",
   "execution_count": 21,
   "id": "whole-rally",
   "metadata": {
    "colab": {
     "base_uri": "https://localhost:8080/",
     "height": 368
    },
    "id": "whole-rally",
    "outputId": "a5be65ba-c404-4d18-9046-3b3318338bdf"
   },
   "outputs": [
    {
     "name": "stderr",
     "output_type": "stream",
     "text": [
      "<>:19: SyntaxWarning: 'ellipsis' object is not callable; perhaps you missed a comma?\n",
      "<>:19: SyntaxWarning: 'ellipsis' object is not callable; perhaps you missed a comma?\n"
     ]
    },
    {
     "ename": "TypeError",
     "evalue": "'<=' not supported between instances of 'ellipsis' and 'int'",
     "output_type": "error",
     "traceback": [
      "\u001b[0;31m---------------------------------------------------------------------------\u001b[0m",
      "\u001b[0;31mTypeError\u001b[0m                                 Traceback (most recent call last)",
      "\u001b[0;32m<ipython-input-21-7ff0c82e9e74>\u001b[0m in \u001b[0;36m<module>\u001b[0;34m\u001b[0m\n\u001b[1;32m      3\u001b[0m \u001b[0;31m## user embeddings\u001b[0m\u001b[0;34m\u001b[0m\u001b[0;34m\u001b[0m\u001b[0;34m\u001b[0m\u001b[0m\n\u001b[1;32m      4\u001b[0m \u001b[0muser_input\u001b[0m \u001b[0;34m=\u001b[0m \u001b[0minputs\u001b[0m\u001b[0;34m[\u001b[0m\u001b[0;34m:\u001b[0m\u001b[0;34m,\u001b[0m \u001b[0;36m0\u001b[0m\u001b[0;34m]\u001b[0m\u001b[0;34m\u001b[0m\u001b[0;34m\u001b[0m\u001b[0m\n\u001b[0;32m----> 5\u001b[0;31m user_embedding = layers.Embedding(num_users,\n\u001b[0m\u001b[1;32m      6\u001b[0m                                   \u001b[0;34m...\u001b[0m\u001b[0;34m,\u001b[0m\u001b[0;34m\u001b[0m\u001b[0;34m\u001b[0m\u001b[0m\n\u001b[1;32m      7\u001b[0m                                   name='user_embedding')(user_input)\n",
      "\u001b[0;32m~/opt/anaconda3/envs/tf/lib/python3.8/site-packages/tensorflow/python/keras/layers/embeddings.py\u001b[0m in \u001b[0;36m__init__\u001b[0;34m(self, input_dim, output_dim, embeddings_initializer, embeddings_regularizer, activity_regularizer, embeddings_constraint, mask_zero, input_length, **kwargs)\u001b[0m\n\u001b[1;32m    104\u001b[0m       \u001b[0;32melse\u001b[0m\u001b[0;34m:\u001b[0m\u001b[0;34m\u001b[0m\u001b[0;34m\u001b[0m\u001b[0m\n\u001b[1;32m    105\u001b[0m         \u001b[0mkwargs\u001b[0m\u001b[0;34m[\u001b[0m\u001b[0;34m'input_shape'\u001b[0m\u001b[0;34m]\u001b[0m \u001b[0;34m=\u001b[0m \u001b[0;34m(\u001b[0m\u001b[0;32mNone\u001b[0m\u001b[0;34m,\u001b[0m\u001b[0;34m)\u001b[0m\u001b[0;34m\u001b[0m\u001b[0;34m\u001b[0m\u001b[0m\n\u001b[0;32m--> 106\u001b[0;31m     \u001b[0;32mif\u001b[0m \u001b[0minput_dim\u001b[0m \u001b[0;34m<=\u001b[0m \u001b[0;36m0\u001b[0m \u001b[0;32mor\u001b[0m \u001b[0moutput_dim\u001b[0m \u001b[0;34m<=\u001b[0m \u001b[0;36m0\u001b[0m\u001b[0;34m:\u001b[0m\u001b[0;34m\u001b[0m\u001b[0;34m\u001b[0m\u001b[0m\n\u001b[0m\u001b[1;32m    107\u001b[0m       raise ValueError('Both `input_dim` and `output_dim` should be positive, '\n\u001b[1;32m    108\u001b[0m                        'found input_dim {} and output_dim {}'.format(\n",
      "\u001b[0;31mTypeError\u001b[0m: '<=' not supported between instances of 'ellipsis' and 'int'"
     ]
    }
   ],
   "source": [
    "inputs = tf.keras.Input(shape=(2, ), name='user_input')\n",
    "\n",
    "## user embeddings\n",
    "user_input = inputs[:, 0]\n",
    "user_embedding = layers.Embedding(num_users,\n",
    "                                  ...,\n",
    "                                  name='user_embedding')(user_input)\n",
    "\n",
    "## movie embeddings\n",
    "movie_input = inputs[:, 1]\n",
    "movie_embedding = layers.Embedding(num_movies,\n",
    "                                   ...,\n",
    "                                   name='movie_embedding')(movie_input)\n",
    "\n",
    "## Concat embeddings\n",
    "concat = tf.concat([user_embedding, movie_embedding], axis=1)\n",
    "\n",
    "## Predict Rating\n",
    "layer_1 = ...(concat)\n",
    "\n",
    "## Predict rating\n",
    "outputs = layers.Dense(1, activation='sigmoid', name='output')(layer_1)\n",
    "\n",
    "model = tf.keras.Model(inputs=inputs, outputs=outputs, name='movie')\n"
   ]
  },
  {
   "cell_type": "code",
   "execution_count": null,
   "id": "ideal-pendant",
   "metadata": {
    "id": "ideal-pendant"
   },
   "outputs": [],
   "source": [
    "model.compile(\n",
    "    loss='BinaryCrossentropy', optimizer='adam'\n",
    ")\n",
    "history = model.fit(\n",
    "    x=x,\n",
    "    y=y,\n",
    "    batch_size=64,\n",
    "    epochs=4,\n",
    "    verbose=1,\n",
    "    validation_split=0.2,\n",
    ")"
   ]
  },
  {
   "cell_type": "code",
   "execution_count": null,
   "id": "published-capability",
   "metadata": {
    "id": "published-capability"
   },
   "outputs": [],
   "source": [
    "unique_users = df_ratings['user'].unique()\n",
    "user = np.random.choice(unique_users)\n",
    "show_recommendations(user, model, df_ratings, movie2title_genres, n_movies=10)"
   ]
  },
  {
   "cell_type": "markdown",
   "id": "synthetic-feedback",
   "metadata": {
    "id": "synthetic-feedback"
   },
   "source": [
    "## Bigger Dataset\n"
   ]
  },
  {
   "cell_type": "code",
   "execution_count": null,
   "id": "traditional-philip",
   "metadata": {
    "colab": {
     "base_uri": "https://localhost:8080/"
    },
    "id": "traditional-philip",
    "outputId": "3d2066d9-21f4-4cdf-e639-97a001c79b06"
   },
   "outputs": [],
   "source": [
    "dataset_url = 'http://files.grouplens.org/datasets/movielens/ml-latest.zip'\n",
    "data_dir = tf.keras.utils.get_file('movielens', origin=dataset_url, extract=True)\n",
    "data_dir = pathlib.Path(data_dir)\n",
    "data_dir = data_dir.parent / 'ml-latest'\n",
    "os.listdir(data_dir)"
   ]
  },
  {
   "cell_type": "code",
   "execution_count": null,
   "id": "amber-february",
   "metadata": {
    "id": "amber-february"
   },
   "outputs": [],
   "source": [
    "movies_file = data_dir / \"movies.csv\"\n",
    "ratings_file = data_dir / \"ratings.csv\""
   ]
  },
  {
   "cell_type": "markdown",
   "id": "honey-mining",
   "metadata": {
    "id": "honey-mining"
   },
   "source": [
    "### Data Preparation"
   ]
  },
  {
   "cell_type": "code",
   "execution_count": null,
   "id": "unique-glory",
   "metadata": {
    "colab": {
     "base_uri": "https://localhost:8080/"
    },
    "id": "unique-glory",
    "outputId": "c3eeb856-3eba-4cf8-b1bc-97d970825a59"
   },
   "outputs": [],
   "source": [
    "def prepare_data(ratings_file, movies_file, nrows=750000):\n",
    "\n",
    "    df_ratings = pd.read_csv(ratings_file, nrows=nrows)\n",
    "    df_ratings = sklearn.utils.shuffle(df_ratings)\n",
    "\n",
    "    # Create a user index\n",
    "    user_ids = sorted(list(df_ratings[\"userId\"].unique()))\n",
    "    user2index = {u: ind for ind, u in enumerate(user_ids)}\n",
    "    index2user = {ind: u for u, ind in user2index.items()}\n",
    "    # Create a movie index\n",
    "    movie_ids = sorted(list(df_ratings[\"movieId\"].unique()))\n",
    "    movie2index = {m: ind for ind, m in enumerate(movie_ids)}\n",
    "    index2movie = {ind: m for m, ind in movie2index.items()}\n",
    "    # Change ids\n",
    "    df_ratings[\"user\"] = df_ratings[\"userId\"].apply(\n",
    "        lambda user_id: user2index[user_id])\n",
    "    df_ratings[\"movie\"] = df_ratings[\"movieId\"].apply(\n",
    "        lambda movie_id: movie2index[movie_id])\n",
    "\n",
    "    num_users, num_movies = (len(user2index), len(movie2index))\n",
    "    print(\"Number of users: {0} \\nNumber of Movies: {1}\".format(\n",
    "        num_users, num_movies))\n",
    "\n",
    "    df_movies = pd.read_csv(movies_file)\n",
    "    movie2title_genres = {}\n",
    "    for _, row in df_movies.iterrows():\n",
    "        movie_id = row['movieId']\n",
    "        if movie_id not in movie2index:\n",
    "            continue\n",
    "        movie = movie2index[movie_id]\n",
    "        movie2title_genres[movie] = (row['title'], row['genres'])\n",
    "\n",
    "    return df_ratings, movie2title_genres, num_users, num_movies\n",
    "\n",
    "df_ratings, movie2title_genres, num_users, num_movies = prepare_data(ratings_file, movies_file)\n",
    "print(len(df_ratings))"
   ]
  },
  {
   "cell_type": "markdown",
   "id": "senior-appeal",
   "metadata": {
    "id": "senior-appeal"
   },
   "source": [
    "### Question 2: Obtain a better model and compare the number of parameter"
   ]
  },
  {
   "cell_type": "code",
   "execution_count": null,
   "id": "wrong-ability",
   "metadata": {
    "colab": {
     "base_uri": "https://localhost:8080/"
    },
    "id": "wrong-ability",
    "outputId": "aaaaaf5b-c04c-4d55-b44f-291bc5041e9f"
   },
   "outputs": [],
   "source": [
    "embedding_size = ...\n",
    "inputs = tf.keras.Input(shape=(2, ), name='user_input')\n",
    "\n",
    "## user embeddings\n",
    "user_input = inputs[:, 0]\n",
    "user_embedding = layers.Embedding(\n",
    "    num_users,\n",
    "    ...,\n",
    ")(user_input)\n",
    "\n",
    "## movie embeddings\n",
    "movie_input = inputs[:, 1]\n",
    "movie_embedding = layers.Embedding(num_movies, ...)(movie_input)\n",
    "\n",
    "## Concat embeddings\n",
    "concat = tf.concat([user_embedding, movie_embedding], axis=1)\n",
    "\n",
    "## Predict Rating\n",
    "layer_1 = ...\n",
    "## Predict rating\n",
    "outputs = layers.Dense(1, activation='sigmoid', name='output')(...)\n",
    "\n",
    "model = tf.keras.Model(inputs=inputs, outputs=outputs, name='movie')\n",
    "\n",
    "model.summary()"
   ]
  },
  {
   "cell_type": "code",
   "execution_count": null,
   "id": "-zG114uSRCka",
   "metadata": {
    "id": "-zG114uSRCka"
   },
   "outputs": [],
   "source": [
    "x = df_ratings[[\"user\", \"movie\"]].values\n",
    "# Normalize the targets between 0 and 1\n",
    "y = df_ratings[\"rating\"].values  / 5.0 \n",
    "model.compile(\n",
    "    loss='BinaryCrossentropy', optimizer='adam'\n",
    ")\n",
    "history = model.fit(\n",
    "    x,\n",
    "    y,\n",
    "    validation_split= 0.1,\n",
    "    epochs=5,\n",
    "    verbose=1,\n",
    "    batch_size=512,\n",
    "    shuffle=True\n",
    ")\n"
   ]
  },
  {
   "cell_type": "code",
   "execution_count": null,
   "id": "jXWogzTYRNZ1",
   "metadata": {
    "id": "jXWogzTYRNZ1"
   },
   "outputs": [],
   "source": [
    "unique_users = df_ratings['user'].unique()\n",
    "user = np.random.choice(unique_users)\n",
    "show_recommendations(user, model, df_ratings, movie2title_genres, n_movies=10)"
   ]
  },
  {
   "cell_type": "code",
   "execution_count": null,
   "id": "TVGGZka2RHdZ",
   "metadata": {
    "colab": {
     "base_uri": "https://localhost:8080/"
    },
    "id": "TVGGZka2RHdZ",
    "outputId": "f62fa8aa-6d78-4c42-86ef-703c20ecfd1b"
   },
   "outputs": [],
   "source": []
  },
  {
   "cell_type": "code",
   "execution_count": null,
   "id": "recorded-trout",
   "metadata": {
    "colab": {
     "base_uri": "https://localhost:8080/"
    },
    "id": "recorded-trout",
    "outputId": "179a500d-86cb-4aad-b380-d93a7d6c2e94"
   },
   "outputs": [],
   "source": []
  },
  {
   "cell_type": "code",
   "execution_count": null,
   "id": "smaller-croatia",
   "metadata": {
    "id": "smaller-croatia"
   },
   "outputs": [],
   "source": []
  },
  {
   "cell_type": "code",
   "execution_count": null,
   "id": "scenic-building",
   "metadata": {
    "id": "scenic-building"
   },
   "outputs": [],
   "source": []
  },
  {
   "cell_type": "code",
   "execution_count": null,
   "id": "matched-board",
   "metadata": {
    "id": "matched-board"
   },
   "outputs": [],
   "source": []
  },
  {
   "cell_type": "code",
   "execution_count": null,
   "id": "specified-wisdom",
   "metadata": {
    "id": "specified-wisdom"
   },
   "outputs": [],
   "source": []
  },
  {
   "cell_type": "code",
   "execution_count": null,
   "id": "joined-medline",
   "metadata": {
    "id": "joined-medline"
   },
   "outputs": [],
   "source": []
  },
  {
   "cell_type": "code",
   "execution_count": null,
   "id": "classified-destination",
   "metadata": {
    "id": "classified-destination"
   },
   "outputs": [],
   "source": []
  },
  {
   "cell_type": "code",
   "execution_count": null,
   "id": "partial-brand",
   "metadata": {
    "id": "partial-brand"
   },
   "outputs": [],
   "source": []
  },
  {
   "cell_type": "code",
   "execution_count": null,
   "id": "noticed-shape",
   "metadata": {
    "colab": {
     "base_uri": "https://localhost:8080/"
    },
    "id": "noticed-shape",
    "outputId": "bf276a1d-f2af-4fb4-e804-9dec55d01576"
   },
   "outputs": [],
   "source": []
  },
  {
   "cell_type": "code",
   "execution_count": null,
   "id": "suffering-quantum",
   "metadata": {
    "id": "suffering-quantum"
   },
   "outputs": [],
   "source": []
  },
  {
   "cell_type": "code",
   "execution_count": null,
   "id": "pacific-allen",
   "metadata": {
    "id": "pacific-allen"
   },
   "outputs": [],
   "source": []
  },
  {
   "cell_type": "code",
   "execution_count": null,
   "id": "challenging-medicare",
   "metadata": {
    "id": "challenging-medicare"
   },
   "outputs": [],
   "source": []
  }
 ],
 "metadata": {
  "accelerator": "GPU",
  "colab": {
   "name": "Embedding_layer.ipynb",
   "provenance": []
  },
  "kernelspec": {
   "display_name": "Python 3",
   "language": "python",
   "name": "python3"
  },
  "language_info": {
   "codemirror_mode": {
    "name": "ipython",
    "version": 3
   },
   "file_extension": ".py",
   "mimetype": "text/x-python",
   "name": "python",
   "nbconvert_exporter": "python",
   "pygments_lexer": "ipython3",
   "version": "3.8.5"
  }
 },
 "nbformat": 4,
 "nbformat_minor": 5
}
