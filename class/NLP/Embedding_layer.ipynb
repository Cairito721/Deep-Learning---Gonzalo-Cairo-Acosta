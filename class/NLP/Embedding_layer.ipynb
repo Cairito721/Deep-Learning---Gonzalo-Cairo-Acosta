{
 "cells": [
  {
   "cell_type": "markdown",
   "id": "prospective-memorabilia",
   "metadata": {},
   "source": [
    "It is highly recommended to use a powerful **GPU**, you can use it for free uploading this notebook to [Google Colab](https://colab.research.google.com/notebooks/intro.ipynb).\n",
    "<table align=\"center\">\n",
    " <td align=\"center\"><a target=\"_blank\" href=\"https://colab.research.google.com/github/ezponda/intro_deep_learning/blob/main/class/NLP/Embedding_layer.ipynb\">\n",
    "        <img src=\"https://i.ibb.co/2P3SLwK/colab.png\"  style=\"padding-bottom:5px;\" />Run in Google Colab</a></td>\n",
    "  <td align=\"center\"><a target=\"_blank\" href=\"https://github.com/ezponda/intro_deep_learning/blob/main/class/NLP/Embedding_layer.ipynb\">\n",
    "        <img src=\"https://i.ibb.co/xfJbPmL/github.png\"  height=\"70px\" style=\"padding-bottom:5px;\"  />View Source on GitHub</a></td>\n",
    "</table>"
   ]
  },
  {
   "cell_type": "code",
   "execution_count": 1,
   "id": "environmental-alfred",
   "metadata": {
    "id": "environmental-alfred"
   },
   "outputs": [],
   "source": [
    "import pathlib\n",
    "import os\n",
    "import sklearn\n",
    "import tensorflow as tf\n",
    "from tensorflow.keras import layers\n",
    "import tensorflow_datasets as tfds\n",
    "import numpy as np\n",
    "import pandas as pd"
   ]
  },
  {
   "cell_type": "markdown",
   "id": "shaped-nylon",
   "metadata": {
    "id": "shaped-nylon"
   },
   "source": [
    "## Embedding layer\n",
    "\n",
    "Take a look at the documentation of the [Embedding](https://www.tensorflow.org/api_docs/python/tf/keras/layers/Embedding) layer.\n",
    "\n",
    "The Embedding layer can be understood as a lookup table that maps from integer indices  to dense vectors (their embeddings). \n",
    "\n",
    "```python\n",
    "tf.keras.layers.Embedding(\n",
    "    input_dim, output_dim, input_length=None\n",
    ")\n",
    "```\n",
    "\n",
    "- **input_dim**\tInteger. Number of different categories (size of the vocabulary, number of films..) , i.e. maximum integer index + 1.\n",
    "- **output_dim** Integer. Dimension of the dense embedding.\n",
    "- **input_length** Length of input sequences, It is not necessary if you are not using sequences."
   ]
  },
  {
   "cell_type": "code",
   "execution_count": 2,
   "id": "understanding-attraction",
   "metadata": {
    "id": "understanding-attraction"
   },
   "outputs": [],
   "source": [
    "embedding_layer = tf.keras.layers.Embedding(input_dim=100, output_dim=5, input_length=None)"
   ]
  },
  {
   "cell_type": "code",
   "execution_count": 3,
   "id": "prescribed-solid",
   "metadata": {
    "colab": {
     "base_uri": "https://localhost:8080/"
    },
    "id": "prescribed-solid",
    "outputId": "d6493243-2f2b-4305-8b6c-740c2bd296be"
   },
   "outputs": [
    {
     "name": "stdout",
     "output_type": "stream",
     "text": [
      "(1, 5)\n",
      "Embedding of entity with index 0:  [ 0.01748766  0.04152514 -0.03984021 -0.04303596  0.04089662]\n",
      "Embedding of entity with index 1:  [-0.04102348  0.03667289  0.03768617 -0.0479034   0.01443427]\n",
      "Embedding of entity with index 2:  [ 0.01687037  0.040245    0.03714876  0.03227634 -0.00255681]\n"
     ]
    }
   ],
   "source": [
    "vector_ind_0 = embedding_layer(tf.constant([0]))\n",
    "vector_ind_1 = embedding_layer(tf.constant([1]))\n",
    "vector_ind_2 = embedding_layer(tf.constant([2]))\n",
    "\n",
    "print(vector_ind_0.shape)\n",
    "print('Embedding of entity with index 0: ', vector_ind_0.numpy().flatten())\n",
    "print('Embedding of entity with index 1: ', vector_ind_1.numpy().flatten())\n",
    "print('Embedding of entity with index 2: ', vector_ind_2.numpy().flatten())"
   ]
  },
  {
   "cell_type": "code",
   "execution_count": 4,
   "id": "surgical-minnesota",
   "metadata": {
    "colab": {
     "base_uri": "https://localhost:8080/"
    },
    "id": "surgical-minnesota",
    "outputId": "9cbc9688-1284-43ac-d592-e52f9108d60e"
   },
   "outputs": [
    {
     "name": "stdout",
     "output_type": "stream",
     "text": [
      "input sequence [0, 1, 2, 1]\n",
      "sequence embeddings shape (4, 5)\n",
      "sequence embeddings [[ 0.01748766  0.04152514 -0.03984021 -0.04303596  0.04089662]\n",
      " [-0.04102348  0.03667289  0.03768617 -0.0479034   0.01443427]\n",
      " [ 0.01687037  0.040245    0.03714876  0.03227634 -0.00255681]\n",
      " [-0.04102348  0.03667289  0.03768617 -0.0479034   0.01443427]]\n"
     ]
    }
   ],
   "source": [
    "input_sequence = [0, 1, 2, 1]\n",
    "print('input sequence', input_sequence)\n",
    "sequence = embedding_layer(tf.constant(input_sequence))\n",
    "print('sequence embeddings shape', sequence.shape)\n",
    "print('sequence embeddings', sequence.numpy())"
   ]
  },
  {
   "cell_type": "markdown",
   "id": "authorized-winning",
   "metadata": {
    "id": "authorized-winning"
   },
   "source": [
    "# Applications: Recommender System\n",
    "\n",
    "We are going too use the [MovieLens 100K dataset](https://grouplens.org/datasets/movielens/100k/). We can create model to recommend movies for a given user."
   ]
  },
  {
   "cell_type": "code",
   "execution_count": 5,
   "id": "noted-printing",
   "metadata": {
    "colab": {
     "base_uri": "https://localhost:8080/"
    },
    "id": "noted-printing",
    "outputId": "82b941ad-02fa-4c1b-d745-bcccbc3ef78c"
   },
   "outputs": [
    {
     "data": {
      "text/plain": [
       "['links.csv', 'tags.csv', 'ratings.csv', 'README.txt', 'movies.csv']"
      ]
     },
     "execution_count": 5,
     "metadata": {},
     "output_type": "execute_result"
    }
   ],
   "source": [
    "dataset_url = 'http://files.grouplens.org/datasets/movielens/ml-latest-small.zip' # small\n",
    "data_dir = tf.keras.utils.get_file('movielens_small', origin=dataset_url, extract=True)\n",
    "data_dir = pathlib.Path(data_dir)\n",
    "data_dir = data_dir.parent / 'ml-latest-small'\n",
    "os.listdir(data_dir)"
   ]
  },
  {
   "cell_type": "code",
   "execution_count": 6,
   "id": "paperback-journal",
   "metadata": {
    "colab": {
     "base_uri": "https://localhost:8080/",
     "height": 204
    },
    "id": "paperback-journal",
    "outputId": "d5d9a732-d7ff-41b6-a225-39b28cac4907"
   },
   "outputs": [
    {
     "data": {
      "text/html": [
       "<div>\n",
       "<style scoped>\n",
       "    .dataframe tbody tr th:only-of-type {\n",
       "        vertical-align: middle;\n",
       "    }\n",
       "\n",
       "    .dataframe tbody tr th {\n",
       "        vertical-align: top;\n",
       "    }\n",
       "\n",
       "    .dataframe thead th {\n",
       "        text-align: right;\n",
       "    }\n",
       "</style>\n",
       "<table border=\"1\" class=\"dataframe\">\n",
       "  <thead>\n",
       "    <tr style=\"text-align: right;\">\n",
       "      <th></th>\n",
       "      <th>userId</th>\n",
       "      <th>movieId</th>\n",
       "      <th>rating</th>\n",
       "      <th>timestamp</th>\n",
       "    </tr>\n",
       "  </thead>\n",
       "  <tbody>\n",
       "    <tr>\n",
       "      <th>17223</th>\n",
       "      <td>110</td>\n",
       "      <td>1198</td>\n",
       "      <td>3.5</td>\n",
       "      <td>1175330124</td>\n",
       "    </tr>\n",
       "    <tr>\n",
       "      <th>11628</th>\n",
       "      <td>69</td>\n",
       "      <td>589</td>\n",
       "      <td>4.0</td>\n",
       "      <td>1021643884</td>\n",
       "    </tr>\n",
       "    <tr>\n",
       "      <th>53098</th>\n",
       "      <td>351</td>\n",
       "      <td>4878</td>\n",
       "      <td>3.5</td>\n",
       "      <td>1333037601</td>\n",
       "    </tr>\n",
       "    <tr>\n",
       "      <th>79815</th>\n",
       "      <td>497</td>\n",
       "      <td>1916</td>\n",
       "      <td>4.0</td>\n",
       "      <td>1430332450</td>\n",
       "    </tr>\n",
       "    <tr>\n",
       "      <th>94745</th>\n",
       "      <td>599</td>\n",
       "      <td>74696</td>\n",
       "      <td>3.0</td>\n",
       "      <td>1498522988</td>\n",
       "    </tr>\n",
       "  </tbody>\n",
       "</table>\n",
       "</div>"
      ],
      "text/plain": [
       "       userId  movieId  rating   timestamp\n",
       "17223     110     1198     3.5  1175330124\n",
       "11628      69      589     4.0  1021643884\n",
       "53098     351     4878     3.5  1333037601\n",
       "79815     497     1916     4.0  1430332450\n",
       "94745     599    74696     3.0  1498522988"
      ]
     },
     "execution_count": 6,
     "metadata": {},
     "output_type": "execute_result"
    }
   ],
   "source": [
    "ratings_file = data_dir / \"ratings.csv\"\n",
    "df_ratings = pd.read_csv(ratings_file)\n",
    "df_ratings = sklearn.utils.shuffle(df_ratings)\n",
    "df_ratings.head()"
   ]
  },
  {
   "cell_type": "code",
   "execution_count": 7,
   "id": "promotional-venue",
   "metadata": {
    "colab": {
     "base_uri": "https://localhost:8080/"
    },
    "id": "promotional-venue",
    "outputId": "e3737465-d8d9-49e8-8d24-855527d8364f"
   },
   "outputs": [
    {
     "name": "stdout",
     "output_type": "stream",
     "text": [
      "Counter({4.0: 26818, 3.0: 20047, 5.0: 13211, 3.5: 13136, 4.5: 8551, 2.0: 7551, 2.5: 5550, 1.0: 2811, 1.5: 1791, 0.5: 1370})\n"
     ]
    }
   ],
   "source": [
    "## ratings  \n",
    "from collections import Counter\n",
    "print(Counter(df_ratings['rating']))"
   ]
  },
  {
   "cell_type": "code",
   "execution_count": 8,
   "id": "placed-bishop",
   "metadata": {
    "colab": {
     "base_uri": "https://localhost:8080/"
    },
    "id": "placed-bishop",
    "outputId": "d7a48ce8-0a4e-465c-97f5-8d23446df7ea"
   },
   "outputs": [
    {
     "name": "stdout",
     "output_type": "stream",
     "text": [
      "[(1, 0), (2, 1), (3, 2)]\n"
     ]
    }
   ],
   "source": [
    "# Create a user index\n",
    "user_ids = sorted(list(df_ratings[\"userId\"].unique()))\n",
    "user2index = {u: ind for ind, u in enumerate(user_ids)}\n",
    "index2user = {ind: u for u, ind in user2index.items()}\n",
    "print(list(user2index.items())[:3])"
   ]
  },
  {
   "cell_type": "code",
   "execution_count": 9,
   "id": "lightweight-reproduction",
   "metadata": {
    "colab": {
     "base_uri": "https://localhost:8080/"
    },
    "id": "lightweight-reproduction",
    "outputId": "c6a8916b-bd76-41ca-e3e1-f98df0681cc3"
   },
   "outputs": [
    {
     "name": "stdout",
     "output_type": "stream",
     "text": [
      "[(193587, 9722), (193609, 9723)]\n"
     ]
    }
   ],
   "source": [
    "# Create a movie index\n",
    "movie_ids = sorted(list(df_ratings[\"movieId\"].unique()))\n",
    "movie2index = {m: ind for ind, m in enumerate(movie_ids)}\n",
    "index2movie = {ind: m for m, ind in movie2index.items()}\n",
    "print(list(movie2index.items())[-2:])"
   ]
  },
  {
   "cell_type": "code",
   "execution_count": 10,
   "id": "clinical-richards",
   "metadata": {
    "id": "clinical-richards"
   },
   "outputs": [],
   "source": [
    "df_ratings[\"user\"] = df_ratings[\"userId\"].apply(lambda user_id: user2index[user_id])\n",
    "df_ratings[\"movie\"] = df_ratings[\"movieId\"].apply(lambda movie_id: movie2index[movie_id])"
   ]
  },
  {
   "cell_type": "code",
   "execution_count": 11,
   "id": "located-boating",
   "metadata": {
    "colab": {
     "base_uri": "https://localhost:8080/"
    },
    "id": "located-boating",
    "outputId": "dfc6fe66-f41d-4e26-8952-a76e9db3da70"
   },
   "outputs": [
    {
     "name": "stdout",
     "output_type": "stream",
     "text": [
      "Number of users: 610 \n",
      "Number of Movies: 9724\n"
     ]
    }
   ],
   "source": [
    "num_users, num_movies = (len(user2index), len(movie2index))\n",
    "print(\"Number of users: {0} \\nNumber of Movies: {1}\".format(\n",
    "    num_users, num_movies))"
   ]
  },
  {
   "cell_type": "code",
   "execution_count": 12,
   "id": "legislative-knowing",
   "metadata": {
    "colab": {
     "base_uri": "https://localhost:8080/",
     "height": 204
    },
    "id": "legislative-knowing",
    "outputId": "84317600-6819-44a7-c085-4caa0f85c971"
   },
   "outputs": [
    {
     "data": {
      "text/html": [
       "<div>\n",
       "<style scoped>\n",
       "    .dataframe tbody tr th:only-of-type {\n",
       "        vertical-align: middle;\n",
       "    }\n",
       "\n",
       "    .dataframe tbody tr th {\n",
       "        vertical-align: top;\n",
       "    }\n",
       "\n",
       "    .dataframe thead th {\n",
       "        text-align: right;\n",
       "    }\n",
       "</style>\n",
       "<table border=\"1\" class=\"dataframe\">\n",
       "  <thead>\n",
       "    <tr style=\"text-align: right;\">\n",
       "      <th></th>\n",
       "      <th>movieId</th>\n",
       "      <th>title</th>\n",
       "      <th>genres</th>\n",
       "    </tr>\n",
       "  </thead>\n",
       "  <tbody>\n",
       "    <tr>\n",
       "      <th>0</th>\n",
       "      <td>1</td>\n",
       "      <td>Toy Story (1995)</td>\n",
       "      <td>Adventure|Animation|Children|Comedy|Fantasy</td>\n",
       "    </tr>\n",
       "    <tr>\n",
       "      <th>1</th>\n",
       "      <td>2</td>\n",
       "      <td>Jumanji (1995)</td>\n",
       "      <td>Adventure|Children|Fantasy</td>\n",
       "    </tr>\n",
       "    <tr>\n",
       "      <th>2</th>\n",
       "      <td>3</td>\n",
       "      <td>Grumpier Old Men (1995)</td>\n",
       "      <td>Comedy|Romance</td>\n",
       "    </tr>\n",
       "    <tr>\n",
       "      <th>3</th>\n",
       "      <td>4</td>\n",
       "      <td>Waiting to Exhale (1995)</td>\n",
       "      <td>Comedy|Drama|Romance</td>\n",
       "    </tr>\n",
       "    <tr>\n",
       "      <th>4</th>\n",
       "      <td>5</td>\n",
       "      <td>Father of the Bride Part II (1995)</td>\n",
       "      <td>Comedy</td>\n",
       "    </tr>\n",
       "  </tbody>\n",
       "</table>\n",
       "</div>"
      ],
      "text/plain": [
       "   movieId                               title  \\\n",
       "0        1                    Toy Story (1995)   \n",
       "1        2                      Jumanji (1995)   \n",
       "2        3             Grumpier Old Men (1995)   \n",
       "3        4            Waiting to Exhale (1995)   \n",
       "4        5  Father of the Bride Part II (1995)   \n",
       "\n",
       "                                        genres  \n",
       "0  Adventure|Animation|Children|Comedy|Fantasy  \n",
       "1                   Adventure|Children|Fantasy  \n",
       "2                               Comedy|Romance  \n",
       "3                         Comedy|Drama|Romance  \n",
       "4                                       Comedy  "
      ]
     },
     "execution_count": 12,
     "metadata": {},
     "output_type": "execute_result"
    }
   ],
   "source": [
    "movies_file = data_dir / \"movies.csv\"\n",
    "df_movies = pd.read_csv(movies_file)\n",
    "df_movies.head()"
   ]
  },
  {
   "cell_type": "code",
   "execution_count": 13,
   "id": "silent-greensboro",
   "metadata": {
    "colab": {
     "base_uri": "https://localhost:8080/"
    },
    "id": "silent-greensboro",
    "outputId": "72f3fffc-d942-4bda-d68e-e9508804d423"
   },
   "outputs": [
    {
     "name": "stdout",
     "output_type": "stream",
     "text": [
      "[(0, ('Toy Story (1995)', 'Adventure|Animation|Children|Comedy|Fantasy')), (1, ('Jumanji (1995)', 'Adventure|Children|Fantasy')), (2, ('Grumpier Old Men (1995)', 'Comedy|Romance'))]\n",
      "[(9722, ('Bungo Stray Dogs: Dead Apple (2018)', 'Action|Animation')), (9723, ('Andrew Dice Clay: Dice Rules (1991)', 'Comedy'))]\n"
     ]
    }
   ],
   "source": [
    "movie2title_genres = {}\n",
    "for _, row in df_movies.iterrows():\n",
    "    movie_id = row['movieId']\n",
    "    if movie_id not in movie2index:\n",
    "        continue\n",
    "    movie = movie2index[movie_id]\n",
    "    movie2title_genres[movie] = (row['title'], row['genres'])\n",
    "print(list(movie2title_genres.items())[:3])\n",
    "print(list(movie2title_genres.items())[-2:])"
   ]
  },
  {
   "cell_type": "markdown",
   "id": "younger-rates",
   "metadata": {
    "id": "younger-rates"
   },
   "source": [
    "### Create the model"
   ]
  },
  {
   "cell_type": "code",
   "execution_count": 26,
   "id": "thrown-interaction",
   "metadata": {
    "id": "thrown-interaction"
   },
   "outputs": [],
   "source": [
    "embedding_size = 5"
   ]
  },
  {
   "cell_type": "code",
   "execution_count": 27,
   "id": "proprietary-decimal",
   "metadata": {
    "colab": {
     "base_uri": "https://localhost:8080/"
    },
    "id": "proprietary-decimal",
    "outputId": "68935e7a-e71f-42e7-e991-c9d49ac825c9"
   },
   "outputs": [
    {
     "name": "stdout",
     "output_type": "stream",
     "text": [
      "Model: \"movie\"\n",
      "__________________________________________________________________________________________________\n",
      "Layer (type)                    Output Shape         Param #     Connected to                     \n",
      "==================================================================================================\n",
      "user_input (InputLayer)         [(None, 2)]          0                                            \n",
      "__________________________________________________________________________________________________\n",
      "tf.__operators__.getitem_2 (Sli (None,)              0           user_input[0][0]                 \n",
      "__________________________________________________________________________________________________\n",
      "tf.__operators__.getitem_3 (Sli (None,)              0           user_input[0][0]                 \n",
      "__________________________________________________________________________________________________\n",
      "user_embedding (Embedding)      (None, 500)          305000      tf.__operators__.getitem_2[0][0] \n",
      "__________________________________________________________________________________________________\n",
      "movie_embedding (Embedding)     (None, 500)          4862000     tf.__operators__.getitem_3[0][0] \n",
      "__________________________________________________________________________________________________\n",
      "tf.concat_1 (TFOpLambda)        (None, 1000)         0           user_embedding[0][0]             \n",
      "                                                                 movie_embedding[0][0]            \n",
      "__________________________________________________________________________________________________\n",
      "layer_1 (Dense)                 (None, 64)           64064       tf.concat_1[0][0]                \n",
      "__________________________________________________________________________________________________\n",
      "output (Dense)                  (None, 1)            65          layer_1[0][0]                    \n",
      "==================================================================================================\n",
      "Total params: 5,231,129\n",
      "Trainable params: 5,231,129\n",
      "Non-trainable params: 0\n",
      "__________________________________________________________________________________________________\n"
     ]
    }
   ],
   "source": [
    "inputs = tf.keras.Input(shape=(2, ), name='user_input')\n",
    "\n",
    "## user embeddings\n",
    "user_input = inputs[:, 0]\n",
    "user_embedding = layers.Embedding(num_users,\n",
    "                                  embedding_size,\n",
    "                                  name='user_embedding')(user_input)\n",
    "\n",
    "## movie embeddings\n",
    "movie_input = inputs[:, 1]\n",
    "movie_embedding = layers.Embedding(num_movies,\n",
    "                                   embedding_size,\n",
    "                                   name='movie_embedding')(movie_input)\n",
    "\n",
    "## Concat embeddings\n",
    "concat = tf.concat([user_embedding, movie_embedding], axis=1)\n",
    "\n",
    "## Predict Rating\n",
    "layer_1 = layers.Dense(64, activation=\"relu\", name='layer_1')(concat)\n",
    "\n",
    "## Predict rating\n",
    "outputs = layers.Dense(1, activation='sigmoid', name='output')(layer_1)\n",
    "\n",
    "model = tf.keras.Model(inputs=inputs, outputs=outputs, name='movie')\n",
    "\n",
    "model.summary()"
   ]
  },
  {
   "cell_type": "code",
   "execution_count": 28,
   "id": "short-karma",
   "metadata": {
    "colab": {
     "base_uri": "https://localhost:8080/",
     "height": 644
    },
    "id": "short-karma",
    "outputId": "9b3ca9da-055c-416c-8b83-9ce4f84582d2"
   },
   "outputs": [
    {
     "data": {
      "image/png": "[encoded data removed]",
      "text/plain": [
       "<IPython.core.display.Image object>"
      ]
     },
     "execution_count": 28,
     "metadata": {},
     "output_type": "execute_result"
    }
   ],
   "source": [
    "from tensorflow.keras.utils import plot_model\n",
    "plot_model(model, show_shapes=True)"
   ]
  },
  {
   "cell_type": "code",
   "execution_count": 29,
   "id": "julian-degree",
   "metadata": {
    "colab": {
     "base_uri": "https://localhost:8080/"
    },
    "id": "julian-degree",
    "outputId": "438392ed-161c-4ec3-bf2c-ce2927c656c5"
   },
   "outputs": [
    {
     "name": "stdout",
     "output_type": "stream",
     "text": [
      "Epoch 1/4\n",
      "1261/1261 [==============================] - 46s 36ms/step - loss: 0.5947 - val_loss: 0.5812\n",
      "Epoch 2/4\n",
      "1261/1261 [==============================] - 46s 37ms/step - loss: 0.5697 - val_loss: 0.5797\n",
      "Epoch 3/4\n",
      " 102/1261 [=>............................] - ETA: 39s - loss: 0.5645"
     ]
    },
    {
     "ename": "KeyboardInterrupt",
     "evalue": "",
     "output_type": "error",
     "traceback": [
      "\u001b[0;31m---------------------------------------------------------------------------\u001b[0m",
      "\u001b[0;31mKeyboardInterrupt\u001b[0m                         Traceback (most recent call last)",
      "\u001b[0;32m<ipython-input-29-757b6e882e23>\u001b[0m in \u001b[0;36m<module>\u001b[0;34m\u001b[0m\n\u001b[1;32m      7\u001b[0m     \u001b[0mloss\u001b[0m\u001b[0;34m=\u001b[0m\u001b[0;34m'BinaryCrossentropy'\u001b[0m\u001b[0;34m,\u001b[0m \u001b[0moptimizer\u001b[0m\u001b[0;34m=\u001b[0m\u001b[0;34m'adam'\u001b[0m\u001b[0;34m\u001b[0m\u001b[0;34m\u001b[0m\u001b[0m\n\u001b[1;32m      8\u001b[0m )\n\u001b[0;32m----> 9\u001b[0;31m history = model.fit(\n\u001b[0m\u001b[1;32m     10\u001b[0m     \u001b[0mx\u001b[0m\u001b[0;34m=\u001b[0m\u001b[0mx\u001b[0m\u001b[0;34m,\u001b[0m\u001b[0;34m\u001b[0m\u001b[0;34m\u001b[0m\u001b[0m\n\u001b[1;32m     11\u001b[0m     \u001b[0my\u001b[0m\u001b[0;34m=\u001b[0m\u001b[0my\u001b[0m\u001b[0;34m,\u001b[0m\u001b[0;34m\u001b[0m\u001b[0;34m\u001b[0m\u001b[0m\n",
      "\u001b[0;32m~/opt/anaconda3/envs/tf/lib/python3.8/site-packages/tensorflow/python/keras/engine/training.py\u001b[0m in \u001b[0;36mfit\u001b[0;34m(self, x, y, batch_size, epochs, verbose, callbacks, validation_split, validation_data, shuffle, class_weight, sample_weight, initial_epoch, steps_per_epoch, validation_steps, validation_batch_size, validation_freq, max_queue_size, workers, use_multiprocessing)\u001b[0m\n\u001b[1;32m   1098\u001b[0m                 _r=1):\n\u001b[1;32m   1099\u001b[0m               \u001b[0mcallbacks\u001b[0m\u001b[0;34m.\u001b[0m\u001b[0mon_train_batch_begin\u001b[0m\u001b[0;34m(\u001b[0m\u001b[0mstep\u001b[0m\u001b[0;34m)\u001b[0m\u001b[0;34m\u001b[0m\u001b[0;34m\u001b[0m\u001b[0m\n\u001b[0;32m-> 1100\u001b[0;31m               \u001b[0mtmp_logs\u001b[0m \u001b[0;34m=\u001b[0m \u001b[0mself\u001b[0m\u001b[0;34m.\u001b[0m\u001b[0mtrain_function\u001b[0m\u001b[0;34m(\u001b[0m\u001b[0miterator\u001b[0m\u001b[0;34m)\u001b[0m\u001b[0;34m\u001b[0m\u001b[0;34m\u001b[0m\u001b[0m\n\u001b[0m\u001b[1;32m   1101\u001b[0m               \u001b[0;32mif\u001b[0m \u001b[0mdata_handler\u001b[0m\u001b[0;34m.\u001b[0m\u001b[0mshould_sync\u001b[0m\u001b[0;34m:\u001b[0m\u001b[0;34m\u001b[0m\u001b[0;34m\u001b[0m\u001b[0m\n\u001b[1;32m   1102\u001b[0m                 \u001b[0mcontext\u001b[0m\u001b[0;34m.\u001b[0m\u001b[0masync_wait\u001b[0m\u001b[0;34m(\u001b[0m\u001b[0;34m)\u001b[0m\u001b[0;34m\u001b[0m\u001b[0;34m\u001b[0m\u001b[0m\n",
      "\u001b[0;32m~/opt/anaconda3/envs/tf/lib/python3.8/site-packages/tensorflow/python/eager/def_function.py\u001b[0m in \u001b[0;36m__call__\u001b[0;34m(self, *args, **kwds)\u001b[0m\n\u001b[1;32m    826\u001b[0m     \u001b[0mtracing_count\u001b[0m \u001b[0;34m=\u001b[0m \u001b[0mself\u001b[0m\u001b[0;34m.\u001b[0m\u001b[0mexperimental_get_tracing_count\u001b[0m\u001b[0;34m(\u001b[0m\u001b[0;34m)\u001b[0m\u001b[0;34m\u001b[0m\u001b[0;34m\u001b[0m\u001b[0m\n\u001b[1;32m    827\u001b[0m     \u001b[0;32mwith\u001b[0m \u001b[0mtrace\u001b[0m\u001b[0;34m.\u001b[0m\u001b[0mTrace\u001b[0m\u001b[0;34m(\u001b[0m\u001b[0mself\u001b[0m\u001b[0;34m.\u001b[0m\u001b[0m_name\u001b[0m\u001b[0;34m)\u001b[0m \u001b[0;32mas\u001b[0m \u001b[0mtm\u001b[0m\u001b[0;34m:\u001b[0m\u001b[0;34m\u001b[0m\u001b[0;34m\u001b[0m\u001b[0m\n\u001b[0;32m--> 828\u001b[0;31m       \u001b[0mresult\u001b[0m \u001b[0;34m=\u001b[0m \u001b[0mself\u001b[0m\u001b[0;34m.\u001b[0m\u001b[0m_call\u001b[0m\u001b[0;34m(\u001b[0m\u001b[0;34m*\u001b[0m\u001b[0margs\u001b[0m\u001b[0;34m,\u001b[0m \u001b[0;34m**\u001b[0m\u001b[0mkwds\u001b[0m\u001b[0;34m)\u001b[0m\u001b[0;34m\u001b[0m\u001b[0;34m\u001b[0m\u001b[0m\n\u001b[0m\u001b[1;32m    829\u001b[0m       \u001b[0mcompiler\u001b[0m \u001b[0;34m=\u001b[0m \u001b[0;34m\"xla\"\u001b[0m \u001b[0;32mif\u001b[0m \u001b[0mself\u001b[0m\u001b[0;34m.\u001b[0m\u001b[0m_experimental_compile\u001b[0m \u001b[0;32melse\u001b[0m \u001b[0;34m\"nonXla\"\u001b[0m\u001b[0;34m\u001b[0m\u001b[0;34m\u001b[0m\u001b[0m\n\u001b[1;32m    830\u001b[0m       \u001b[0mnew_tracing_count\u001b[0m \u001b[0;34m=\u001b[0m \u001b[0mself\u001b[0m\u001b[0;34m.\u001b[0m\u001b[0mexperimental_get_tracing_count\u001b[0m\u001b[0;34m(\u001b[0m\u001b[0;34m)\u001b[0m\u001b[0;34m\u001b[0m\u001b[0;34m\u001b[0m\u001b[0m\n",
      "\u001b[0;32m~/opt/anaconda3/envs/tf/lib/python3.8/site-packages/tensorflow/python/eager/def_function.py\u001b[0m in \u001b[0;36m_call\u001b[0;34m(self, *args, **kwds)\u001b[0m\n\u001b[1;32m    853\u001b[0m       \u001b[0;31m# In this case we have created variables on the first call, so we run the\u001b[0m\u001b[0;34m\u001b[0m\u001b[0;34m\u001b[0m\u001b[0;34m\u001b[0m\u001b[0m\n\u001b[1;32m    854\u001b[0m       \u001b[0;31m# defunned version which is guaranteed to never create variables.\u001b[0m\u001b[0;34m\u001b[0m\u001b[0;34m\u001b[0m\u001b[0;34m\u001b[0m\u001b[0m\n\u001b[0;32m--> 855\u001b[0;31m       \u001b[0;32mreturn\u001b[0m \u001b[0mself\u001b[0m\u001b[0;34m.\u001b[0m\u001b[0m_stateless_fn\u001b[0m\u001b[0;34m(\u001b[0m\u001b[0;34m*\u001b[0m\u001b[0margs\u001b[0m\u001b[0;34m,\u001b[0m \u001b[0;34m**\u001b[0m\u001b[0mkwds\u001b[0m\u001b[0;34m)\u001b[0m  \u001b[0;31m# pylint: disable=not-callable\u001b[0m\u001b[0;34m\u001b[0m\u001b[0;34m\u001b[0m\u001b[0m\n\u001b[0m\u001b[1;32m    856\u001b[0m     \u001b[0;32melif\u001b[0m \u001b[0mself\u001b[0m\u001b[0;34m.\u001b[0m\u001b[0m_stateful_fn\u001b[0m \u001b[0;32mis\u001b[0m \u001b[0;32mnot\u001b[0m \u001b[0;32mNone\u001b[0m\u001b[0;34m:\u001b[0m\u001b[0;34m\u001b[0m\u001b[0;34m\u001b[0m\u001b[0m\n\u001b[1;32m    857\u001b[0m       \u001b[0;31m# Release the lock early so that multiple threads can perform the call\u001b[0m\u001b[0;34m\u001b[0m\u001b[0;34m\u001b[0m\u001b[0;34m\u001b[0m\u001b[0m\n",
      "\u001b[0;32m~/opt/anaconda3/envs/tf/lib/python3.8/site-packages/tensorflow/python/eager/function.py\u001b[0m in \u001b[0;36m__call__\u001b[0;34m(self, *args, **kwargs)\u001b[0m\n\u001b[1;32m   2940\u001b[0m       (graph_function,\n\u001b[1;32m   2941\u001b[0m        filtered_flat_args) = self._maybe_define_function(args, kwargs)\n\u001b[0;32m-> 2942\u001b[0;31m     return graph_function._call_flat(\n\u001b[0m\u001b[1;32m   2943\u001b[0m         filtered_flat_args, captured_inputs=graph_function.captured_inputs)  # pylint: disable=protected-access\n\u001b[1;32m   2944\u001b[0m \u001b[0;34m\u001b[0m\u001b[0m\n",
      "\u001b[0;32m~/opt/anaconda3/envs/tf/lib/python3.8/site-packages/tensorflow/python/eager/function.py\u001b[0m in \u001b[0;36m_call_flat\u001b[0;34m(self, args, captured_inputs, cancellation_manager)\u001b[0m\n\u001b[1;32m   1916\u001b[0m         and executing_eagerly):\n\u001b[1;32m   1917\u001b[0m       \u001b[0;31m# No tape is watching; skip to running the function.\u001b[0m\u001b[0;34m\u001b[0m\u001b[0;34m\u001b[0m\u001b[0;34m\u001b[0m\u001b[0m\n\u001b[0;32m-> 1918\u001b[0;31m       return self._build_call_outputs(self._inference_function.call(\n\u001b[0m\u001b[1;32m   1919\u001b[0m           ctx, args, cancellation_manager=cancellation_manager))\n\u001b[1;32m   1920\u001b[0m     forward_backward = self._select_forward_and_backward_functions(\n",
      "\u001b[0;32m~/opt/anaconda3/envs/tf/lib/python3.8/site-packages/tensorflow/python/eager/function.py\u001b[0m in \u001b[0;36mcall\u001b[0;34m(self, ctx, args, cancellation_manager)\u001b[0m\n\u001b[1;32m    553\u001b[0m       \u001b[0;32mwith\u001b[0m \u001b[0m_InterpolateFunctionError\u001b[0m\u001b[0;34m(\u001b[0m\u001b[0mself\u001b[0m\u001b[0;34m)\u001b[0m\u001b[0;34m:\u001b[0m\u001b[0;34m\u001b[0m\u001b[0;34m\u001b[0m\u001b[0m\n\u001b[1;32m    554\u001b[0m         \u001b[0;32mif\u001b[0m \u001b[0mcancellation_manager\u001b[0m \u001b[0;32mis\u001b[0m \u001b[0;32mNone\u001b[0m\u001b[0;34m:\u001b[0m\u001b[0;34m\u001b[0m\u001b[0;34m\u001b[0m\u001b[0m\n\u001b[0;32m--> 555\u001b[0;31m           outputs = execute.execute(\n\u001b[0m\u001b[1;32m    556\u001b[0m               \u001b[0mstr\u001b[0m\u001b[0;34m(\u001b[0m\u001b[0mself\u001b[0m\u001b[0;34m.\u001b[0m\u001b[0msignature\u001b[0m\u001b[0;34m.\u001b[0m\u001b[0mname\u001b[0m\u001b[0;34m)\u001b[0m\u001b[0;34m,\u001b[0m\u001b[0;34m\u001b[0m\u001b[0;34m\u001b[0m\u001b[0m\n\u001b[1;32m    557\u001b[0m               \u001b[0mnum_outputs\u001b[0m\u001b[0;34m=\u001b[0m\u001b[0mself\u001b[0m\u001b[0;34m.\u001b[0m\u001b[0m_num_outputs\u001b[0m\u001b[0;34m,\u001b[0m\u001b[0;34m\u001b[0m\u001b[0;34m\u001b[0m\u001b[0m\n",
      "\u001b[0;32m~/opt/anaconda3/envs/tf/lib/python3.8/site-packages/tensorflow/python/eager/execute.py\u001b[0m in \u001b[0;36mquick_execute\u001b[0;34m(op_name, num_outputs, inputs, attrs, ctx, name)\u001b[0m\n\u001b[1;32m     57\u001b[0m   \u001b[0;32mtry\u001b[0m\u001b[0;34m:\u001b[0m\u001b[0;34m\u001b[0m\u001b[0;34m\u001b[0m\u001b[0m\n\u001b[1;32m     58\u001b[0m     \u001b[0mctx\u001b[0m\u001b[0;34m.\u001b[0m\u001b[0mensure_initialized\u001b[0m\u001b[0;34m(\u001b[0m\u001b[0;34m)\u001b[0m\u001b[0;34m\u001b[0m\u001b[0;34m\u001b[0m\u001b[0m\n\u001b[0;32m---> 59\u001b[0;31m     tensors = pywrap_tfe.TFE_Py_Execute(ctx._handle, device_name, op_name,\n\u001b[0m\u001b[1;32m     60\u001b[0m                                         inputs, attrs, num_outputs)\n\u001b[1;32m     61\u001b[0m   \u001b[0;32mexcept\u001b[0m \u001b[0mcore\u001b[0m\u001b[0;34m.\u001b[0m\u001b[0m_NotOkStatusException\u001b[0m \u001b[0;32mas\u001b[0m \u001b[0me\u001b[0m\u001b[0;34m:\u001b[0m\u001b[0;34m\u001b[0m\u001b[0;34m\u001b[0m\u001b[0m\n",
      "\u001b[0;31mKeyboardInterrupt\u001b[0m: "
     ]
    }
   ],
   "source": [
    "#df = df.sample(frac=1, random_state=42)\n",
    "x = df_ratings[[\"user\", \"movie\"]].values\n",
    "# Normalize the targets between 0 and 1\n",
    "y = df_ratings[\"rating\"].values  / 5.0 \n",
    "\n",
    "model.compile(\n",
    "    loss='BinaryCrossentropy', optimizer='adam'\n",
    ")\n",
    "history = model.fit(\n",
    "    x=x,\n",
    "    y=y,\n",
    "    batch_size=64,\n",
    "    epochs=4,\n",
    "    verbose=1,\n",
    "    validation_split=0.2,\n",
    ")"
   ]
  },
  {
   "cell_type": "code",
   "execution_count": 30,
   "id": "photographic-version",
   "metadata": {},
   "outputs": [
    {
     "name": "stdout",
     "output_type": "stream",
     "text": [
      "0 user_input\n",
      "1 tf.__operators__.getitem_2\n",
      "2 tf.__operators__.getitem_3\n",
      "3 user_embedding\n",
      "4 movie_embedding\n",
      "5 tf.concat_1\n",
      "6 layer_1\n",
      "7 output\n"
     ]
    }
   ],
   "source": [
    "for i,ly in enumerate(model.layers):\n",
    "    print(i, ly.name)"
   ]
  },
  {
   "cell_type": "code",
   "execution_count": 32,
   "id": "disciplinary-balloon",
   "metadata": {},
   "outputs": [],
   "source": [
    "%load_ext tensorboard"
   ]
  },
  {
   "cell_type": "code",
   "execution_count": 33,
   "id": "literary-copper",
   "metadata": {},
   "outputs": [],
   "source": [
    "from tensorboard.plugins import projector\n",
    "import os\n",
    "# Set up a logs directory, so Tensorboard knows where to look for files\n",
    "log_dir = './logs/mov/'\n",
    "if not os.path.exists(log_dir):\n",
    "    os.makedirs(log_dir)\n",
    "\n",
    "# Save Labels separately on a line-by-line manner.\n",
    "with open(os.path.join(log_dir, 'metadata.tsv'), \"w\") as f:\n",
    "    for i, (t,g) in movie2title_genres.items():\n",
    "        f.write(\"{}\\n\".format(t))\n",
    "    \n",
    "\n",
    "weights = tf.Variable(model.layers[4].get_weights()[0])\n",
    "# Create a checkpoint from embedding, the filename and key are\n",
    "# name of the tensor.\n",
    "checkpoint = tf.train.Checkpoint(embedding=weights)\n",
    "checkpoint.save(os.path.join(log_dir, \"embedding.ckpt\"))\n",
    "\n",
    "# Set up config\n",
    "config = projector.ProjectorConfig()\n",
    "embedding = config.embeddings.add()\n",
    "# The name of the tensor will be suffixed by `/.ATTRIBUTES/VARIABLE_VALUE`\n",
    "embedding.tensor_name = \"embedding/.ATTRIBUTES/VARIABLE_VALUE\"\n",
    "embedding.metadata_path = 'metadata.tsv'\n",
    "projector.visualize_embeddings(log_dir, config)"
   ]
  },
  {
   "cell_type": "code",
   "execution_count": 34,
   "id": "resident-piece",
   "metadata": {
    "scrolled": true
   },
   "outputs": [
    {
     "data": {
      "text/html": [
       "\n",
       "      <iframe id=\"tensorboard-frame-7cad603a240072bd\" width=\"100%\" height=\"800\" frameborder=\"0\">\n",
       "      </iframe>\n",
       "      <script>\n",
       "        (function() {\n",
       "          const frame = document.getElementById(\"tensorboard-frame-7cad603a240072bd\");\n",
       "          const url = new URL(\"/\", window.location);\n",
       "          const port = 6006;\n",
       "          if (port) {\n",
       "            url.port = port;\n",
       "          }\n",
       "          frame.src = url;\n",
       "        })();\n",
       "      </script>\n",
       "    "
      ],
      "text/plain": [
       "<IPython.core.display.HTML object>"
      ]
     },
     "metadata": {},
     "output_type": "display_data"
    }
   ],
   "source": [
    "%tensorboard --logdir ./logs/mov/"
   ]
  },
  {
   "cell_type": "markdown",
   "id": "fluid-curtis",
   "metadata": {
    "id": "fluid-curtis"
   },
   "source": [
    "### Show recommendations"
   ]
  },
  {
   "cell_type": "code",
   "execution_count": 35,
   "id": "orange-tribe",
   "metadata": {
    "id": "orange-tribe"
   },
   "outputs": [],
   "source": [
    "def show_recommendations(user,\n",
    "                         model,\n",
    "                         df_ratings,\n",
    "                         movie2title_genres,\n",
    "                         n_movies=10):\n",
    "\n",
    "    total_movies = set(df_ratings['movie'].unique())\n",
    "    df_user = df_ratings[df_ratings.user == user].copy()\n",
    "    df_user = df_user.sort_values(by=\"rating\", ascending=False)\n",
    "    movies_watched = set(list(df_user['movie'].values))\n",
    "    movies_unwatched = sorted(total_movies - movies_watched)\n",
    "    top_movies = df_user[['movie', 'rating']].head(5)\n",
    "\n",
    "    print(\"Movies with high ratings from user {0}\".format(user))\n",
    "    print('-' * 50)\n",
    "    for _, row in top_movies.iterrows():\n",
    "        title, genres = movie2title_genres[row['movie']]\n",
    "        rating = row['rating']\n",
    "        print('Movie: {0} | Rating: {1}, Genres: {2}'.format(\n",
    "            title, rating, genres))\n",
    "\n",
    "    print()\n",
    "    print(\"Movies with low ratings from user {0}\".format(user))\n",
    "    print('-' * 50)\n",
    "    for _, row in df_user[['movie', 'rating']].tail(5).iterrows():\n",
    "        title, genres = movie2title_genres[row['movie']]\n",
    "        rating = row['rating']\n",
    "        print('Movie: {0} | Rating: {1}, Genres: {2}'.format(\n",
    "            title, rating, genres))\n",
    "\n",
    "    movies_array = np.array(movies_unwatched)\n",
    "    user_array = np.array([user] * len(movies_array))\n",
    "    x = np.vstack([user_array, movies_array]).T\n",
    "\n",
    "    ratings = model.predict(x).flatten()\n",
    "    movie_ratings = [(movies_array[i],ratings[i]) for i in np.argsort(-ratings)[:n_movies]]\n",
    "    \n",
    "    print()\n",
    "    print(\"Movies recommended to user {0}\".format(user))\n",
    "    print('-' * 50)\n",
    "    for movie, rating in movie_ratings:\n",
    "        title, genres = movie2title_genres[movie]\n",
    "        rating = rating * 5\n",
    "        print('Movie: {0} | Rating pred: {1:.1f}, Genres: {2}'.format(\n",
    "            title, rating, genres))\n",
    "        \n",
    "    \n",
    "    movie_ratings = [(movies_array[i],ratings[i]) for i in np.argsort(ratings)[:3]]\n",
    "    print()\n",
    "    print(\"Movies NOT recommended to user {0}\".format(user))\n",
    "    print('-' * 50)\n",
    "    for movie, rating in movie_ratings:\n",
    "        title, genres = movie2title_genres[movie]\n",
    "        rating = rating * 5\n",
    "        print('Movie: {0} | Rating pred: {1:.1f}, Genres: {2}'.format(\n",
    "            title, rating, genres))\n",
    "    \n",
    "    \n",
    "    return"
   ]
  },
  {
   "cell_type": "code",
   "execution_count": 36,
   "id": "banned-territory",
   "metadata": {
    "colab": {
     "base_uri": "https://localhost:8080/"
    },
    "id": "banned-territory",
    "outputId": "c730e3ed-87ac-4cea-a006-d11a4f01f115"
   },
   "outputs": [
    {
     "name": "stdout",
     "output_type": "stream",
     "text": [
      "Movies with high ratings from user 587\n",
      "--------------------------------------------------\n",
      "Movie: Trainspotting (1996) | Rating: 5.0, Genres: Comedy|Crime|Drama\n",
      "Movie: Clerks (1994) | Rating: 5.0, Genres: Comedy\n",
      "Movie: Silence of the Lambs, The (1991) | Rating: 5.0, Genres: Crime|Horror|Thriller\n",
      "Movie: Shawshank Redemption, The (1994) | Rating: 5.0, Genres: Crime|Drama\n",
      "Movie: Usual Suspects, The (1995) | Rating: 5.0, Genres: Crime|Mystery|Thriller\n",
      "\n",
      "Movies with low ratings from user 587\n",
      "--------------------------------------------------\n",
      "Movie: Stargate (1994) | Rating: 2.0, Genres: Action|Adventure|Sci-Fi\n",
      "Movie: Under Siege 2: Dark Territory (1995) | Rating: 2.0, Genres: Action\n",
      "Movie: Net, The (1995) | Rating: 1.0, Genres: Action|Crime|Thriller\n",
      "Movie: Mask, The (1994) | Rating: 1.0, Genres: Action|Comedy|Crime|Fantasy\n",
      "Movie: Babysitter, The (1995) | Rating: 1.0, Genres: Drama|Thriller\n",
      "\n",
      "Movies recommended to user 587\n",
      "--------------------------------------------------\n",
      "Movie: Three Billboards Outside Ebbing, Missouri (2017) | Rating pred: 4.7, Genres: Crime|Drama\n",
      "Movie: Guess Who's Coming to Dinner (1967) | Rating pred: 4.6, Genres: Drama\n",
      "Movie: Outlaw Josey Wales, The (1976) | Rating pred: 4.6, Genres: Action|Adventure|Drama|Thriller|Western\n",
      "Movie: Seventh Seal, The (Sjunde inseglet, Det) (1957) | Rating pred: 4.6, Genres: Drama\n",
      "Movie: Streetcar Named Desire, A (1951) | Rating pred: 4.5, Genres: Drama\n",
      "Movie: Trial, The (Procès, Le) (1962) | Rating pred: 4.5, Genres: Drama\n",
      "Movie: Jules and Jim (Jules et Jim) (1961) | Rating pred: 4.5, Genres: Drama|Romance\n",
      "Movie: Boot, Das (Boat, The) (1981) | Rating pred: 4.5, Genres: Action|Drama|War\n",
      "Movie: Brazil (1985) | Rating pred: 4.5, Genres: Fantasy|Sci-Fi\n",
      "Movie: Dr. Strangelove or: How I Learned to Stop Worrying and Love the Bomb (1964) | Rating pred: 4.5, Genres: Comedy|War\n",
      "\n",
      "Movies NOT recommended to user 587\n",
      "--------------------------------------------------\n",
      "Movie: Catwoman (2004) | Rating pred: 1.0, Genres: Action|Crime|Fantasy\n",
      "Movie: Spice World (1997) | Rating pred: 1.0, Genres: Comedy\n",
      "Movie: Dumb and Dumberer: When Harry Met Lloyd (2003) | Rating pred: 1.1, Genres: Comedy\n"
     ]
    }
   ],
   "source": [
    "unique_users = df_ratings['user'].unique()\n",
    "user = np.random.choice(unique_users)\n",
    "show_recommendations(user, model, df_ratings, movie2title_genres, n_movies=10)"
   ]
  },
  {
   "cell_type": "markdown",
   "id": "frank-adjustment",
   "metadata": {
    "id": "frank-adjustment"
   },
   "source": [
    "## Question 1: Change the embeddings dimensions and add more complexity to the model"
   ]
  },
  {
   "cell_type": "code",
   "execution_count": null,
   "id": "consolidated-rolling",
   "metadata": {
    "id": "consolidated-rolling"
   },
   "outputs": [],
   "source": [
    "user_embedding_size = ...\n",
    "movie_embedding_size = ..."
   ]
  },
  {
   "cell_type": "code",
   "execution_count": null,
   "id": "whole-rally",
   "metadata": {
    "colab": {
     "base_uri": "https://localhost:8080/",
     "height": 368
    },
    "id": "whole-rally",
    "outputId": "a5be65ba-c404-4d18-9046-3b3318338bdf"
   },
   "outputs": [],
   "source": [
    "inputs = tf.keras.Input(shape=(2, ), name='user_input')\n",
    "\n",
    "## user embeddings\n",
    "user_input = inputs[:, 0]\n",
    "user_embedding = layers.Embedding(num_users,\n",
    "                                  ...,\n",
    "                                  name='user_embedding')(user_input)\n",
    "\n",
    "## movie embeddings\n",
    "movie_input = inputs[:, 1]\n",
    "movie_embedding = layers.Embedding(num_movies,\n",
    "                                   ...,\n",
    "                                   name='movie_embedding')(movie_input)\n",
    "\n",
    "## Concat embeddings\n",
    "concat = tf.concat([user_embedding, movie_embedding], axis=1)\n",
    "\n",
    "## Predict Rating\n",
    "layer_1 = ...(concat)\n",
    "\n",
    "## Predict rating\n",
    "outputs = layers.Dense(1, activation='sigmoid', name='output')(layer_1)\n",
    "\n",
    "model = tf.keras.Model(inputs=inputs, outputs=outputs, name='movie')\n"
   ]
  },
  {
   "cell_type": "code",
   "execution_count": null,
   "id": "ideal-pendant",
   "metadata": {
    "id": "ideal-pendant"
   },
   "outputs": [],
   "source": [
    "model.compile(\n",
    "    loss='BinaryCrossentropy', optimizer='adam'\n",
    ")\n",
    "history = model.fit(\n",
    "    x=x,\n",
    "    y=y,\n",
    "    batch_size=64,\n",
    "    epochs=4,\n",
    "    verbose=1,\n",
    "    validation_split=0.2,\n",
    ")"
   ]
  },
  {
   "cell_type": "code",
   "execution_count": null,
   "id": "published-capability",
   "metadata": {
    "id": "published-capability"
   },
   "outputs": [],
   "source": [
    "unique_users = df_ratings['user'].unique()\n",
    "user = np.random.choice(unique_users)\n",
    "show_recommendations(user, model, df_ratings, movie2title_genres, n_movies=10)"
   ]
  },
  {
   "cell_type": "markdown",
   "id": "synthetic-feedback",
   "metadata": {
    "id": "synthetic-feedback"
   },
   "source": [
    "## Bigger Dataset\n"
   ]
  },
  {
   "cell_type": "code",
   "execution_count": null,
   "id": "traditional-philip",
   "metadata": {
    "colab": {
     "base_uri": "https://localhost:8080/"
    },
    "id": "traditional-philip",
    "outputId": "3d2066d9-21f4-4cdf-e639-97a001c79b06"
   },
   "outputs": [],
   "source": [
    "dataset_url = 'http://files.grouplens.org/datasets/movielens/ml-latest.zip'\n",
    "data_dir = tf.keras.utils.get_file('movielens', origin=dataset_url, extract=True)\n",
    "data_dir = pathlib.Path(data_dir)\n",
    "data_dir = data_dir.parent / 'ml-latest'\n",
    "os.listdir(data_dir)"
   ]
  },
  {
   "cell_type": "code",
   "execution_count": null,
   "id": "amber-february",
   "metadata": {
    "id": "amber-february"
   },
   "outputs": [],
   "source": [
    "movies_file = data_dir / \"movies.csv\"\n",
    "ratings_file = data_dir / \"ratings.csv\""
   ]
  },
  {
   "cell_type": "markdown",
   "id": "honey-mining",
   "metadata": {
    "id": "honey-mining"
   },
   "source": [
    "### Data Preparation"
   ]
  },
  {
   "cell_type": "code",
   "execution_count": null,
   "id": "unique-glory",
   "metadata": {
    "colab": {
     "base_uri": "https://localhost:8080/"
    },
    "id": "unique-glory",
    "outputId": "c3eeb856-3eba-4cf8-b1bc-97d970825a59"
   },
   "outputs": [],
   "source": [
    "def prepare_data(ratings_file, movies_file, nrows=750000):\n",
    "\n",
    "    df_ratings = pd.read_csv(ratings_file, nrows=nrows)\n",
    "    df_ratings = sklearn.utils.shuffle(df_ratings)\n",
    "\n",
    "    # Create a user index\n",
    "    user_ids = sorted(list(df_ratings[\"userId\"].unique()))\n",
    "    user2index = {u: ind for ind, u in enumerate(user_ids)}\n",
    "    index2user = {ind: u for u, ind in user2index.items()}\n",
    "    # Create a movie index\n",
    "    movie_ids = sorted(list(df_ratings[\"movieId\"].unique()))\n",
    "    movie2index = {m: ind for ind, m in enumerate(movie_ids)}\n",
    "    index2movie = {ind: m for m, ind in movie2index.items()}\n",
    "    # Change ids\n",
    "    df_ratings[\"user\"] = df_ratings[\"userId\"].apply(\n",
    "        lambda user_id: user2index[user_id])\n",
    "    df_ratings[\"movie\"] = df_ratings[\"movieId\"].apply(\n",
    "        lambda movie_id: movie2index[movie_id])\n",
    "\n",
    "    num_users, num_movies = (len(user2index), len(movie2index))\n",
    "    print(\"Number of users: {0} \\nNumber of Movies: {1}\".format(\n",
    "        num_users, num_movies))\n",
    "\n",
    "    df_movies = pd.read_csv(movies_file)\n",
    "    movie2title_genres = {}\n",
    "    for _, row in df_movies.iterrows():\n",
    "        movie_id = row['movieId']\n",
    "        if movie_id not in movie2index:\n",
    "            continue\n",
    "        movie = movie2index[movie_id]\n",
    "        movie2title_genres[movie] = (row['title'], row['genres'])\n",
    "\n",
    "    return df_ratings, movie2title_genres, num_users, num_movies\n",
    "\n",
    "df_ratings, movie2title_genres, num_users, num_movies = prepare_data(ratings_file, movies_file)\n",
    "print(len(df_ratings))"
   ]
  },
  {
   "cell_type": "markdown",
   "id": "senior-appeal",
   "metadata": {
    "id": "senior-appeal"
   },
   "source": [
    "### Question 2: Obtain a better model and compare the number of parameter"
   ]
  },
  {
   "cell_type": "code",
   "execution_count": null,
   "id": "wrong-ability",
   "metadata": {
    "colab": {
     "base_uri": "https://localhost:8080/"
    },
    "id": "wrong-ability",
    "outputId": "aaaaaf5b-c04c-4d55-b44f-291bc5041e9f"
   },
   "outputs": [],
   "source": [
    "embedding_size = ...\n",
    "inputs = tf.keras.Input(shape=(2, ), name='user_input')\n",
    "\n",
    "## user embeddings\n",
    "user_input = inputs[:, 0]\n",
    "user_embedding = layers.Embedding(\n",
    "    num_users,\n",
    "    ...,\n",
    ")(user_input)\n",
    "\n",
    "## movie embeddings\n",
    "movie_input = inputs[:, 1]\n",
    "movie_embedding = layers.Embedding(num_movies, ...)(movie_input)\n",
    "\n",
    "## Concat embeddings\n",
    "concat = tf.concat([user_embedding, movie_embedding], axis=1)\n",
    "\n",
    "## Predict Rating\n",
    "layer_1 = ...\n",
    "## Predict rating\n",
    "outputs = layers.Dense(1, activation='sigmoid', name='output')(...)\n",
    "\n",
    "model = tf.keras.Model(inputs=inputs, outputs=outputs, name='movie')\n",
    "\n",
    "model.summary()"
   ]
  },
  {
   "cell_type": "code",
   "execution_count": null,
   "id": "-zG114uSRCka",
   "metadata": {
    "id": "-zG114uSRCka"
   },
   "outputs": [],
   "source": [
    "x = df_ratings[[\"user\", \"movie\"]].values\n",
    "# Normalize the targets between 0 and 1\n",
    "y = df_ratings[\"rating\"].values  / 5.0 \n",
    "model.compile(\n",
    "    loss='BinaryCrossentropy', optimizer='adam'\n",
    ")\n",
    "history = model.fit(\n",
    "    x,\n",
    "    y,\n",
    "    validation_split= 0.1,\n",
    "    epochs=5,\n",
    "    verbose=1,\n",
    "    batch_size=512,\n",
    "    shuffle=True\n",
    ")\n"
   ]
  },
  {
   "cell_type": "code",
   "execution_count": null,
   "id": "jXWogzTYRNZ1",
   "metadata": {
    "id": "jXWogzTYRNZ1"
   },
   "outputs": [],
   "source": [
    "unique_users = df_ratings['user'].unique()\n",
    "user = np.random.choice(unique_users)\n",
    "show_recommendations(user, model, df_ratings, movie2title_genres, n_movies=10)"
   ]
  }
 ],
 "metadata": {
  "accelerator": "GPU",
  "colab": {
   "name": "Embedding_layer.ipynb",
   "provenance": []
  },
  "kernelspec": {
   "display_name": "Python 3",
   "language": "python",
   "name": "python3"
  },
  "language_info": {
   "codemirror_mode": {
    "name": "ipython",
    "version": 3
   },
   "file_extension": ".py",
   "mimetype": "text/x-python",
   "name": "python",
   "nbconvert_exporter": "python",
   "pygments_lexer": "ipython3",
   "version": "3.8.5"
  }
 },
 "nbformat": 4,
 "nbformat_minor": 5
}
